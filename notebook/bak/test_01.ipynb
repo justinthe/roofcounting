{
 "cells": [
  {
   "cell_type": "code",
   "execution_count": 1,
   "id": "11dd877f",
   "metadata": {},
   "outputs": [
    {
     "name": "stderr",
     "output_type": "stream",
     "text": [
      "C:\\Users\\jthe\\AppData\\Local\\Temp\\ipykernel_29612\\3863198652.py:11: DeprecationWarning: Please use `gaussian_filter` from the `scipy.ndimage` namespace, the `scipy.ndimage.filters` namespace is deprecated.\n",
      "  from scipy.ndimage.filters import gaussian_filter\n"
     ]
    }
   ],
   "source": [
    "import os\n",
    "import glob\n",
    "import cv2\n",
    "import numpy as np\n",
    "import pandas as pd\n",
    "\n",
    "import h5py\n",
    "import scipy.io as io\n",
    "from PIL import Image\n",
    "from matplotlib import pyplot as plt\n",
    "from scipy.ndimage.filters import gaussian_filter \n",
    "import scipy\n",
    "from scipy import spatial\n",
    "import json\n",
    "from matplotlib import cm as CM\n",
    "from image import *\n",
    "# from model import CSRNet\n",
    "import torch\n",
    "%matplotlib inline\n",
    "\n",
    "from model import CSRNet"
   ]
  },
  {
   "cell_type": "code",
   "execution_count": 2,
   "id": "a5887480",
   "metadata": {},
   "outputs": [],
   "source": [
    "root = 'D:/Dev/project/roofcounting/'\n",
    "label = os.path.join(root, \"data/train_data/images\")        \n",
    "labelled_paths = []\n",
    "for path in glob.glob(os.path.join(label, \"*.png\")):\n",
    "    labelled_paths.append(path)"
   ]
  },
  {
   "cell_type": "code",
   "execution_count": 8,
   "id": "30d20fc6",
   "metadata": {},
   "outputs": [
    {
     "name": "stdout",
     "output_type": "stream",
     "text": [
      "26\n"
     ]
    }
   ],
   "source": [
    "label_file = labelled_paths[0]\n",
    "img = plt.imread(label_file)\n",
    "gt = pd.read_csv(label_file.replace(\".png\", \".csv\"))\n",
    "gt_tmp = gt\n",
    "gt = gt[['x','y']].to_numpy()\n",
    "gt_noidx = gt_tmp.to_records(index=False)\n",
    "print(len(gt))\n"
   ]
  },
  {
   "cell_type": "code",
   "execution_count": 10,
   "id": "5c52bd1a",
   "metadata": {},
   "outputs": [
    {
     "data": {
      "text/plain": [
       "array([[ 395.97018691, 1046.57167284],\n",
       "       [ 689.10795859, 1037.4700963 ],\n",
       "       [ 431.08608977, 1033.97757202],\n",
       "       [ 697.75395134, 1028.55832856],\n",
       "       [ 709.08992603, 1017.90163247],\n",
       "       [ 346.24769778, 1014.02785367],\n",
       "       [ 401.48023059, 1007.86833619],\n",
       "       [ 368.89976788, 1003.2670151 ],\n",
       "       [ 340.00877894,  996.84149553],\n",
       "       [ 743.86909162,  983.57387131],\n",
       "       [ 415.86364757,  956.53046034],\n",
       "       [ 768.1079096 ,  957.56347308],\n",
       "       [ 374.54203749,  950.6275326 ],\n",
       "       [ 327.82985819,  950.16112708],\n",
       "       [ 795.19938341,  929.10349101],\n",
       "       [ 402.38378211,  920.68065181],\n",
       "       [ 803.63864531,  806.03330483],\n",
       "       [ 792.31037317,  702.03140759],\n",
       "       [ 673.4719859 ,  666.05907136],\n",
       "       [ 598.94180553,  590.0072203 ],\n",
       "       [ 444.83017169,  577.40244908],\n",
       "       [ 666.4770197 ,  395.14044375],\n",
       "       [ 698.04796763,  359.56154813],\n",
       "       [ 607.27856948,  311.83770875],\n",
       "       [ 720.9706284 ,  299.30296201],\n",
       "       [ 601.86373544,  290.37584042]])"
      ]
     },
     "execution_count": 10,
     "metadata": {},
     "output_type": "execute_result"
    }
   ],
   "source": [
    "gt"
   ]
  },
  {
   "cell_type": "code",
   "execution_count": null,
   "id": "aa8ef5af",
   "metadata": {},
   "outputs": [],
   "source": [
    "for label_file in labelled_paths: \n",
    "    print(label_file)\n",
    "    img = plt.imread(label_file)\n",
    "    gt = pd.read_csv(label_file.replace(\".png\", \".csv\"))\n",
    "    gt = gt.to_numpy()\n",
    "    k = np.zeros((img.shape[0], img.shape[1]))\n",
    "    for i in range(0, len(gt)):\n",
    "        if int(gt[i][1])<img.shape[0] and int(gt[i][0])<img.shape[1]:\n",
    "            k[int(gt[i][1]), int(gt[i][0])] = 1\n",
    "#     k = gaussian_filter_density(k)  \n",
    "#     with h5py.File(label_file.replace('.png','.h5').replace('images','ground_truth'), 'w') as hf:\n",
    "#             hf['density'] = k "
   ]
  }
 ],
 "metadata": {
  "kernelspec": {
   "display_name": "Python 3 (ipykernel)",
   "language": "python",
   "name": "python3"
  },
  "language_info": {
   "codemirror_mode": {
    "name": "ipython",
    "version": 3
   },
   "file_extension": ".py",
   "mimetype": "text/x-python",
   "name": "python",
   "nbconvert_exporter": "python",
   "pygments_lexer": "ipython3",
   "version": "3.11.5"
  }
 },
 "nbformat": 4,
 "nbformat_minor": 5
}
