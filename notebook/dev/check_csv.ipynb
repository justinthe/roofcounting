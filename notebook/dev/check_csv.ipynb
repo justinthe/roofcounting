{
 "cells": [
  {
   "cell_type": "code",
   "execution_count": 1,
   "id": "76cacf93",
   "metadata": {},
   "outputs": [],
   "source": [
    "import cv2\n",
    "import os\n",
    "import matplotlib.pyplot as plt\n",
    "import numpy as np\n",
    "import pandas as pd"
   ]
  },
  {
   "cell_type": "code",
   "execution_count": 2,
   "id": "4ff31d0b",
   "metadata": {},
   "outputs": [],
   "source": [
    "root = 'D:/Dev/project/roofcounting/'\n",
    "# label = os.path.join(root, \"data/csv/processed\")  \n",
    "file_name = \"Image_125\"\n",
    "file_ext = \".csv\"\n",
    "\n",
    "file = os.path.join(\"data/csv/processed\", (file_name + file_ext))\n",
    "file_path = os.path.join(root, file)\n",
    "\n",
    "csv = pd.read_csv(file_path)"
   ]
  },
  {
   "cell_type": "code",
   "execution_count": 3,
   "id": "d19cebb8",
   "metadata": {},
   "outputs": [],
   "source": [
    "# check if all x and y corresponds to the points\n",
    "image_name = \"Image_Pts_125\"\n",
    "image_ext = \".png\"\n",
    "# image_ext = \".jpg\"\n",
    "image_file = os.path.join(\"data/pts/\", (image_name + image_ext))\n",
    "image_path = os.path.join(root, image_file)\n",
    "image = cv2.imread(image_path)"
   ]
  },
  {
   "cell_type": "code",
   "execution_count": 4,
   "id": "2af317db",
   "metadata": {},
   "outputs": [
    {
     "name": "stdout",
     "output_type": "stream",
     "text": [
      "i: 0, X: 113, Y:421\n",
      "i: 1, X: 113, Y:421\n",
      "i: 2, X: 120, Y:410\n",
      "i: 3, X: 120, Y:410\n",
      "i: 4, X: 116, Y:370\n",
      "i: 5, X: 116, Y:370\n",
      "i: 6, X: 16, Y:349\n",
      "i: 7, X: 16, Y:349\n",
      "i: 8, X: 91, Y:346\n",
      "i: 9, X: 91, Y:346\n",
      "i: 10, X: 86, Y:313\n",
      "i: 11, X: 86, Y:313\n",
      "i: 12, X: 244, Y:309\n",
      "i: 13, X: 244, Y:309\n",
      "i: 14, X: 35, Y:308\n",
      "i: 15, X: 35, Y:308\n",
      "i: 16, X: 68, Y:304\n",
      "i: 17, X: 68, Y:304\n",
      "i: 18, X: 91, Y:299\n",
      "i: 19, X: 91, Y:299\n",
      "i: 20, X: 5, Y:292\n",
      "i: 21, X: 5, Y:292\n",
      "i: 22, X: 123, Y:292\n",
      "i: 23, X: 123, Y:292\n",
      "i: 24, X: 110, Y:286\n",
      "i: 25, X: 110, Y:286\n",
      "i: 26, X: 42, Y:284\n",
      "i: 27, X: 42, Y:284\n",
      "i: 28, X: 76, Y:282\n",
      "i: 29, X: 76, Y:282\n",
      "i: 30, X: 10, Y:179\n",
      "i: 31, X: 10, Y:179\n",
      "i: 32, X: 35, Y:163\n",
      "i: 33, X: 35, Y:163\n",
      "i: 34, X: 17, Y:160\n",
      "i: 35, X: 17, Y:160\n",
      "i: 36, X: 5, Y:148\n",
      "i: 37, X: 5, Y:148\n"
     ]
    }
   ],
   "source": [
    "output = image.copy()\n",
    "\n",
    "for i in range(len(csv)):\n",
    "    print(\"i: {}, X: {}, Y:{}\".format(i, int(csv.loc[i, 'x']), int(csv.loc[i, 'y'])))\n",
    "    cv2.circle(output, (int(csv.loc[i, 'x']), int(csv.loc[i, 'y'])), 1, (0, 255, 0), 4)\n"
   ]
  },
  {
   "cell_type": "code",
   "execution_count": 5,
   "id": "b38308fc",
   "metadata": {},
   "outputs": [
    {
     "data": {
      "text/plain": [
       "<matplotlib.image.AxesImage at 0x16b20c997d0>"
      ]
     },
     "execution_count": 5,
     "metadata": {},
     "output_type": "execute_result"
    },
    {
     "data": {
      "image/png": "[encoded data removed]",
      "text/plain": [
       "<Figure size 640x480 with 1 Axes>"
      ]
     },
     "metadata": {},
     "output_type": "display_data"
    }
   ],
   "source": [
    "plt.imshow(output)"
   ]
  },
  {
   "cell_type": "code",
   "execution_count": null,
   "id": "c2163d90",
   "metadata": {},
   "outputs": [],
   "source": []
  }
 ],
 "metadata": {
  "kernelspec": {
   "display_name": "Python 3 (ipykernel)",
   "language": "python",
   "name": "python3"
  },
  "language_info": {
   "codemirror_mode": {
    "name": "ipython",
    "version": 3
   },
   "file_extension": ".py",
   "mimetype": "text/x-python",
   "name": "python",
   "nbconvert_exporter": "python",
   "pygments_lexer": "ipython3",
   "version": "3.11.5"
  }
 },
 "nbformat": 4,
 "nbformat_minor": 5
}
