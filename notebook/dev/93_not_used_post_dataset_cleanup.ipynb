{
 "cells": [
  {
   "cell_type": "code",
   "execution_count": 3,
   "id": "d0a91a4c",
   "metadata": {},
   "outputs": [],
   "source": [
    "import os\n",
    "import glob\n",
    "import numpy as np\n",
    "import pandas as pd"
   ]
  },
  {
   "cell_type": "markdown",
   "id": "6bef4944",
   "metadata": {},
   "source": [
    "1. iterate train_data/ground_truth folder\n",
    "2. get all files name's -> save it into a list\n",
    "3. iterate train_data/images folder\n",
    "4. get all images name's -> save it into a list\n",
    "5. compare lists : gt vs img\n",
    "6. remove png and csv if name doesnt exist in gt folder"
   ]
  },
  {
   "cell_type": "code",
   "execution_count": 30,
   "id": "dd652b5f",
   "metadata": {},
   "outputs": [
    {
     "name": "stdout",
     "output_type": "stream",
     "text": [
      "123\n",
      "123\n"
     ]
    }
   ],
   "source": [
    "# root = 'D:/Dev/project/roofcounting/'\n",
    "root = '/home/jthe/Dev/project/roofcounting/'\n",
    "\n",
    "img_path_label = os.path.join(root, \"data/train_data/images\")        \n",
    "img_lst = []\n",
    "for path in glob.glob(os.path.join(img_path_label, \"*.png\")):\n",
    "    path_name = path.replace(img_path_label,\"\").replace(\".png\",\"\")\n",
    "    img_lst.append(path_name)\n",
    "    \n",
    "gt_path_label = os.path.join(root, \"data/train_data/ground_truth\")        \n",
    "gt_lst = []\n",
    "for path in glob.glob(os.path.join(gt_path_label, \"*.h5\")):\n",
    "    path_name = path.replace(gt_path_label,\"\").replace(\".h5\",\"\")\n",
    "    gt_lst.append(path_name)    \n",
    "    \n",
    "print(len(img_lst))\n",
    "print(len(gt_lst))"
   ]
  },
  {
   "cell_type": "code",
   "execution_count": 31,
   "id": "457f9610",
   "metadata": {},
   "outputs": [],
   "source": [
    "diff_lst = [x for x in img_lst if x not in gt_lst]"
   ]
  },
  {
   "cell_type": "code",
   "execution_count": 29,
   "id": "220303b8",
   "metadata": {},
   "outputs": [
    {
     "data": {
      "text/plain": [
       "['/Image_80',\n",
       " '/Image_94',\n",
       " '/Image_92',\n",
       " '/Image_72',\n",
       " '/Image_99',\n",
       " '/Image_88',\n",
       " '/Image_7',\n",
       " '/Image_73',\n",
       " '/Image_93',\n",
       " '/Image_78',\n",
       " '/Image_91',\n",
       " '/Image_65',\n",
       " '/Image_82',\n",
       " '/Image_68',\n",
       " '/Image_66',\n",
       " '/Image_75',\n",
       " '/Image_79',\n",
       " '/Image_70',\n",
       " '/Image_83',\n",
       " '/Image_76',\n",
       " '/Image_96',\n",
       " '/Image_8',\n",
       " '/Image_85',\n",
       " '/Image_81',\n",
       " '/Image_95',\n",
       " '/Image_87',\n",
       " '/Image_77',\n",
       " '/Image_86',\n",
       " '/Image_74',\n",
       " '/Image_89',\n",
       " '/Image_97',\n",
       " '/Image_71',\n",
       " '/Image_90',\n",
       " '/Image_67',\n",
       " '/Image_69',\n",
       " '/Image_9',\n",
       " '/Image_98',\n",
       " '/Image_84']"
      ]
     },
     "execution_count": 29,
     "metadata": {},
     "output_type": "execute_result"
    }
   ],
   "source": [
    "# Remove png and csv \n",
    "diff_lst"
   ]
  },
  {
   "cell_type": "code",
   "execution_count": null,
   "id": "a4069f2c",
   "metadata": {},
   "outputs": [],
   "source": []
  }
 ],
 "metadata": {
  "kernelspec": {
   "display_name": "Python 3 (ipykernel)",
   "language": "python",
   "name": "python3"
  },
  "language_info": {
   "codemirror_mode": {
    "name": "ipython",
    "version": 3
   },
   "file_extension": ".py",
   "mimetype": "text/x-python",
   "name": "python",
   "nbconvert_exporter": "python",
   "pygments_lexer": "ipython3",
   "version": "3.11.5"
  }
 },
 "nbformat": 4,
 "nbformat_minor": 5
}
