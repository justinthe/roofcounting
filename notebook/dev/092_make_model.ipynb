{
 "cells": [
  {
   "cell_type": "code",
   "execution_count": 1,
   "id": "79c48208",
   "metadata": {},
   "outputs": [
    {
     "name": "stderr",
     "output_type": "stream",
     "text": [
      "/tmp/ipykernel_8317/1028975186.py:8: DeprecationWarning: Please use `gaussian_filter` from the `scipy.ndimage` namespace, the `scipy.ndimage.filters` namespace is deprecated.\n",
      "  from scipy.ndimage.filters import gaussian_filter\n"
     ]
    }
   ],
   "source": [
    "import h5py\n",
    "import scipy.io as io\n",
    "import PIL.Image as Image\n",
    "import numpy as np\n",
    "import os\n",
    "import glob\n",
    "from matplotlib import pyplot as plt\n",
    "from scipy.ndimage.filters import gaussian_filter \n",
    "import scipy\n",
    "import json\n",
    "import torchvision.transforms.functional as F\n",
    "from matplotlib import cm as CM\n",
    "from image import *\n",
    "from model import CSRNet\n",
    "import torch\n",
    "%matplotlib inline"
   ]
  },
  {
   "cell_type": "code",
   "execution_count": 2,
   "id": "3752c386",
   "metadata": {},
   "outputs": [],
   "source": [
    "from torchvision import datasets, transforms\n",
    "transform=transforms.Compose([\n",
    "                       transforms.ToTensor(),transforms.Normalize(mean=[0.485, 0.456, 0.406],\n",
    "                                     std=[0.229, 0.224, 0.225]),\n",
    "                   ])"
   ]
  },
  {
   "cell_type": "code",
   "execution_count": 3,
   "id": "922433cb",
   "metadata": {},
   "outputs": [],
   "source": [
    "# root = 'D:/Dev/project/roofcounting/'\n",
    "root = '/home/jthe/Dev/project/roofcounting/'"
   ]
  },
  {
   "cell_type": "code",
   "execution_count": 4,
   "id": "56545e4d",
   "metadata": {},
   "outputs": [],
   "source": [
    "part_A_train = os.path.join(root, 'data/train_data', 'images')\n",
    "part_A_test = os.path.join(root, 'data/test_data', 'images')\n",
    "path_sets = [part_A_train]"
   ]
  },
  {
   "cell_type": "code",
   "execution_count": 5,
   "id": "0ee7ef36",
   "metadata": {},
   "outputs": [],
   "source": [
    "img_paths = []\n",
    "for path in path_sets:\n",
    "    for img_path in glob.glob(os.path.join(path, \"*.png\")):\n",
    "        img_paths.append(img_path)"
   ]
  },
  {
   "cell_type": "code",
   "execution_count": 6,
   "id": "13081a0c",
   "metadata": {},
   "outputs": [
    {
     "name": "stderr",
     "output_type": "stream",
     "text": [
      "/home/jthe/anaconda3/envs/roofcount/lib/python3.11/site-packages/torchvision/models/_utils.py:208: UserWarning: The parameter 'pretrained' is deprecated since 0.13 and may be removed in the future, please use 'weights' instead.\n",
      "  warnings.warn(\n",
      "/home/jthe/anaconda3/envs/roofcount/lib/python3.11/site-packages/torchvision/models/_utils.py:223: UserWarning: Arguments other than a weight enum or `None` for 'weights' are deprecated since 0.13 and may be removed in the future. The current behavior is equivalent to passing `weights=VGG16_Weights.IMAGENET1K_V1`. You can also use `weights=VGG16_Weights.DEFAULT` to get the most up-to-date weights.\n",
      "  warnings.warn(msg)\n"
     ]
    }
   ],
   "source": [
    "model = CSRNet()"
   ]
  },
  {
   "cell_type": "code",
   "execution_count": 7,
   "id": "e98304d3",
   "metadata": {},
   "outputs": [],
   "source": [
    "model = model.cuda()"
   ]
  },
  {
   "cell_type": "code",
   "execution_count": 9,
   "id": "36ce1b30",
   "metadata": {},
   "outputs": [
    {
     "ename": "NameError",
     "evalue": "name 'checkpoint' is not defined",
     "output_type": "error",
     "traceback": [
      "\u001b[0;31m---------------------------------------------------------------------------\u001b[0m",
      "\u001b[0;31mNameError\u001b[0m                                 Traceback (most recent call last)",
      "Cell \u001b[0;32mIn[9], line 2\u001b[0m\n\u001b[1;32m      1\u001b[0m \u001b[38;5;66;03m# checkpoint = torch.load('model_best.pth.tar')\u001b[39;00m\n\u001b[0;32m----> 2\u001b[0m model\u001b[38;5;241m.\u001b[39mload_state_dict(checkpoint[\u001b[38;5;124m'\u001b[39m\u001b[38;5;124mstate_dict\u001b[39m\u001b[38;5;124m'\u001b[39m])\n",
      "\u001b[0;31mNameError\u001b[0m: name 'checkpoint' is not defined"
     ]
    }
   ],
   "source": [
    "# checkpoint = torch.load('model_best.pth.tar')\n",
    "model.load_state_dict(checkpoint['state_dict'])"
   ]
  },
  {
   "cell_type": "code",
   "execution_count": 13,
   "id": "378898ca",
   "metadata": {},
   "outputs": [
    {
     "name": "stdout",
     "output_type": "stream",
     "text": [
      "0 35.982810974121094\n",
      "1 84.88446044921875\n",
      "2 101.28921127319336\n",
      "3 146.06652069091797\n",
      "4 175.07921600341797\n",
      "5 338.0636520385742\n",
      "6 376.10584259033203\n",
      "7 452.0951919555664\n",
      "8 827.5802993774414\n",
      "9 918.5312118530273\n",
      "10 1108.709815979004\n",
      "11 1319.3517532348633\n",
      "12 1704.9823989868164\n",
      "13 1765.6164817810059\n",
      "14 1864.8154411315918\n",
      "15 2712.7965202331543\n",
      "16 2818.105411529541\n",
      "17 2836.8709602355957\n",
      "18 2988.6063117980957\n",
      "19 3034.017894744873\n",
      "20 3064.470676422119\n",
      "21 3256.475299835205\n",
      "22 3469.54976272583\n",
      "23 3584.1001625061035\n",
      "24 3641.455638885498\n",
      "25 3701.0410346984863\n",
      "26 4615.097797393799\n",
      "27 5208.267108917236\n",
      "28 5256.054046630859\n",
      "29 5266.795223236084\n",
      "30 6096.771541595459\n",
      "31 6150.8768882751465\n",
      "32 6203.732109069824\n",
      "33 6284.858848571777\n",
      "34 6450.949150085449\n",
      "35 6519.843399047852\n",
      "36 6820.722671508789\n",
      "37 7944.121109008789\n",
      "38 8992.044326782227\n",
      "39 9203.530349731445\n",
      "40 9431.185653686523\n",
      "41 9540.943969726562\n",
      "42 9580.41901397705\n",
      "43 9620.535701751709\n",
      "44 9623.37195968628\n",
      "45 9938.67826461792\n",
      "46 10134.075969696045\n",
      "47 10156.879535675049\n",
      "48 10158.249340057373\n",
      "49 10225.023517608643\n",
      "50 10327.024089813232\n",
      "51 10736.380046844482\n",
      "52 10812.350574493408\n",
      "53 10814.411701202393\n",
      "54 11234.133533477783\n",
      "55 11475.593479156494\n",
      "56 11568.293453216553\n",
      "57 11991.43478012085\n",
      "58 12081.453960418701\n",
      "59 12152.730236053467\n",
      "60 12315.110836029053\n",
      "61 12387.900997161865\n",
      "62 12431.024478912354\n",
      "63 12454.533960342407\n",
      "64 12557.005403518677\n",
      "65 12608.813642501831\n",
      "66 12765.290494918823\n",
      "67 12888.56763267517\n",
      "68 12903.37812614441\n",
      "69 12947.60012626648\n",
      "70 12953.333280563354\n",
      "71 13020.409383773804\n",
      "72 13547.894613265991\n",
      "73 13848.06715965271\n",
      "74 13886.415380477905\n",
      "75 13900.588972091675\n",
      "76 14185.426862716675\n",
      "77 14218.645444869995\n",
      "78 14303.319799423218\n",
      "79 14401.211462020874\n",
      "80 14511.752813339233\n",
      "81 14670.447820663452\n",
      "82 16150.37250328064\n",
      "83 16206.313642501831\n",
      "84 16221.278776168823\n",
      "85 17756.88546562195\n",
      "86 18584.276823043823\n",
      "87 18615.421319961548\n",
      "88 19019.931665420532\n",
      "89 19653.069116592407\n",
      "90 19656.26435661316\n",
      "91 19690.553686141968\n",
      "92 19917.263219833374\n",
      "93 19968.359174728394\n",
      "94 19978.341451644897\n",
      "95 19999.03800010681\n",
      "96 20220.075689315796\n",
      "97 20708.300451278687\n",
      "98 21183.683813095093\n",
      "99 21628.73563194275\n",
      "100 21709.37593650818\n",
      "101 21800.349729537964\n",
      "102 21984.026456832886\n",
      "103 22022.512937545776\n",
      "104 22350.58563041687\n",
      "105 22487.938917160034\n",
      "106 22535.520170211792\n",
      "107 22631.424131393433\n",
      "108 22702.232717514038\n",
      "109 22832.663244247437\n",
      "110 22934.001180648804\n",
      "111 24271.13289451599\n",
      "112 24306.70943260193\n",
      "113 24397.611043930054\n",
      "114 24626.80269432068\n",
      "115 24684.643003463745\n",
      "116 24778.667181015015\n",
      "117 25011.466680526733\n",
      "118 25055.612840652466\n",
      "119 25512.517686843872\n",
      "120 25583.20146369934\n",
      "121 25597.715425491333\n",
      "122 25843.524187088013\n",
      "210.10995274055296\n"
     ]
    }
   ],
   "source": [
    "mae = 0\n",
    "for i in range(len(img_paths)):\n",
    "    img = 255.0 * F.to_tensor(Image.open(img_paths[i]).convert('RGB'))\n",
    "\n",
    "    img[0,:,:]=img[0,:,:]-92.8207477031\n",
    "    img[1,:,:]=img[1,:,:]-95.2757037428\n",
    "    img[2,:,:]=img[2,:,:]-104.877445883\n",
    "    img = img.cuda()\n",
    "    #img = transform(Image.open(img_paths[i]).convert('RGB')).cuda()\n",
    "    gt_file = h5py.File(img_paths[i].replace('.png','.h5').replace('images','ground_truth'),'r')\n",
    "    groundtruth = np.asarray(gt_file['density'])\n",
    "    output = model(img.unsqueeze(0))\n",
    "    mae += abs(output.detach().cpu().sum().numpy()-np.sum(groundtruth))\n",
    "    print(i,mae)\n",
    "print (mae/len(img_paths))"
   ]
  },
  {
   "cell_type": "code",
   "execution_count": null,
   "id": "31262e8c",
   "metadata": {},
   "outputs": [],
   "source": []
  }
 ],
 "metadata": {
  "kernelspec": {
   "display_name": "Python 3 (ipykernel)",
   "language": "python",
   "name": "python3"
  },
  "language_info": {
   "codemirror_mode": {
    "name": "ipython",
    "version": 3
   },
   "file_extension": ".py",
   "mimetype": "text/x-python",
   "name": "python",
   "nbconvert_exporter": "python",
   "pygments_lexer": "ipython3",
   "version": "3.11.5"
  }
 },
 "nbformat": 4,
 "nbformat_minor": 5
}
