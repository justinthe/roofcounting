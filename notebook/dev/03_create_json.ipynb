{
 "cells": [
  {
   "cell_type": "code",
   "execution_count": 1,
   "id": "5e50f6a8",
   "metadata": {},
   "outputs": [],
   "source": [
    "import json\n",
    "import os\n",
    "import glob\n",
    "import numpy as np\n",
    "import pandas as pd"
   ]
  },
  {
   "cell_type": "code",
   "execution_count": 2,
   "id": "54b02482",
   "metadata": {},
   "outputs": [
    {
     "name": "stdout",
     "output_type": "stream",
     "text": [
      "123\n"
     ]
    }
   ],
   "source": [
    "root = 'D:/Dev/project/roofcounting/'\n",
    "# root = '/home/jthe/Dev/project/roofcounting/'\n",
    "\n",
    "img_path_label = os.path.join(root, \"data/train_data/images\")        \n",
    "img_lst = []\n",
    "for path in glob.glob(os.path.join(img_path_label, \"*.png\")):\n",
    "    img_lst.append(path)\n",
    "  \n",
    "print(len(img_lst))"
   ]
  },
  {
   "cell_type": "code",
   "execution_count": 3,
   "id": "80531a98",
   "metadata": {},
   "outputs": [
    {
     "name": "stdout",
     "output_type": "stream",
     "text": [
      "Total: 123, Train: 98, Test: 25\n"
     ]
    }
   ],
   "source": [
    "total_num = len(img_lst)\n",
    "train_num = int(total_num * .8)\n",
    "test_num = total_num - train_num\n",
    "print(\"Total: {}, Train: {}, Test: {}\".format(total_num, train_num, test_num))"
   ]
  },
  {
   "cell_type": "code",
   "execution_count": 4,
   "id": "8fe2b9d4",
   "metadata": {},
   "outputs": [
    {
     "name": "stdout",
     "output_type": "stream",
     "text": [
      "98\n",
      "25\n"
     ]
    }
   ],
   "source": [
    "train_lst = img_lst[:train_num]\n",
    "test_lst = img_lst[train_num:]\n",
    "\n",
    "print(len(train_lst))\n",
    "print(len(test_lst))"
   ]
  },
  {
   "cell_type": "code",
   "execution_count": 5,
   "id": "05e2567a",
   "metadata": {},
   "outputs": [],
   "source": [
    "train_filename = \"part_A_train.json\"\n",
    "\n",
    "with open(train_filename, 'w') as f:\n",
    "    json.dump(train_lst, f)"
   ]
  },
  {
   "cell_type": "code",
   "execution_count": 6,
   "id": "e589f329",
   "metadata": {},
   "outputs": [],
   "source": [
    "test_filename = \"part_A_with_val.json\"\n",
    "\n",
    "with open(test_filename, 'w') as f:\n",
    "    json.dump(test_lst, f)"
   ]
  },
  {
   "cell_type": "code",
   "execution_count": null,
   "id": "ae66b66d",
   "metadata": {},
   "outputs": [],
   "source": []
  }
 ],
 "metadata": {
  "kernelspec": {
   "display_name": "Python 3 (ipykernel)",
   "language": "python",
   "name": "python3"
  },
  "language_info": {
   "codemirror_mode": {
    "name": "ipython",
    "version": 3
   },
   "file_extension": ".py",
   "mimetype": "text/x-python",
   "name": "python",
   "nbconvert_exporter": "python",
   "pygments_lexer": "ipython3",
   "version": "3.11.5"
  }
 },
 "nbformat": 4,
 "nbformat_minor": 5
}
