{
 "cells": [
  {
   "cell_type": "markdown",
   "id": "162a37e8",
   "metadata": {},
   "source": [
    "1. iterate folder\n",
    "2. get csv file\n",
    "3. convert csv to get the x and y of the circles\n",
    "4. save csv to approriate file name\n",
    "5. move all newly created csv file to train folder"
   ]
  },
  {
   "cell_type": "code",
   "execution_count": 1,
   "id": "39c71956",
   "metadata": {},
   "outputs": [
    {
     "name": "stdout",
     "output_type": "stream",
     "text": [
      "PyTables is not installed. No support for HDF output.\n",
      "SQLalchemy is not installed. No support for SQL output.\n"
     ]
    }
   ],
   "source": [
    "import os\n",
    "import glob\n",
    "import cv2\n",
    "import numpy as np\n",
    "import pandas as pd\n",
    "from simpledbf import Dbf5"
   ]
  },
  {
   "cell_type": "code",
   "execution_count": 2,
   "id": "36ed001d",
   "metadata": {},
   "outputs": [],
   "source": [
    "'''\n",
    "process_csv \n",
    "update:\n",
    "20231206 - updated to read dbf instead of csv file\n",
    "\n",
    "\n",
    "parameter(s):\n",
    "    in  : \n",
    "        1.csv_file - string - path of the dbf file to be processed \n",
    "        # csv_file - string - path of the csv file to be processed\n",
    "        2. image_shape - tuple, width and length of the image - default 1056, 816\n",
    "    out : dataframe of the processed csv file\n",
    "\n",
    "csv file sample\n",
    "======================\n",
    "FID;FID_Point_;OBJECTID;X_Point;Y_Point;FID_GridIn;PageName;PageNumber;X_Anchor;Y_Anchor;X_Anchor_1;Y_Anchor_1;X_Anchor_2;Y_Anchor_2;X_Anchor_3;Y_Anchor_3\n",
    "0;19640;19641;736854.093986999940000;9303520.247230000800000;31;A31;1;736592.207902000050000;9303516.227159999300000;736595.050906999970000;9304210.743000000700000;737128.876837000020000;9303514.026709999900000;737131.726303000000000;9304208.544709999100000\n",
    "1;19643;19644;737045.864260999950000;9303526.252170000200000;31;A31;1;736592.207902000050000;9303516.227159999300000;736595.050906999970000;9304210.743000000700000;737128.876837000020000;9303514.026709999900000;737131.726303000000000;9304208.544709999100000\n",
    "\n",
    "Anchor_1 is the upper left dot\n",
    "Anchor_3 is the bottom right dot\n",
    "\n",
    "\n",
    "'''\n",
    "\n",
    "def process_csv(csv_file, image_shape=(1056, 816)):\n",
    "#     csv_raw = pd.read_csv(csv_file, sep=\";\")\n",
    "    dbf = Dbf5(csv_file)\n",
    "    csv_raw = dbf.to_dataframe()\n",
    "    \n",
    "    # get the upper left and bottom right coordinates\n",
    "    x_0 = max(csv_raw['X_Anchor_1'])\n",
    "    x_1 = max(csv_raw['X_Anchor_2'])\n",
    "    y_0 = max(csv_raw['Y_Anchor_1'])\n",
    "    y_1 = max(csv_raw['Y_Anchor_2'])\n",
    "    \n",
    "    # get the ratio - width of the image/width of the coordinates\n",
    "    try:\n",
    "        scale_x = image_shape[1] / (x_1 - x_0)\n",
    "        scale_y = image_shape[0] / (y_0 - y_1)\n",
    "    except ZeroDivisionError as e:\n",
    "        print(\"File: {}; Variables: {}, {}\".format(csv_file, x_1, x_0))\n",
    "        \n",
    "    csv_raw[\"x\"] = csv_raw['X_Point'] - csv_raw['X_Anchor_1']\n",
    "    csv_raw[\"y_raw\"] = csv_raw[\"Y_Point\"] - csv_raw[\"Y_Anchor_1\"]\n",
    "    \n",
    "    csv = csv_raw[csv_raw['y_raw'] < 1][['x','y_raw']]\n",
    "    csv['y'] = abs(csv['y_raw'])\n",
    "    \n",
    "    csv.drop(['y_raw'], axis=1, inplace=True)\n",
    "    csv.reset_index(inplace=True)\n",
    "    \n",
    "    csv['x'] = csv['x'] * scale_x\n",
    "    csv['y'] = csv['y'] * scale_y\n",
    "    \n",
    "    return csv"
   ]
  },
  {
   "cell_type": "code",
   "execution_count": 3,
   "id": "ea261c09",
   "metadata": {},
   "outputs": [],
   "source": [
    "root = 'D:/Dev/project/roofcounting/'\n",
    "label = os.path.join(root, \"data/csv\")        \n",
    "labelled_paths = []\n",
    "for path in glob.glob(os.path.join(label, \"*.dbf\")):\n",
    "    labelled_paths.append(path)\n",
    "\n",
    "for label_file in labelled_paths: \n",
    "#     print(label_file)\n",
    "    csv = process_csv(label_file)\n",
    "    csv_name = label_file.replace(\"Image_\", \"/processed/Image_\").replace(\".dbf\", \".csv\")\n",
    "    csv.to_csv(csv_name, index=False)\n",
    "#     print(\"Label: {}; csv: {}\".format(label_file, csv_name))"
   ]
  },
  {
   "cell_type": "code",
   "execution_count": 6,
   "id": "6aab921f",
   "metadata": {},
   "outputs": [
    {
     "name": "stdout",
     "output_type": "stream",
     "text": [
      "2\n"
     ]
    }
   ],
   "source": [
    "im = (2, 3)\n",
    "print(im[0])"
   ]
  },
  {
   "cell_type": "code",
   "execution_count": null,
   "id": "59878ac3",
   "metadata": {},
   "outputs": [],
   "source": []
  }
 ],
 "metadata": {
  "kernelspec": {
   "display_name": "Python 3 (ipykernel)",
   "language": "python",
   "name": "python3"
  },
  "language_info": {
   "codemirror_mode": {
    "name": "ipython",
    "version": 3
   },
   "file_extension": ".py",
   "mimetype": "text/x-python",
   "name": "python",
   "nbconvert_exporter": "python",
   "pygments_lexer": "ipython3",
   "version": "3.11.5"
  }
 },
 "nbformat": 4,
 "nbformat_minor": 5
}
