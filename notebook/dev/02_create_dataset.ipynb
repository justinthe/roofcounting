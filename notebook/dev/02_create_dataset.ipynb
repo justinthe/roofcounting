{
 "cells": [
  {
   "cell_type": "code",
   "execution_count": 3,
   "id": "ecb705e1",
   "metadata": {},
   "outputs": [
    {
     "name": "stderr",
     "output_type": "stream",
     "text": [
      "/tmp/ipykernel_138530/3863198652.py:11: DeprecationWarning: Please use `gaussian_filter` from the `scipy.ndimage` namespace, the `scipy.ndimage.filters` namespace is deprecated.\n",
      "  from scipy.ndimage.filters import gaussian_filter\n",
      "/home/jthe/anaconda3/envs/roofcount/lib/python3.11/site-packages/torchvision/io/image.py:13: UserWarning: Failed to load image Python extension: 'libc10_cuda.so: cannot open shared object file: No such file or directory'If you don't plan on using image functionality from `torchvision.io`, you can ignore this warning. Otherwise, there might be something wrong with your environment. Did you have `libjpeg` or `libpng` installed before building `torchvision` from source?\n",
      "  warn(\n"
     ]
    }
   ],
   "source": [
    "import os\n",
    "import glob\n",
    "import cv2\n",
    "import numpy as np\n",
    "import pandas as pd\n",
    "\n",
    "import h5py\n",
    "import scipy.io as io\n",
    "from PIL import Image\n",
    "from matplotlib import pyplot as plt\n",
    "from scipy.ndimage.filters import gaussian_filter \n",
    "import scipy\n",
    "from scipy import spatial\n",
    "import json\n",
    "from matplotlib import cm as CM\n",
    "from image import *\n",
    "# from model import CSRNet\n",
    "import torch\n",
    "%matplotlib inline\n",
    "\n",
    "from model import CSRNet"
   ]
  },
  {
   "cell_type": "code",
   "execution_count": 4,
   "id": "1a349617",
   "metadata": {},
   "outputs": [],
   "source": [
    "# this is borrowed from https://github.com/davideverona/deep-crowd-counting_crowdnet\n",
    "def gaussian_filter_density(gt):\n",
    "    print(gt.shape)\n",
    "    density = np.zeros(gt.shape, dtype=np.float32)\n",
    "    gt_count = np.count_nonzero(gt)\n",
    "    if gt_count == 0:\n",
    "        return density\n",
    "\n",
    "#     pts = np.array(zip(np.nonzero(gt)[1], np.nonzero(gt)[0]))\n",
    "    pts = np.array(list(zip(np.nonzero(gt)[1], np.nonzero(gt)[0])))\n",
    "    leafsize = 2048\n",
    "    # build kdtree\n",
    "    tree = scipy.spatial.KDTree(pts.copy(), leafsize=leafsize)\n",
    "    # query kdtree\n",
    "    distances, locations = tree.query(pts, k=4)\n",
    "\n",
    "    print('generate density...')\n",
    "    for i, pt in enumerate(pts):\n",
    "        pt2d = np.zeros(gt.shape, dtype=np.float32)\n",
    "        pt2d[pt[1],pt[0]] = 1.\n",
    "        if gt_count > 1:\n",
    "            sigma = (distances[i][1]+distances[i][2]+distances[i][3])*0.1\n",
    "        else:\n",
    "            sigma = np.average(np.array(gt.shape))/2./2. #case: 1 point\n",
    "        try:\n",
    "            density += scipy.ndimage.filters.gaussian_filter(pt2d, sigma, mode='constant')\n",
    "        except OverflowError:\n",
    "            print(\"ERROR while generating density.\")\n",
    "    print('done.')\n",
    "    return density"
   ]
  },
  {
   "cell_type": "code",
   "execution_count": 5,
   "id": "55130921",
   "metadata": {},
   "outputs": [],
   "source": [
    "# root = 'D:/Dev/project/roofcounting/'\n",
    "root = '/home/jthe/Dev/project/roofcounting/'"
   ]
  },
  {
   "cell_type": "code",
   "execution_count": 6,
   "id": "d9807f32",
   "metadata": {},
   "outputs": [],
   "source": [
    "label = os.path.join(root, \"data/train_data/images\")        \n",
    "labelled_paths = []\n",
    "for path in glob.glob(os.path.join(label, \"*.png\")):\n",
    "    labelled_paths.append(path)"
   ]
  },
  {
   "cell_type": "code",
   "execution_count": 7,
   "id": "ccb22105",
   "metadata": {},
   "outputs": [
    {
     "name": "stdout",
     "output_type": "stream",
     "text": [
      "/home/jthe/Dev/project/roofcounting/data/train_data/images/Image_80.png\n",
      "(1056, 816)\n",
      "generate density...\n"
     ]
    },
    {
     "name": "stderr",
     "output_type": "stream",
     "text": [
      "/tmp/ipykernel_138530/3660275336.py:26: DeprecationWarning: Please use `gaussian_filter` from the `scipy.ndimage` namespace, the `scipy.ndimage.filters` namespace is deprecated.\n",
      "  density += scipy.ndimage.filters.gaussian_filter(pt2d, sigma, mode='constant')\n"
     ]
    },
    {
     "name": "stdout",
     "output_type": "stream",
     "text": [
      "done.\n",
      "/home/jthe/Dev/project/roofcounting/data/train_data/images/Image_118.png\n",
      "(1056, 816)\n",
      "generate density...\n"
     ]
    },
    {
     "name": "stderr",
     "output_type": "stream",
     "text": [
      "/tmp/ipykernel_138530/3660275336.py:26: DeprecationWarning: Please use `gaussian_filter` from the `scipy.ndimage` namespace, the `scipy.ndimage.filters` namespace is deprecated.\n",
      "  density += scipy.ndimage.filters.gaussian_filter(pt2d, sigma, mode='constant')\n"
     ]
    },
    {
     "name": "stdout",
     "output_type": "stream",
     "text": [
      "done.\n",
      "/home/jthe/Dev/project/roofcounting/data/train_data/images/Image_28.png\n",
      "(1056, 816)\n",
      "generate density...\n"
     ]
    },
    {
     "name": "stderr",
     "output_type": "stream",
     "text": [
      "/tmp/ipykernel_138530/3660275336.py:26: DeprecationWarning: Please use `gaussian_filter` from the `scipy.ndimage` namespace, the `scipy.ndimage.filters` namespace is deprecated.\n",
      "  density += scipy.ndimage.filters.gaussian_filter(pt2d, sigma, mode='constant')\n"
     ]
    },
    {
     "name": "stdout",
     "output_type": "stream",
     "text": [
      "done.\n",
      "/home/jthe/Dev/project/roofcounting/data/train_data/images/Image_94.png\n",
      "(1056, 816)\n",
      "generate density...\n"
     ]
    },
    {
     "name": "stderr",
     "output_type": "stream",
     "text": [
      "/tmp/ipykernel_138530/3660275336.py:26: DeprecationWarning: Please use `gaussian_filter` from the `scipy.ndimage` namespace, the `scipy.ndimage.filters` namespace is deprecated.\n",
      "  density += scipy.ndimage.filters.gaussian_filter(pt2d, sigma, mode='constant')\n"
     ]
    },
    {
     "name": "stdout",
     "output_type": "stream",
     "text": [
      "done.\n",
      "/home/jthe/Dev/project/roofcounting/data/train_data/images/Image_111.png\n",
      "(1056, 816)\n",
      "generate density...\n"
     ]
    },
    {
     "name": "stderr",
     "output_type": "stream",
     "text": [
      "/tmp/ipykernel_138530/3660275336.py:26: DeprecationWarning: Please use `gaussian_filter` from the `scipy.ndimage` namespace, the `scipy.ndimage.filters` namespace is deprecated.\n",
      "  density += scipy.ndimage.filters.gaussian_filter(pt2d, sigma, mode='constant')\n"
     ]
    },
    {
     "name": "stdout",
     "output_type": "stream",
     "text": [
      "done.\n",
      "/home/jthe/Dev/project/roofcounting/data/train_data/images/Image_92.png\n",
      "(1056, 816)\n",
      "generate density...\n"
     ]
    },
    {
     "name": "stderr",
     "output_type": "stream",
     "text": [
      "/tmp/ipykernel_138530/3660275336.py:26: DeprecationWarning: Please use `gaussian_filter` from the `scipy.ndimage` namespace, the `scipy.ndimage.filters` namespace is deprecated.\n",
      "  density += scipy.ndimage.filters.gaussian_filter(pt2d, sigma, mode='constant')\n"
     ]
    },
    {
     "name": "stdout",
     "output_type": "stream",
     "text": [
      "done.\n",
      "/home/jthe/Dev/project/roofcounting/data/train_data/images/Image_23.png\n",
      "(1056, 816)\n",
      "generate density...\n"
     ]
    },
    {
     "name": "stderr",
     "output_type": "stream",
     "text": [
      "/tmp/ipykernel_138530/3660275336.py:26: DeprecationWarning: Please use `gaussian_filter` from the `scipy.ndimage` namespace, the `scipy.ndimage.filters` namespace is deprecated.\n",
      "  density += scipy.ndimage.filters.gaussian_filter(pt2d, sigma, mode='constant')\n"
     ]
    },
    {
     "name": "stdout",
     "output_type": "stream",
     "text": [
      "done.\n",
      "/home/jthe/Dev/project/roofcounting/data/train_data/images/Image_50.png\n",
      "(1056, 816)\n",
      "generate density...\n"
     ]
    },
    {
     "name": "stderr",
     "output_type": "stream",
     "text": [
      "/tmp/ipykernel_138530/3660275336.py:26: DeprecationWarning: Please use `gaussian_filter` from the `scipy.ndimage` namespace, the `scipy.ndimage.filters` namespace is deprecated.\n",
      "  density += scipy.ndimage.filters.gaussian_filter(pt2d, sigma, mode='constant')\n"
     ]
    },
    {
     "name": "stdout",
     "output_type": "stream",
     "text": [
      "done.\n",
      "/home/jthe/Dev/project/roofcounting/data/train_data/images/Image_26.png\n",
      "(1056, 816)\n",
      "generate density...\n"
     ]
    },
    {
     "name": "stderr",
     "output_type": "stream",
     "text": [
      "/tmp/ipykernel_138530/3660275336.py:26: DeprecationWarning: Please use `gaussian_filter` from the `scipy.ndimage` namespace, the `scipy.ndimage.filters` namespace is deprecated.\n",
      "  density += scipy.ndimage.filters.gaussian_filter(pt2d, sigma, mode='constant')\n"
     ]
    },
    {
     "name": "stdout",
     "output_type": "stream",
     "text": [
      "done.\n",
      "/home/jthe/Dev/project/roofcounting/data/train_data/images/Image_102.png\n",
      "(1056, 816)\n",
      "generate density...\n"
     ]
    },
    {
     "name": "stderr",
     "output_type": "stream",
     "text": [
      "/tmp/ipykernel_138530/3660275336.py:26: DeprecationWarning: Please use `gaussian_filter` from the `scipy.ndimage` namespace, the `scipy.ndimage.filters` namespace is deprecated.\n",
      "  density += scipy.ndimage.filters.gaussian_filter(pt2d, sigma, mode='constant')\n"
     ]
    },
    {
     "name": "stdout",
     "output_type": "stream",
     "text": [
      "done.\n",
      "/home/jthe/Dev/project/roofcounting/data/train_data/images/Image_116.png\n",
      "(1056, 816)\n",
      "generate density...\n"
     ]
    },
    {
     "name": "stderr",
     "output_type": "stream",
     "text": [
      "/tmp/ipykernel_138530/3660275336.py:26: DeprecationWarning: Please use `gaussian_filter` from the `scipy.ndimage` namespace, the `scipy.ndimage.filters` namespace is deprecated.\n",
      "  density += scipy.ndimage.filters.gaussian_filter(pt2d, sigma, mode='constant')\n"
     ]
    },
    {
     "name": "stdout",
     "output_type": "stream",
     "text": [
      "done.\n",
      "/home/jthe/Dev/project/roofcounting/data/train_data/images/Image_119.png\n",
      "(1056, 816)\n",
      "generate density...\n"
     ]
    },
    {
     "name": "stderr",
     "output_type": "stream",
     "text": [
      "/tmp/ipykernel_138530/3660275336.py:26: DeprecationWarning: Please use `gaussian_filter` from the `scipy.ndimage` namespace, the `scipy.ndimage.filters` namespace is deprecated.\n",
      "  density += scipy.ndimage.filters.gaussian_filter(pt2d, sigma, mode='constant')\n"
     ]
    },
    {
     "name": "stdout",
     "output_type": "stream",
     "text": [
      "done.\n",
      "/home/jthe/Dev/project/roofcounting/data/train_data/images/Image_72.png\n",
      "(1056, 816)\n",
      "generate density...\n"
     ]
    },
    {
     "name": "stderr",
     "output_type": "stream",
     "text": [
      "/tmp/ipykernel_138530/3660275336.py:26: DeprecationWarning: Please use `gaussian_filter` from the `scipy.ndimage` namespace, the `scipy.ndimage.filters` namespace is deprecated.\n",
      "  density += scipy.ndimage.filters.gaussian_filter(pt2d, sigma, mode='constant')\n"
     ]
    },
    {
     "name": "stdout",
     "output_type": "stream",
     "text": [
      "done.\n",
      "/home/jthe/Dev/project/roofcounting/data/train_data/images/Image_99.png\n",
      "(1056, 816)\n",
      "generate density...\n"
     ]
    },
    {
     "name": "stderr",
     "output_type": "stream",
     "text": [
      "/tmp/ipykernel_138530/3660275336.py:26: DeprecationWarning: Please use `gaussian_filter` from the `scipy.ndimage` namespace, the `scipy.ndimage.filters` namespace is deprecated.\n",
      "  density += scipy.ndimage.filters.gaussian_filter(pt2d, sigma, mode='constant')\n"
     ]
    },
    {
     "name": "stdout",
     "output_type": "stream",
     "text": [
      "done.\n",
      "/home/jthe/Dev/project/roofcounting/data/train_data/images/Image_88.png\n",
      "(1056, 816)\n",
      "generate density...\n"
     ]
    },
    {
     "name": "stderr",
     "output_type": "stream",
     "text": [
      "/tmp/ipykernel_138530/3660275336.py:26: DeprecationWarning: Please use `gaussian_filter` from the `scipy.ndimage` namespace, the `scipy.ndimage.filters` namespace is deprecated.\n",
      "  density += scipy.ndimage.filters.gaussian_filter(pt2d, sigma, mode='constant')\n"
     ]
    },
    {
     "name": "stdout",
     "output_type": "stream",
     "text": [
      "done.\n",
      "/home/jthe/Dev/project/roofcounting/data/train_data/images/Image_121.png\n",
      "(1056, 816)\n",
      "generate density...\n"
     ]
    },
    {
     "name": "stderr",
     "output_type": "stream",
     "text": [
      "/tmp/ipykernel_138530/3660275336.py:26: DeprecationWarning: Please use `gaussian_filter` from the `scipy.ndimage` namespace, the `scipy.ndimage.filters` namespace is deprecated.\n",
      "  density += scipy.ndimage.filters.gaussian_filter(pt2d, sigma, mode='constant')\n"
     ]
    },
    {
     "name": "stdout",
     "output_type": "stream",
     "text": [
      "done.\n",
      "/home/jthe/Dev/project/roofcounting/data/train_data/images/Image_27.png\n",
      "(1056, 816)\n",
      "generate density...\n"
     ]
    },
    {
     "name": "stderr",
     "output_type": "stream",
     "text": [
      "/tmp/ipykernel_138530/3660275336.py:26: DeprecationWarning: Please use `gaussian_filter` from the `scipy.ndimage` namespace, the `scipy.ndimage.filters` namespace is deprecated.\n",
      "  density += scipy.ndimage.filters.gaussian_filter(pt2d, sigma, mode='constant')\n"
     ]
    },
    {
     "name": "stdout",
     "output_type": "stream",
     "text": [
      "done.\n",
      "/home/jthe/Dev/project/roofcounting/data/train_data/images/Image_10.png\n",
      "(1056, 816)\n",
      "generate density...\n"
     ]
    },
    {
     "name": "stderr",
     "output_type": "stream",
     "text": [
      "/tmp/ipykernel_138530/3660275336.py:26: DeprecationWarning: Please use `gaussian_filter` from the `scipy.ndimage` namespace, the `scipy.ndimage.filters` namespace is deprecated.\n",
      "  density += scipy.ndimage.filters.gaussian_filter(pt2d, sigma, mode='constant')\n"
     ]
    },
    {
     "name": "stdout",
     "output_type": "stream",
     "text": [
      "done.\n",
      "/home/jthe/Dev/project/roofcounting/data/train_data/images/Image_7.png\n",
      "(1056, 816)\n",
      "generate density...\n"
     ]
    },
    {
     "name": "stderr",
     "output_type": "stream",
     "text": [
      "/tmp/ipykernel_138530/3660275336.py:26: DeprecationWarning: Please use `gaussian_filter` from the `scipy.ndimage` namespace, the `scipy.ndimage.filters` namespace is deprecated.\n",
      "  density += scipy.ndimage.filters.gaussian_filter(pt2d, sigma, mode='constant')\n"
     ]
    },
    {
     "name": "stdout",
     "output_type": "stream",
     "text": [
      "done.\n",
      "/home/jthe/Dev/project/roofcounting/data/train_data/images/Image_17.png\n",
      "(1056, 816)\n",
      "generate density...\n"
     ]
    },
    {
     "name": "stderr",
     "output_type": "stream",
     "text": [
      "/tmp/ipykernel_138530/3660275336.py:26: DeprecationWarning: Please use `gaussian_filter` from the `scipy.ndimage` namespace, the `scipy.ndimage.filters` namespace is deprecated.\n",
      "  density += scipy.ndimage.filters.gaussian_filter(pt2d, sigma, mode='constant')\n"
     ]
    },
    {
     "name": "stdout",
     "output_type": "stream",
     "text": [
      "done.\n",
      "/home/jthe/Dev/project/roofcounting/data/train_data/images/Image_36.png\n",
      "(1056, 816)\n",
      "generate density...\n"
     ]
    },
    {
     "name": "stderr",
     "output_type": "stream",
     "text": [
      "/tmp/ipykernel_138530/3660275336.py:26: DeprecationWarning: Please use `gaussian_filter` from the `scipy.ndimage` namespace, the `scipy.ndimage.filters` namespace is deprecated.\n",
      "  density += scipy.ndimage.filters.gaussian_filter(pt2d, sigma, mode='constant')\n"
     ]
    },
    {
     "name": "stdout",
     "output_type": "stream",
     "text": [
      "done.\n",
      "/home/jthe/Dev/project/roofcounting/data/train_data/images/Image_73.png\n",
      "(1056, 816)\n",
      "generate density...\n"
     ]
    },
    {
     "name": "stderr",
     "output_type": "stream",
     "text": [
      "/tmp/ipykernel_138530/3660275336.py:26: DeprecationWarning: Please use `gaussian_filter` from the `scipy.ndimage` namespace, the `scipy.ndimage.filters` namespace is deprecated.\n",
      "  density += scipy.ndimage.filters.gaussian_filter(pt2d, sigma, mode='constant')\n"
     ]
    },
    {
     "name": "stdout",
     "output_type": "stream",
     "text": [
      "done.\n",
      "/home/jthe/Dev/project/roofcounting/data/train_data/images/Image_49.png\n",
      "(1056, 816)\n",
      "generate density...\n"
     ]
    },
    {
     "name": "stderr",
     "output_type": "stream",
     "text": [
      "/tmp/ipykernel_138530/3660275336.py:26: DeprecationWarning: Please use `gaussian_filter` from the `scipy.ndimage` namespace, the `scipy.ndimage.filters` namespace is deprecated.\n",
      "  density += scipy.ndimage.filters.gaussian_filter(pt2d, sigma, mode='constant')\n"
     ]
    },
    {
     "name": "stdout",
     "output_type": "stream",
     "text": [
      "done.\n",
      "/home/jthe/Dev/project/roofcounting/data/train_data/images/Image_40.png\n",
      "(1056, 816)\n",
      "generate density...\n"
     ]
    },
    {
     "name": "stderr",
     "output_type": "stream",
     "text": [
      "/tmp/ipykernel_138530/3660275336.py:26: DeprecationWarning: Please use `gaussian_filter` from the `scipy.ndimage` namespace, the `scipy.ndimage.filters` namespace is deprecated.\n",
      "  density += scipy.ndimage.filters.gaussian_filter(pt2d, sigma, mode='constant')\n"
     ]
    },
    {
     "name": "stdout",
     "output_type": "stream",
     "text": [
      "done.\n",
      "/home/jthe/Dev/project/roofcounting/data/train_data/images/Image_93.png\n",
      "(1056, 816)\n",
      "generate density...\n"
     ]
    },
    {
     "name": "stderr",
     "output_type": "stream",
     "text": [
      "/tmp/ipykernel_138530/3660275336.py:26: DeprecationWarning: Please use `gaussian_filter` from the `scipy.ndimage` namespace, the `scipy.ndimage.filters` namespace is deprecated.\n",
      "  density += scipy.ndimage.filters.gaussian_filter(pt2d, sigma, mode='constant')\n"
     ]
    },
    {
     "name": "stdout",
     "output_type": "stream",
     "text": [
      "done.\n",
      "/home/jthe/Dev/project/roofcounting/data/train_data/images/Image_18.png\n",
      "(1056, 816)\n",
      "generate density...\n"
     ]
    },
    {
     "name": "stderr",
     "output_type": "stream",
     "text": [
      "/tmp/ipykernel_138530/3660275336.py:26: DeprecationWarning: Please use `gaussian_filter` from the `scipy.ndimage` namespace, the `scipy.ndimage.filters` namespace is deprecated.\n",
      "  density += scipy.ndimage.filters.gaussian_filter(pt2d, sigma, mode='constant')\n"
     ]
    },
    {
     "name": "stdout",
     "output_type": "stream",
     "text": [
      "done.\n",
      "/home/jthe/Dev/project/roofcounting/data/train_data/images/Image_60.png\n",
      "(1056, 816)\n",
      "generate density...\n"
     ]
    },
    {
     "name": "stderr",
     "output_type": "stream",
     "text": [
      "/tmp/ipykernel_138530/3660275336.py:26: DeprecationWarning: Please use `gaussian_filter` from the `scipy.ndimage` namespace, the `scipy.ndimage.filters` namespace is deprecated.\n",
      "  density += scipy.ndimage.filters.gaussian_filter(pt2d, sigma, mode='constant')\n"
     ]
    },
    {
     "name": "stdout",
     "output_type": "stream",
     "text": [
      "done.\n",
      "/home/jthe/Dev/project/roofcounting/data/train_data/images/Image_53.png\n",
      "(1056, 816)\n",
      "generate density...\n"
     ]
    },
    {
     "name": "stderr",
     "output_type": "stream",
     "text": [
      "/tmp/ipykernel_138530/3660275336.py:26: DeprecationWarning: Please use `gaussian_filter` from the `scipy.ndimage` namespace, the `scipy.ndimage.filters` namespace is deprecated.\n",
      "  density += scipy.ndimage.filters.gaussian_filter(pt2d, sigma, mode='constant')\n"
     ]
    },
    {
     "name": "stdout",
     "output_type": "stream",
     "text": [
      "done.\n",
      "/home/jthe/Dev/project/roofcounting/data/train_data/images/Image_78.png\n",
      "(1056, 816)\n",
      "generate density...\n"
     ]
    },
    {
     "name": "stderr",
     "output_type": "stream",
     "text": [
      "/tmp/ipykernel_138530/3660275336.py:26: DeprecationWarning: Please use `gaussian_filter` from the `scipy.ndimage` namespace, the `scipy.ndimage.filters` namespace is deprecated.\n",
      "  density += scipy.ndimage.filters.gaussian_filter(pt2d, sigma, mode='constant')\n"
     ]
    },
    {
     "name": "stdout",
     "output_type": "stream",
     "text": [
      "done.\n",
      "/home/jthe/Dev/project/roofcounting/data/train_data/images/Image_91.png\n",
      "(1056, 816)\n",
      "generate density...\n"
     ]
    },
    {
     "name": "stderr",
     "output_type": "stream",
     "text": [
      "/tmp/ipykernel_138530/3660275336.py:26: DeprecationWarning: Please use `gaussian_filter` from the `scipy.ndimage` namespace, the `scipy.ndimage.filters` namespace is deprecated.\n",
      "  density += scipy.ndimage.filters.gaussian_filter(pt2d, sigma, mode='constant')\n"
     ]
    },
    {
     "name": "stdout",
     "output_type": "stream",
     "text": [
      "done.\n",
      "/home/jthe/Dev/project/roofcounting/data/train_data/images/Image_33.png\n",
      "(1056, 816)\n",
      "generate density...\n"
     ]
    },
    {
     "name": "stderr",
     "output_type": "stream",
     "text": [
      "/tmp/ipykernel_138530/3660275336.py:26: DeprecationWarning: Please use `gaussian_filter` from the `scipy.ndimage` namespace, the `scipy.ndimage.filters` namespace is deprecated.\n",
      "  density += scipy.ndimage.filters.gaussian_filter(pt2d, sigma, mode='constant')\n"
     ]
    },
    {
     "name": "stdout",
     "output_type": "stream",
     "text": [
      "done.\n",
      "/home/jthe/Dev/project/roofcounting/data/train_data/images/Image_110.png\n",
      "(1056, 816)\n",
      "generate density...\n"
     ]
    },
    {
     "name": "stderr",
     "output_type": "stream",
     "text": [
      "/tmp/ipykernel_138530/3660275336.py:26: DeprecationWarning: Please use `gaussian_filter` from the `scipy.ndimage` namespace, the `scipy.ndimage.filters` namespace is deprecated.\n",
      "  density += scipy.ndimage.filters.gaussian_filter(pt2d, sigma, mode='constant')\n"
     ]
    },
    {
     "name": "stdout",
     "output_type": "stream",
     "text": [
      "done.\n",
      "/home/jthe/Dev/project/roofcounting/data/train_data/images/Image_43.png\n",
      "(1056, 816)\n",
      "generate density...\n"
     ]
    },
    {
     "name": "stderr",
     "output_type": "stream",
     "text": [
      "/tmp/ipykernel_138530/3660275336.py:26: DeprecationWarning: Please use `gaussian_filter` from the `scipy.ndimage` namespace, the `scipy.ndimage.filters` namespace is deprecated.\n",
      "  density += scipy.ndimage.filters.gaussian_filter(pt2d, sigma, mode='constant')\n"
     ]
    },
    {
     "name": "stdout",
     "output_type": "stream",
     "text": [
      "done.\n",
      "/home/jthe/Dev/project/roofcounting/data/train_data/images/Image_65.png\n",
      "(1056, 816)\n",
      "generate density...\n",
      "ERROR while generating density.\n",
      "ERROR while generating density.\n",
      "done.\n",
      "/home/jthe/Dev/project/roofcounting/data/train_data/images/Image_11.png\n",
      "(1056, 816)\n",
      "generate density...\n"
     ]
    },
    {
     "name": "stderr",
     "output_type": "stream",
     "text": [
      "/tmp/ipykernel_138530/3660275336.py:26: DeprecationWarning: Please use `gaussian_filter` from the `scipy.ndimage` namespace, the `scipy.ndimage.filters` namespace is deprecated.\n",
      "  density += scipy.ndimage.filters.gaussian_filter(pt2d, sigma, mode='constant')\n",
      "/tmp/ipykernel_138530/3660275336.py:26: DeprecationWarning: Please use `gaussian_filter` from the `scipy.ndimage` namespace, the `scipy.ndimage.filters` namespace is deprecated.\n",
      "  density += scipy.ndimage.filters.gaussian_filter(pt2d, sigma, mode='constant')\n"
     ]
    },
    {
     "name": "stdout",
     "output_type": "stream",
     "text": [
      "done.\n",
      "/home/jthe/Dev/project/roofcounting/data/train_data/images/Image_82.png\n",
      "(1056, 816)\n",
      "generate density...\n"
     ]
    },
    {
     "name": "stderr",
     "output_type": "stream",
     "text": [
      "/tmp/ipykernel_138530/3660275336.py:26: DeprecationWarning: Please use `gaussian_filter` from the `scipy.ndimage` namespace, the `scipy.ndimage.filters` namespace is deprecated.\n",
      "  density += scipy.ndimage.filters.gaussian_filter(pt2d, sigma, mode='constant')\n"
     ]
    },
    {
     "name": "stdout",
     "output_type": "stream",
     "text": [
      "done.\n",
      "/home/jthe/Dev/project/roofcounting/data/train_data/images/Image_68.png\n",
      "(1056, 816)\n",
      "generate density...\n"
     ]
    },
    {
     "name": "stderr",
     "output_type": "stream",
     "text": [
      "/tmp/ipykernel_138530/3660275336.py:26: DeprecationWarning: Please use `gaussian_filter` from the `scipy.ndimage` namespace, the `scipy.ndimage.filters` namespace is deprecated.\n",
      "  density += scipy.ndimage.filters.gaussian_filter(pt2d, sigma, mode='constant')\n"
     ]
    },
    {
     "name": "stdout",
     "output_type": "stream",
     "text": [
      "done.\n",
      "/home/jthe/Dev/project/roofcounting/data/train_data/images/Image_63.png\n",
      "(1056, 816)\n",
      "generate density...\n"
     ]
    },
    {
     "name": "stderr",
     "output_type": "stream",
     "text": [
      "/tmp/ipykernel_138530/3660275336.py:26: DeprecationWarning: Please use `gaussian_filter` from the `scipy.ndimage` namespace, the `scipy.ndimage.filters` namespace is deprecated.\n",
      "  density += scipy.ndimage.filters.gaussian_filter(pt2d, sigma, mode='constant')\n"
     ]
    },
    {
     "name": "stdout",
     "output_type": "stream",
     "text": [
      "done.\n",
      "/home/jthe/Dev/project/roofcounting/data/train_data/images/Image_45.png\n",
      "(1056, 816)\n",
      "generate density...\n"
     ]
    },
    {
     "name": "stderr",
     "output_type": "stream",
     "text": [
      "/tmp/ipykernel_138530/3660275336.py:26: DeprecationWarning: Please use `gaussian_filter` from the `scipy.ndimage` namespace, the `scipy.ndimage.filters` namespace is deprecated.\n",
      "  density += scipy.ndimage.filters.gaussian_filter(pt2d, sigma, mode='constant')\n"
     ]
    },
    {
     "name": "stdout",
     "output_type": "stream",
     "text": [
      "done.\n",
      "/home/jthe/Dev/project/roofcounting/data/train_data/images/Image_113.png\n",
      "(1056, 816)\n",
      "generate density...\n"
     ]
    },
    {
     "name": "stderr",
     "output_type": "stream",
     "text": [
      "/tmp/ipykernel_138530/3660275336.py:26: DeprecationWarning: Please use `gaussian_filter` from the `scipy.ndimage` namespace, the `scipy.ndimage.filters` namespace is deprecated.\n",
      "  density += scipy.ndimage.filters.gaussian_filter(pt2d, sigma, mode='constant')\n"
     ]
    },
    {
     "name": "stdout",
     "output_type": "stream",
     "text": [
      "done.\n",
      "/home/jthe/Dev/project/roofcounting/data/train_data/images/Image_13.png\n",
      "(1056, 816)\n",
      "generate density...\n"
     ]
    },
    {
     "name": "stderr",
     "output_type": "stream",
     "text": [
      "/tmp/ipykernel_138530/3660275336.py:26: DeprecationWarning: Please use `gaussian_filter` from the `scipy.ndimage` namespace, the `scipy.ndimage.filters` namespace is deprecated.\n",
      "  density += scipy.ndimage.filters.gaussian_filter(pt2d, sigma, mode='constant')\n"
     ]
    },
    {
     "name": "stdout",
     "output_type": "stream",
     "text": [
      "done.\n",
      "/home/jthe/Dev/project/roofcounting/data/train_data/images/Image_104.png\n",
      "(1056, 816)\n",
      "generate density...\n"
     ]
    },
    {
     "name": "stderr",
     "output_type": "stream",
     "text": [
      "/tmp/ipykernel_138530/3660275336.py:26: DeprecationWarning: Please use `gaussian_filter` from the `scipy.ndimage` namespace, the `scipy.ndimage.filters` namespace is deprecated.\n",
      "  density += scipy.ndimage.filters.gaussian_filter(pt2d, sigma, mode='constant')\n"
     ]
    },
    {
     "name": "stdout",
     "output_type": "stream",
     "text": [
      "done.\n",
      "/home/jthe/Dev/project/roofcounting/data/train_data/images/Image_54.png\n",
      "(1056, 816)\n",
      "generate density...\n"
     ]
    },
    {
     "name": "stderr",
     "output_type": "stream",
     "text": [
      "/tmp/ipykernel_138530/3660275336.py:26: DeprecationWarning: Please use `gaussian_filter` from the `scipy.ndimage` namespace, the `scipy.ndimage.filters` namespace is deprecated.\n",
      "  density += scipy.ndimage.filters.gaussian_filter(pt2d, sigma, mode='constant')\n"
     ]
    },
    {
     "name": "stdout",
     "output_type": "stream",
     "text": [
      "done.\n",
      "/home/jthe/Dev/project/roofcounting/data/train_data/images/Image_66.png\n",
      "(1056, 816)\n",
      "generate density...\n"
     ]
    },
    {
     "name": "stderr",
     "output_type": "stream",
     "text": [
      "/tmp/ipykernel_138530/3660275336.py:26: DeprecationWarning: Please use `gaussian_filter` from the `scipy.ndimage` namespace, the `scipy.ndimage.filters` namespace is deprecated.\n",
      "  density += scipy.ndimage.filters.gaussian_filter(pt2d, sigma, mode='constant')\n"
     ]
    },
    {
     "name": "stdout",
     "output_type": "stream",
     "text": [
      "done.\n",
      "/home/jthe/Dev/project/roofcounting/data/train_data/images/Image_109.png\n",
      "(1056, 816)\n",
      "generate density...\n"
     ]
    },
    {
     "name": "stderr",
     "output_type": "stream",
     "text": [
      "/tmp/ipykernel_138530/3660275336.py:26: DeprecationWarning: Please use `gaussian_filter` from the `scipy.ndimage` namespace, the `scipy.ndimage.filters` namespace is deprecated.\n",
      "  density += scipy.ndimage.filters.gaussian_filter(pt2d, sigma, mode='constant')\n"
     ]
    },
    {
     "name": "stdout",
     "output_type": "stream",
     "text": [
      "done.\n",
      "/home/jthe/Dev/project/roofcounting/data/train_data/images/Image_29.png\n",
      "(1056, 816)\n",
      "generate density...\n"
     ]
    },
    {
     "name": "stderr",
     "output_type": "stream",
     "text": [
      "/tmp/ipykernel_138530/3660275336.py:26: DeprecationWarning: Please use `gaussian_filter` from the `scipy.ndimage` namespace, the `scipy.ndimage.filters` namespace is deprecated.\n",
      "  density += scipy.ndimage.filters.gaussian_filter(pt2d, sigma, mode='constant')\n"
     ]
    },
    {
     "name": "stdout",
     "output_type": "stream",
     "text": [
      "done.\n",
      "/home/jthe/Dev/project/roofcounting/data/train_data/images/Image_105.png\n",
      "(1056, 816)\n",
      "generate density...\n"
     ]
    },
    {
     "name": "stderr",
     "output_type": "stream",
     "text": [
      "/tmp/ipykernel_138530/3660275336.py:26: DeprecationWarning: Please use `gaussian_filter` from the `scipy.ndimage` namespace, the `scipy.ndimage.filters` namespace is deprecated.\n",
      "  density += scipy.ndimage.filters.gaussian_filter(pt2d, sigma, mode='constant')\n"
     ]
    },
    {
     "name": "stdout",
     "output_type": "stream",
     "text": [
      "done.\n",
      "/home/jthe/Dev/project/roofcounting/data/train_data/images/Image_32.png\n",
      "(1056, 816)\n",
      "generate density...\n"
     ]
    },
    {
     "name": "stderr",
     "output_type": "stream",
     "text": [
      "/tmp/ipykernel_138530/3660275336.py:26: DeprecationWarning: Please use `gaussian_filter` from the `scipy.ndimage` namespace, the `scipy.ndimage.filters` namespace is deprecated.\n",
      "  density += scipy.ndimage.filters.gaussian_filter(pt2d, sigma, mode='constant')\n"
     ]
    },
    {
     "name": "stdout",
     "output_type": "stream",
     "text": [
      "done.\n",
      "/home/jthe/Dev/project/roofcounting/data/train_data/images/Image_75.png\n",
      "(1056, 816)\n",
      "generate density...\n"
     ]
    },
    {
     "name": "stderr",
     "output_type": "stream",
     "text": [
      "/tmp/ipykernel_138530/3660275336.py:26: DeprecationWarning: Please use `gaussian_filter` from the `scipy.ndimage` namespace, the `scipy.ndimage.filters` namespace is deprecated.\n",
      "  density += scipy.ndimage.filters.gaussian_filter(pt2d, sigma, mode='constant')\n"
     ]
    },
    {
     "name": "stdout",
     "output_type": "stream",
     "text": [
      "done.\n",
      "/home/jthe/Dev/project/roofcounting/data/train_data/images/Image_22.png\n",
      "(1056, 816)\n",
      "generate density...\n"
     ]
    },
    {
     "name": "stderr",
     "output_type": "stream",
     "text": [
      "/tmp/ipykernel_138530/3660275336.py:26: DeprecationWarning: Please use `gaussian_filter` from the `scipy.ndimage` namespace, the `scipy.ndimage.filters` namespace is deprecated.\n",
      "  density += scipy.ndimage.filters.gaussian_filter(pt2d, sigma, mode='constant')\n"
     ]
    },
    {
     "name": "stdout",
     "output_type": "stream",
     "text": [
      "done.\n",
      "/home/jthe/Dev/project/roofcounting/data/train_data/images/Image_107.png\n",
      "(1056, 816)\n",
      "generate density...\n",
      "done.\n",
      "/home/jthe/Dev/project/roofcounting/data/train_data/images/Image_115.png\n",
      "(1056, 816)\n",
      "generate density...\n"
     ]
    },
    {
     "name": "stderr",
     "output_type": "stream",
     "text": [
      "/tmp/ipykernel_138530/3660275336.py:26: DeprecationWarning: Please use `gaussian_filter` from the `scipy.ndimage` namespace, the `scipy.ndimage.filters` namespace is deprecated.\n",
      "  density += scipy.ndimage.filters.gaussian_filter(pt2d, sigma, mode='constant')\n",
      "/tmp/ipykernel_138530/3660275336.py:26: DeprecationWarning: Please use `gaussian_filter` from the `scipy.ndimage` namespace, the `scipy.ndimage.filters` namespace is deprecated.\n",
      "  density += scipy.ndimage.filters.gaussian_filter(pt2d, sigma, mode='constant')\n"
     ]
    },
    {
     "name": "stdout",
     "output_type": "stream",
     "text": [
      "done.\n",
      "/home/jthe/Dev/project/roofcounting/data/train_data/images/Image_44.png\n",
      "(1056, 816)\n",
      "generate density...\n"
     ]
    },
    {
     "name": "stderr",
     "output_type": "stream",
     "text": [
      "/tmp/ipykernel_138530/3660275336.py:26: DeprecationWarning: Please use `gaussian_filter` from the `scipy.ndimage` namespace, the `scipy.ndimage.filters` namespace is deprecated.\n",
      "  density += scipy.ndimage.filters.gaussian_filter(pt2d, sigma, mode='constant')\n"
     ]
    },
    {
     "name": "stdout",
     "output_type": "stream",
     "text": [
      "done.\n",
      "/home/jthe/Dev/project/roofcounting/data/train_data/images/Image_79.png\n",
      "(1056, 816)\n",
      "generate density...\n"
     ]
    },
    {
     "name": "stderr",
     "output_type": "stream",
     "text": [
      "/tmp/ipykernel_138530/3660275336.py:26: DeprecationWarning: Please use `gaussian_filter` from the `scipy.ndimage` namespace, the `scipy.ndimage.filters` namespace is deprecated.\n",
      "  density += scipy.ndimage.filters.gaussian_filter(pt2d, sigma, mode='constant')\n"
     ]
    },
    {
     "name": "stdout",
     "output_type": "stream",
     "text": [
      "done.\n",
      "/home/jthe/Dev/project/roofcounting/data/train_data/images/Image_70.png\n",
      "(1056, 816)\n",
      "generate density...\n"
     ]
    },
    {
     "name": "stderr",
     "output_type": "stream",
     "text": [
      "/tmp/ipykernel_138530/3660275336.py:26: DeprecationWarning: Please use `gaussian_filter` from the `scipy.ndimage` namespace, the `scipy.ndimage.filters` namespace is deprecated.\n",
      "  density += scipy.ndimage.filters.gaussian_filter(pt2d, sigma, mode='constant')\n"
     ]
    },
    {
     "name": "stdout",
     "output_type": "stream",
     "text": [
      "done.\n",
      "/home/jthe/Dev/project/roofcounting/data/train_data/images/Image_3.png\n",
      "(1056, 816)\n",
      "generate density...\n"
     ]
    },
    {
     "name": "stderr",
     "output_type": "stream",
     "text": [
      "/tmp/ipykernel_138530/3660275336.py:26: DeprecationWarning: Please use `gaussian_filter` from the `scipy.ndimage` namespace, the `scipy.ndimage.filters` namespace is deprecated.\n",
      "  density += scipy.ndimage.filters.gaussian_filter(pt2d, sigma, mode='constant')\n"
     ]
    },
    {
     "name": "stdout",
     "output_type": "stream",
     "text": [
      "done.\n",
      "/home/jthe/Dev/project/roofcounting/data/train_data/images/Image_83.png\n",
      "(1056, 816)\n",
      "generate density...\n"
     ]
    },
    {
     "name": "stderr",
     "output_type": "stream",
     "text": [
      "/tmp/ipykernel_138530/3660275336.py:26: DeprecationWarning: Please use `gaussian_filter` from the `scipy.ndimage` namespace, the `scipy.ndimage.filters` namespace is deprecated.\n",
      "  density += scipy.ndimage.filters.gaussian_filter(pt2d, sigma, mode='constant')\n"
     ]
    },
    {
     "name": "stdout",
     "output_type": "stream",
     "text": [
      "done.\n",
      "/home/jthe/Dev/project/roofcounting/data/train_data/images/Image_4.png\n",
      "(1056, 816)\n",
      "generate density...\n"
     ]
    },
    {
     "name": "stderr",
     "output_type": "stream",
     "text": [
      "/tmp/ipykernel_138530/3660275336.py:26: DeprecationWarning: Please use `gaussian_filter` from the `scipy.ndimage` namespace, the `scipy.ndimage.filters` namespace is deprecated.\n",
      "  density += scipy.ndimage.filters.gaussian_filter(pt2d, sigma, mode='constant')\n"
     ]
    },
    {
     "name": "stdout",
     "output_type": "stream",
     "text": [
      "done.\n",
      "/home/jthe/Dev/project/roofcounting/data/train_data/images/Image_1.png\n",
      "(1056, 816)\n",
      "generate density...\n"
     ]
    },
    {
     "name": "stderr",
     "output_type": "stream",
     "text": [
      "/tmp/ipykernel_138530/3660275336.py:26: DeprecationWarning: Please use `gaussian_filter` from the `scipy.ndimage` namespace, the `scipy.ndimage.filters` namespace is deprecated.\n",
      "  density += scipy.ndimage.filters.gaussian_filter(pt2d, sigma, mode='constant')\n"
     ]
    },
    {
     "name": "stdout",
     "output_type": "stream",
     "text": [
      "done.\n",
      "/home/jthe/Dev/project/roofcounting/data/train_data/images/Image_103.png\n",
      "(1056, 816)\n",
      "generate density...\n"
     ]
    },
    {
     "name": "stderr",
     "output_type": "stream",
     "text": [
      "/tmp/ipykernel_138530/3660275336.py:26: DeprecationWarning: Please use `gaussian_filter` from the `scipy.ndimage` namespace, the `scipy.ndimage.filters` namespace is deprecated.\n",
      "  density += scipy.ndimage.filters.gaussian_filter(pt2d, sigma, mode='constant')\n"
     ]
    },
    {
     "name": "stdout",
     "output_type": "stream",
     "text": [
      "done.\n",
      "/home/jthe/Dev/project/roofcounting/data/train_data/images/Image_20.png\n",
      "(1056, 816)\n",
      "generate density...\n"
     ]
    },
    {
     "name": "stderr",
     "output_type": "stream",
     "text": [
      "/tmp/ipykernel_138530/3660275336.py:26: DeprecationWarning: Please use `gaussian_filter` from the `scipy.ndimage` namespace, the `scipy.ndimage.filters` namespace is deprecated.\n",
      "  density += scipy.ndimage.filters.gaussian_filter(pt2d, sigma, mode='constant')\n"
     ]
    },
    {
     "name": "stdout",
     "output_type": "stream",
     "text": [
      "done.\n",
      "/home/jthe/Dev/project/roofcounting/data/train_data/images/Image_100.png\n",
      "(1056, 816)\n",
      "generate density...\n"
     ]
    },
    {
     "name": "stderr",
     "output_type": "stream",
     "text": [
      "/tmp/ipykernel_138530/3660275336.py:26: DeprecationWarning: Please use `gaussian_filter` from the `scipy.ndimage` namespace, the `scipy.ndimage.filters` namespace is deprecated.\n",
      "  density += scipy.ndimage.filters.gaussian_filter(pt2d, sigma, mode='constant')\n"
     ]
    },
    {
     "name": "stdout",
     "output_type": "stream",
     "text": [
      "done.\n",
      "/home/jthe/Dev/project/roofcounting/data/train_data/images/Image_16.png\n",
      "(1056, 816)\n",
      "generate density...\n"
     ]
    },
    {
     "name": "stderr",
     "output_type": "stream",
     "text": [
      "/tmp/ipykernel_138530/3660275336.py:26: DeprecationWarning: Please use `gaussian_filter` from the `scipy.ndimage` namespace, the `scipy.ndimage.filters` namespace is deprecated.\n",
      "  density += scipy.ndimage.filters.gaussian_filter(pt2d, sigma, mode='constant')\n"
     ]
    },
    {
     "name": "stdout",
     "output_type": "stream",
     "text": [
      "done.\n",
      "/home/jthe/Dev/project/roofcounting/data/train_data/images/Image_57.png\n",
      "(1056, 816)\n",
      "generate density...\n"
     ]
    },
    {
     "name": "stderr",
     "output_type": "stream",
     "text": [
      "/tmp/ipykernel_138530/3660275336.py:26: DeprecationWarning: Please use `gaussian_filter` from the `scipy.ndimage` namespace, the `scipy.ndimage.filters` namespace is deprecated.\n",
      "  density += scipy.ndimage.filters.gaussian_filter(pt2d, sigma, mode='constant')\n"
     ]
    },
    {
     "name": "stdout",
     "output_type": "stream",
     "text": [
      "done.\n",
      "/home/jthe/Dev/project/roofcounting/data/train_data/images/Image_76.png\n",
      "(1056, 816)\n",
      "generate density...\n",
      "done.\n",
      "/home/jthe/Dev/project/roofcounting/data/train_data/images/Image_96.png\n"
     ]
    },
    {
     "name": "stderr",
     "output_type": "stream",
     "text": [
      "/tmp/ipykernel_138530/3660275336.py:26: DeprecationWarning: Please use `gaussian_filter` from the `scipy.ndimage` namespace, the `scipy.ndimage.filters` namespace is deprecated.\n",
      "  density += scipy.ndimage.filters.gaussian_filter(pt2d, sigma, mode='constant')\n"
     ]
    },
    {
     "name": "stdout",
     "output_type": "stream",
     "text": [
      "(1056, 816)\n",
      "generate density...\n"
     ]
    },
    {
     "name": "stderr",
     "output_type": "stream",
     "text": [
      "/tmp/ipykernel_138530/3660275336.py:26: DeprecationWarning: Please use `gaussian_filter` from the `scipy.ndimage` namespace, the `scipy.ndimage.filters` namespace is deprecated.\n",
      "  density += scipy.ndimage.filters.gaussian_filter(pt2d, sigma, mode='constant')\n"
     ]
    },
    {
     "name": "stdout",
     "output_type": "stream",
     "text": [
      "done.\n",
      "/home/jthe/Dev/project/roofcounting/data/train_data/images/Image_8.png\n",
      "(1056, 816)\n",
      "generate density...\n"
     ]
    },
    {
     "name": "stderr",
     "output_type": "stream",
     "text": [
      "/tmp/ipykernel_138530/3660275336.py:26: DeprecationWarning: Please use `gaussian_filter` from the `scipy.ndimage` namespace, the `scipy.ndimage.filters` namespace is deprecated.\n",
      "  density += scipy.ndimage.filters.gaussian_filter(pt2d, sigma, mode='constant')\n"
     ]
    },
    {
     "name": "stdout",
     "output_type": "stream",
     "text": [
      "done.\n",
      "/home/jthe/Dev/project/roofcounting/data/train_data/images/Image_112.png\n",
      "(1056, 816)\n",
      "generate density...\n"
     ]
    },
    {
     "name": "stderr",
     "output_type": "stream",
     "text": [
      "/tmp/ipykernel_138530/3660275336.py:26: DeprecationWarning: Please use `gaussian_filter` from the `scipy.ndimage` namespace, the `scipy.ndimage.filters` namespace is deprecated.\n",
      "  density += scipy.ndimage.filters.gaussian_filter(pt2d, sigma, mode='constant')\n"
     ]
    },
    {
     "name": "stdout",
     "output_type": "stream",
     "text": [
      "done.\n",
      "/home/jthe/Dev/project/roofcounting/data/train_data/images/Image_85.png\n",
      "(1056, 816)\n",
      "generate density...\n"
     ]
    },
    {
     "name": "stderr",
     "output_type": "stream",
     "text": [
      "/tmp/ipykernel_138530/3660275336.py:26: DeprecationWarning: Please use `gaussian_filter` from the `scipy.ndimage` namespace, the `scipy.ndimage.filters` namespace is deprecated.\n",
      "  density += scipy.ndimage.filters.gaussian_filter(pt2d, sigma, mode='constant')\n"
     ]
    },
    {
     "name": "stdout",
     "output_type": "stream",
     "text": [
      "done.\n",
      "/home/jthe/Dev/project/roofcounting/data/train_data/images/Image_108.png\n",
      "(1056, 816)\n",
      "generate density...\n"
     ]
    },
    {
     "name": "stderr",
     "output_type": "stream",
     "text": [
      "/tmp/ipykernel_138530/3660275336.py:26: DeprecationWarning: Please use `gaussian_filter` from the `scipy.ndimage` namespace, the `scipy.ndimage.filters` namespace is deprecated.\n",
      "  density += scipy.ndimage.filters.gaussian_filter(pt2d, sigma, mode='constant')\n"
     ]
    },
    {
     "name": "stdout",
     "output_type": "stream",
     "text": [
      "done.\n",
      "/home/jthe/Dev/project/roofcounting/data/train_data/images/Image_81.png\n",
      "(1056, 816)\n",
      "generate density...\n"
     ]
    },
    {
     "name": "stderr",
     "output_type": "stream",
     "text": [
      "/tmp/ipykernel_138530/3660275336.py:26: DeprecationWarning: Please use `gaussian_filter` from the `scipy.ndimage` namespace, the `scipy.ndimage.filters` namespace is deprecated.\n",
      "  density += scipy.ndimage.filters.gaussian_filter(pt2d, sigma, mode='constant')\n"
     ]
    },
    {
     "name": "stdout",
     "output_type": "stream",
     "text": [
      "done.\n",
      "/home/jthe/Dev/project/roofcounting/data/train_data/images/Image_25.png\n",
      "(1056, 816)\n",
      "generate density...\n"
     ]
    },
    {
     "name": "stderr",
     "output_type": "stream",
     "text": [
      "/tmp/ipykernel_138530/3660275336.py:26: DeprecationWarning: Please use `gaussian_filter` from the `scipy.ndimage` namespace, the `scipy.ndimage.filters` namespace is deprecated.\n",
      "  density += scipy.ndimage.filters.gaussian_filter(pt2d, sigma, mode='constant')\n"
     ]
    },
    {
     "name": "stdout",
     "output_type": "stream",
     "text": [
      "done.\n",
      "/home/jthe/Dev/project/roofcounting/data/train_data/images/Image_122.png\n",
      "(1056, 816)\n",
      "generate density...\n"
     ]
    },
    {
     "name": "stderr",
     "output_type": "stream",
     "text": [
      "/tmp/ipykernel_138530/3660275336.py:26: DeprecationWarning: Please use `gaussian_filter` from the `scipy.ndimage` namespace, the `scipy.ndimage.filters` namespace is deprecated.\n",
      "  density += scipy.ndimage.filters.gaussian_filter(pt2d, sigma, mode='constant')\n"
     ]
    },
    {
     "name": "stdout",
     "output_type": "stream",
     "text": [
      "done.\n",
      "/home/jthe/Dev/project/roofcounting/data/train_data/images/Image_59.png\n",
      "(1056, 816)\n",
      "generate density...\n"
     ]
    },
    {
     "name": "stderr",
     "output_type": "stream",
     "text": [
      "/tmp/ipykernel_138530/3660275336.py:26: DeprecationWarning: Please use `gaussian_filter` from the `scipy.ndimage` namespace, the `scipy.ndimage.filters` namespace is deprecated.\n",
      "  density += scipy.ndimage.filters.gaussian_filter(pt2d, sigma, mode='constant')\n"
     ]
    },
    {
     "name": "stdout",
     "output_type": "stream",
     "text": [
      "done.\n",
      "/home/jthe/Dev/project/roofcounting/data/train_data/images/Image_41.png\n",
      "(1056, 816)\n",
      "generate density...\n"
     ]
    },
    {
     "name": "stderr",
     "output_type": "stream",
     "text": [
      "/tmp/ipykernel_138530/3660275336.py:26: DeprecationWarning: Please use `gaussian_filter` from the `scipy.ndimage` namespace, the `scipy.ndimage.filters` namespace is deprecated.\n",
      "  density += scipy.ndimage.filters.gaussian_filter(pt2d, sigma, mode='constant')\n"
     ]
    },
    {
     "name": "stdout",
     "output_type": "stream",
     "text": [
      "done.\n",
      "/home/jthe/Dev/project/roofcounting/data/train_data/images/Image_95.png\n",
      "(1056, 816)\n",
      "generate density...\n"
     ]
    },
    {
     "name": "stderr",
     "output_type": "stream",
     "text": [
      "/tmp/ipykernel_138530/3660275336.py:26: DeprecationWarning: Please use `gaussian_filter` from the `scipy.ndimage` namespace, the `scipy.ndimage.filters` namespace is deprecated.\n",
      "  density += scipy.ndimage.filters.gaussian_filter(pt2d, sigma, mode='constant')\n"
     ]
    },
    {
     "name": "stdout",
     "output_type": "stream",
     "text": [
      "done.\n",
      "/home/jthe/Dev/project/roofcounting/data/train_data/images/Image_114.png\n",
      "(1056, 816)\n",
      "generate density...\n"
     ]
    },
    {
     "name": "stderr",
     "output_type": "stream",
     "text": [
      "/tmp/ipykernel_138530/3660275336.py:26: DeprecationWarning: Please use `gaussian_filter` from the `scipy.ndimage` namespace, the `scipy.ndimage.filters` namespace is deprecated.\n",
      "  density += scipy.ndimage.filters.gaussian_filter(pt2d, sigma, mode='constant')\n"
     ]
    },
    {
     "name": "stdout",
     "output_type": "stream",
     "text": [
      "done.\n",
      "/home/jthe/Dev/project/roofcounting/data/train_data/images/Image_58.png\n",
      "(1056, 816)\n",
      "generate density...\n"
     ]
    },
    {
     "name": "stderr",
     "output_type": "stream",
     "text": [
      "/tmp/ipykernel_138530/3660275336.py:26: DeprecationWarning: Please use `gaussian_filter` from the `scipy.ndimage` namespace, the `scipy.ndimage.filters` namespace is deprecated.\n",
      "  density += scipy.ndimage.filters.gaussian_filter(pt2d, sigma, mode='constant')\n"
     ]
    },
    {
     "name": "stdout",
     "output_type": "stream",
     "text": [
      "done.\n",
      "/home/jthe/Dev/project/roofcounting/data/train_data/images/Image_87.png\n",
      "(1056, 816)\n",
      "generate density...\n"
     ]
    },
    {
     "name": "stderr",
     "output_type": "stream",
     "text": [
      "/tmp/ipykernel_138530/3660275336.py:26: DeprecationWarning: Please use `gaussian_filter` from the `scipy.ndimage` namespace, the `scipy.ndimage.filters` namespace is deprecated.\n",
      "  density += scipy.ndimage.filters.gaussian_filter(pt2d, sigma, mode='constant')\n"
     ]
    },
    {
     "name": "stdout",
     "output_type": "stream",
     "text": [
      "done.\n",
      "/home/jthe/Dev/project/roofcounting/data/train_data/images/Image_117.png\n",
      "(1056, 816)\n",
      "generate density...\n"
     ]
    },
    {
     "name": "stderr",
     "output_type": "stream",
     "text": [
      "/tmp/ipykernel_138530/3660275336.py:26: DeprecationWarning: Please use `gaussian_filter` from the `scipy.ndimage` namespace, the `scipy.ndimage.filters` namespace is deprecated.\n",
      "  density += scipy.ndimage.filters.gaussian_filter(pt2d, sigma, mode='constant')\n"
     ]
    },
    {
     "name": "stdout",
     "output_type": "stream",
     "text": [
      "done.\n",
      "/home/jthe/Dev/project/roofcounting/data/train_data/images/Image_31.png\n",
      "(1056, 816)\n",
      "generate density...\n"
     ]
    },
    {
     "name": "stderr",
     "output_type": "stream",
     "text": [
      "/tmp/ipykernel_138530/3660275336.py:26: DeprecationWarning: Please use `gaussian_filter` from the `scipy.ndimage` namespace, the `scipy.ndimage.filters` namespace is deprecated.\n",
      "  density += scipy.ndimage.filters.gaussian_filter(pt2d, sigma, mode='constant')\n"
     ]
    },
    {
     "name": "stdout",
     "output_type": "stream",
     "text": [
      "done.\n",
      "/home/jthe/Dev/project/roofcounting/data/train_data/images/Image_106.png\n",
      "(1056, 816)\n",
      "generate density...\n"
     ]
    },
    {
     "name": "stderr",
     "output_type": "stream",
     "text": [
      "/tmp/ipykernel_138530/3660275336.py:26: DeprecationWarning: Please use `gaussian_filter` from the `scipy.ndimage` namespace, the `scipy.ndimage.filters` namespace is deprecated.\n",
      "  density += scipy.ndimage.filters.gaussian_filter(pt2d, sigma, mode='constant')\n"
     ]
    },
    {
     "name": "stdout",
     "output_type": "stream",
     "text": [
      "done.\n",
      "/home/jthe/Dev/project/roofcounting/data/train_data/images/Image_46.png\n",
      "(1056, 816)\n",
      "generate density...\n"
     ]
    },
    {
     "name": "stderr",
     "output_type": "stream",
     "text": [
      "/tmp/ipykernel_138530/3660275336.py:26: DeprecationWarning: Please use `gaussian_filter` from the `scipy.ndimage` namespace, the `scipy.ndimage.filters` namespace is deprecated.\n",
      "  density += scipy.ndimage.filters.gaussian_filter(pt2d, sigma, mode='constant')\n"
     ]
    },
    {
     "name": "stdout",
     "output_type": "stream",
     "text": [
      "done.\n",
      "/home/jthe/Dev/project/roofcounting/data/train_data/images/Image_77.png\n",
      "(1056, 816)\n",
      "generate density...\n"
     ]
    },
    {
     "name": "stderr",
     "output_type": "stream",
     "text": [
      "/tmp/ipykernel_138530/3660275336.py:26: DeprecationWarning: Please use `gaussian_filter` from the `scipy.ndimage` namespace, the `scipy.ndimage.filters` namespace is deprecated.\n",
      "  density += scipy.ndimage.filters.gaussian_filter(pt2d, sigma, mode='constant')\n"
     ]
    },
    {
     "name": "stdout",
     "output_type": "stream",
     "text": [
      "done.\n",
      "/home/jthe/Dev/project/roofcounting/data/train_data/images/Image_86.png\n",
      "(1056, 816)\n",
      "generate density...\n"
     ]
    },
    {
     "name": "stderr",
     "output_type": "stream",
     "text": [
      "/tmp/ipykernel_138530/3660275336.py:26: DeprecationWarning: Please use `gaussian_filter` from the `scipy.ndimage` namespace, the `scipy.ndimage.filters` namespace is deprecated.\n",
      "  density += scipy.ndimage.filters.gaussian_filter(pt2d, sigma, mode='constant')\n"
     ]
    },
    {
     "name": "stdout",
     "output_type": "stream",
     "text": [
      "done.\n",
      "/home/jthe/Dev/project/roofcounting/data/train_data/images/Image_34.png\n",
      "(1056, 816)\n",
      "generate density...\n"
     ]
    },
    {
     "name": "stderr",
     "output_type": "stream",
     "text": [
      "/tmp/ipykernel_138530/3660275336.py:26: DeprecationWarning: Please use `gaussian_filter` from the `scipy.ndimage` namespace, the `scipy.ndimage.filters` namespace is deprecated.\n",
      "  density += scipy.ndimage.filters.gaussian_filter(pt2d, sigma, mode='constant')\n"
     ]
    },
    {
     "name": "stdout",
     "output_type": "stream",
     "text": [
      "done.\n",
      "/home/jthe/Dev/project/roofcounting/data/train_data/images/Image_47.png\n",
      "(1056, 816)\n",
      "generate density...\n"
     ]
    },
    {
     "name": "stderr",
     "output_type": "stream",
     "text": [
      "/tmp/ipykernel_138530/3660275336.py:26: DeprecationWarning: Please use `gaussian_filter` from the `scipy.ndimage` namespace, the `scipy.ndimage.filters` namespace is deprecated.\n",
      "  density += scipy.ndimage.filters.gaussian_filter(pt2d, sigma, mode='constant')\n"
     ]
    },
    {
     "name": "stdout",
     "output_type": "stream",
     "text": [
      "done.\n",
      "/home/jthe/Dev/project/roofcounting/data/train_data/images/Image_55.png\n",
      "(1056, 816)\n",
      "generate density...\n"
     ]
    },
    {
     "name": "stderr",
     "output_type": "stream",
     "text": [
      "/tmp/ipykernel_138530/3660275336.py:26: DeprecationWarning: Please use `gaussian_filter` from the `scipy.ndimage` namespace, the `scipy.ndimage.filters` namespace is deprecated.\n",
      "  density += scipy.ndimage.filters.gaussian_filter(pt2d, sigma, mode='constant')\n"
     ]
    },
    {
     "name": "stdout",
     "output_type": "stream",
     "text": [
      "done.\n",
      "/home/jthe/Dev/project/roofcounting/data/train_data/images/Image_15.png\n",
      "(1056, 816)\n",
      "generate density...\n"
     ]
    },
    {
     "name": "stderr",
     "output_type": "stream",
     "text": [
      "/tmp/ipykernel_138530/3660275336.py:26: DeprecationWarning: Please use `gaussian_filter` from the `scipy.ndimage` namespace, the `scipy.ndimage.filters` namespace is deprecated.\n",
      "  density += scipy.ndimage.filters.gaussian_filter(pt2d, sigma, mode='constant')\n"
     ]
    },
    {
     "name": "stdout",
     "output_type": "stream",
     "text": [
      "done.\n",
      "/home/jthe/Dev/project/roofcounting/data/train_data/images/Image_21.png\n",
      "(1056, 816)\n",
      "generate density...\n"
     ]
    },
    {
     "name": "stderr",
     "output_type": "stream",
     "text": [
      "/tmp/ipykernel_138530/3660275336.py:26: DeprecationWarning: Please use `gaussian_filter` from the `scipy.ndimage` namespace, the `scipy.ndimage.filters` namespace is deprecated.\n",
      "  density += scipy.ndimage.filters.gaussian_filter(pt2d, sigma, mode='constant')\n"
     ]
    },
    {
     "name": "stdout",
     "output_type": "stream",
     "text": [
      "done.\n",
      "/home/jthe/Dev/project/roofcounting/data/train_data/images/Image_74.png\n",
      "(1056, 816)\n",
      "generate density...\n"
     ]
    },
    {
     "name": "stderr",
     "output_type": "stream",
     "text": [
      "/tmp/ipykernel_138530/3660275336.py:26: DeprecationWarning: Please use `gaussian_filter` from the `scipy.ndimage` namespace, the `scipy.ndimage.filters` namespace is deprecated.\n",
      "  density += scipy.ndimage.filters.gaussian_filter(pt2d, sigma, mode='constant')\n"
     ]
    },
    {
     "name": "stdout",
     "output_type": "stream",
     "text": [
      "done.\n",
      "/home/jthe/Dev/project/roofcounting/data/train_data/images/Image_89.png\n",
      "(1056, 816)\n",
      "generate density...\n"
     ]
    },
    {
     "name": "stderr",
     "output_type": "stream",
     "text": [
      "/tmp/ipykernel_138530/3660275336.py:26: DeprecationWarning: Please use `gaussian_filter` from the `scipy.ndimage` namespace, the `scipy.ndimage.filters` namespace is deprecated.\n",
      "  density += scipy.ndimage.filters.gaussian_filter(pt2d, sigma, mode='constant')\n"
     ]
    },
    {
     "name": "stdout",
     "output_type": "stream",
     "text": [
      "done.\n",
      "/home/jthe/Dev/project/roofcounting/data/train_data/images/Image_19.png\n",
      "(1056, 816)\n",
      "generate density...\n"
     ]
    },
    {
     "name": "stderr",
     "output_type": "stream",
     "text": [
      "/tmp/ipykernel_138530/3660275336.py:26: DeprecationWarning: Please use `gaussian_filter` from the `scipy.ndimage` namespace, the `scipy.ndimage.filters` namespace is deprecated.\n",
      "  density += scipy.ndimage.filters.gaussian_filter(pt2d, sigma, mode='constant')\n"
     ]
    },
    {
     "name": "stdout",
     "output_type": "stream",
     "text": [
      "done.\n",
      "/home/jthe/Dev/project/roofcounting/data/train_data/images/Image_24.png\n",
      "(1056, 816)\n",
      "generate density...\n"
     ]
    },
    {
     "name": "stderr",
     "output_type": "stream",
     "text": [
      "/tmp/ipykernel_138530/3660275336.py:26: DeprecationWarning: Please use `gaussian_filter` from the `scipy.ndimage` namespace, the `scipy.ndimage.filters` namespace is deprecated.\n",
      "  density += scipy.ndimage.filters.gaussian_filter(pt2d, sigma, mode='constant')\n"
     ]
    },
    {
     "name": "stdout",
     "output_type": "stream",
     "text": [
      "done.\n",
      "/home/jthe/Dev/project/roofcounting/data/train_data/images/Image_5.png\n",
      "(1056, 816)\n",
      "generate density...\n"
     ]
    },
    {
     "name": "stderr",
     "output_type": "stream",
     "text": [
      "/tmp/ipykernel_138530/3660275336.py:26: DeprecationWarning: Please use `gaussian_filter` from the `scipy.ndimage` namespace, the `scipy.ndimage.filters` namespace is deprecated.\n",
      "  density += scipy.ndimage.filters.gaussian_filter(pt2d, sigma, mode='constant')\n"
     ]
    },
    {
     "name": "stdout",
     "output_type": "stream",
     "text": [
      "done.\n",
      "/home/jthe/Dev/project/roofcounting/data/train_data/images/Image_38.png\n",
      "(1056, 816)\n",
      "generate density...\n"
     ]
    },
    {
     "name": "stderr",
     "output_type": "stream",
     "text": [
      "/tmp/ipykernel_138530/3660275336.py:26: DeprecationWarning: Please use `gaussian_filter` from the `scipy.ndimage` namespace, the `scipy.ndimage.filters` namespace is deprecated.\n",
      "  density += scipy.ndimage.filters.gaussian_filter(pt2d, sigma, mode='constant')\n"
     ]
    },
    {
     "name": "stdout",
     "output_type": "stream",
     "text": [
      "done.\n",
      "/home/jthe/Dev/project/roofcounting/data/train_data/images/Image_64.png\n",
      "(1056, 816)\n",
      "generate density...\n"
     ]
    },
    {
     "name": "stderr",
     "output_type": "stream",
     "text": [
      "/tmp/ipykernel_138530/3660275336.py:26: DeprecationWarning: Please use `gaussian_filter` from the `scipy.ndimage` namespace, the `scipy.ndimage.filters` namespace is deprecated.\n",
      "  density += scipy.ndimage.filters.gaussian_filter(pt2d, sigma, mode='constant')\n"
     ]
    },
    {
     "name": "stdout",
     "output_type": "stream",
     "text": [
      "done.\n",
      "/home/jthe/Dev/project/roofcounting/data/train_data/images/Image_12.png\n",
      "(1056, 816)\n",
      "generate density...\n"
     ]
    },
    {
     "name": "stderr",
     "output_type": "stream",
     "text": [
      "/tmp/ipykernel_138530/3660275336.py:26: DeprecationWarning: Please use `gaussian_filter` from the `scipy.ndimage` namespace, the `scipy.ndimage.filters` namespace is deprecated.\n",
      "  density += scipy.ndimage.filters.gaussian_filter(pt2d, sigma, mode='constant')\n"
     ]
    },
    {
     "name": "stdout",
     "output_type": "stream",
     "text": [
      "done.\n",
      "/home/jthe/Dev/project/roofcounting/data/train_data/images/Image_48.png\n",
      "(1056, 816)\n",
      "generate density...\n"
     ]
    },
    {
     "name": "stderr",
     "output_type": "stream",
     "text": [
      "/tmp/ipykernel_138530/3660275336.py:26: DeprecationWarning: Please use `gaussian_filter` from the `scipy.ndimage` namespace, the `scipy.ndimage.filters` namespace is deprecated.\n",
      "  density += scipy.ndimage.filters.gaussian_filter(pt2d, sigma, mode='constant')\n"
     ]
    },
    {
     "name": "stdout",
     "output_type": "stream",
     "text": [
      "done.\n",
      "/home/jthe/Dev/project/roofcounting/data/train_data/images/Image_120.png\n",
      "(1056, 816)\n",
      "generate density...\n"
     ]
    },
    {
     "name": "stderr",
     "output_type": "stream",
     "text": [
      "/tmp/ipykernel_138530/3660275336.py:26: DeprecationWarning: Please use `gaussian_filter` from the `scipy.ndimage` namespace, the `scipy.ndimage.filters` namespace is deprecated.\n",
      "  density += scipy.ndimage.filters.gaussian_filter(pt2d, sigma, mode='constant')\n"
     ]
    },
    {
     "name": "stdout",
     "output_type": "stream",
     "text": [
      "done.\n",
      "/home/jthe/Dev/project/roofcounting/data/train_data/images/Image_37.png\n",
      "(1056, 816)\n",
      "generate density...\n"
     ]
    },
    {
     "name": "stderr",
     "output_type": "stream",
     "text": [
      "/tmp/ipykernel_138530/3660275336.py:26: DeprecationWarning: Please use `gaussian_filter` from the `scipy.ndimage` namespace, the `scipy.ndimage.filters` namespace is deprecated.\n",
      "  density += scipy.ndimage.filters.gaussian_filter(pt2d, sigma, mode='constant')\n"
     ]
    },
    {
     "name": "stdout",
     "output_type": "stream",
     "text": [
      "done.\n",
      "/home/jthe/Dev/project/roofcounting/data/train_data/images/Image_101.png\n",
      "(1056, 816)\n",
      "generate density...\n"
     ]
    },
    {
     "name": "stderr",
     "output_type": "stream",
     "text": [
      "/tmp/ipykernel_138530/3660275336.py:26: DeprecationWarning: Please use `gaussian_filter` from the `scipy.ndimage` namespace, the `scipy.ndimage.filters` namespace is deprecated.\n",
      "  density += scipy.ndimage.filters.gaussian_filter(pt2d, sigma, mode='constant')\n"
     ]
    },
    {
     "name": "stdout",
     "output_type": "stream",
     "text": [
      "done.\n",
      "/home/jthe/Dev/project/roofcounting/data/train_data/images/Image_52.png\n",
      "(1056, 816)\n",
      "generate density...\n"
     ]
    },
    {
     "name": "stderr",
     "output_type": "stream",
     "text": [
      "/tmp/ipykernel_138530/3660275336.py:26: DeprecationWarning: Please use `gaussian_filter` from the `scipy.ndimage` namespace, the `scipy.ndimage.filters` namespace is deprecated.\n",
      "  density += scipy.ndimage.filters.gaussian_filter(pt2d, sigma, mode='constant')\n"
     ]
    },
    {
     "name": "stdout",
     "output_type": "stream",
     "text": [
      "done.\n",
      "/home/jthe/Dev/project/roofcounting/data/train_data/images/Image_97.png\n",
      "(1056, 816)\n",
      "generate density...\n"
     ]
    },
    {
     "name": "stderr",
     "output_type": "stream",
     "text": [
      "/tmp/ipykernel_138530/3660275336.py:26: DeprecationWarning: Please use `gaussian_filter` from the `scipy.ndimage` namespace, the `scipy.ndimage.filters` namespace is deprecated.\n",
      "  density += scipy.ndimage.filters.gaussian_filter(pt2d, sigma, mode='constant')\n"
     ]
    },
    {
     "name": "stdout",
     "output_type": "stream",
     "text": [
      "done.\n",
      "/home/jthe/Dev/project/roofcounting/data/train_data/images/Image_14.png\n",
      "(1056, 816)\n",
      "generate density...\n"
     ]
    },
    {
     "name": "stderr",
     "output_type": "stream",
     "text": [
      "/tmp/ipykernel_138530/3660275336.py:26: DeprecationWarning: Please use `gaussian_filter` from the `scipy.ndimage` namespace, the `scipy.ndimage.filters` namespace is deprecated.\n",
      "  density += scipy.ndimage.filters.gaussian_filter(pt2d, sigma, mode='constant')\n"
     ]
    },
    {
     "name": "stdout",
     "output_type": "stream",
     "text": [
      "done.\n",
      "/home/jthe/Dev/project/roofcounting/data/train_data/images/Image_71.png\n",
      "(1056, 816)\n",
      "generate density...\n"
     ]
    },
    {
     "name": "stderr",
     "output_type": "stream",
     "text": [
      "/tmp/ipykernel_138530/3660275336.py:26: DeprecationWarning: Please use `gaussian_filter` from the `scipy.ndimage` namespace, the `scipy.ndimage.filters` namespace is deprecated.\n",
      "  density += scipy.ndimage.filters.gaussian_filter(pt2d, sigma, mode='constant')\n"
     ]
    },
    {
     "name": "stdout",
     "output_type": "stream",
     "text": [
      "done.\n",
      "/home/jthe/Dev/project/roofcounting/data/train_data/images/Image_90.png\n",
      "(1056, 816)\n",
      "generate density...\n"
     ]
    },
    {
     "name": "stderr",
     "output_type": "stream",
     "text": [
      "/tmp/ipykernel_138530/3660275336.py:26: DeprecationWarning: Please use `gaussian_filter` from the `scipy.ndimage` namespace, the `scipy.ndimage.filters` namespace is deprecated.\n",
      "  density += scipy.ndimage.filters.gaussian_filter(pt2d, sigma, mode='constant')\n"
     ]
    },
    {
     "name": "stdout",
     "output_type": "stream",
     "text": [
      "done.\n",
      "/home/jthe/Dev/project/roofcounting/data/train_data/images/Image_2.png\n",
      "(1056, 816)\n",
      "generate density...\n"
     ]
    },
    {
     "name": "stderr",
     "output_type": "stream",
     "text": [
      "/tmp/ipykernel_138530/3660275336.py:26: DeprecationWarning: Please use `gaussian_filter` from the `scipy.ndimage` namespace, the `scipy.ndimage.filters` namespace is deprecated.\n",
      "  density += scipy.ndimage.filters.gaussian_filter(pt2d, sigma, mode='constant')\n"
     ]
    },
    {
     "name": "stdout",
     "output_type": "stream",
     "text": [
      "done.\n",
      "/home/jthe/Dev/project/roofcounting/data/train_data/images/Image_67.png\n",
      "(1056, 816)\n",
      "generate density...\n"
     ]
    },
    {
     "name": "stderr",
     "output_type": "stream",
     "text": [
      "/tmp/ipykernel_138530/3660275336.py:26: DeprecationWarning: Please use `gaussian_filter` from the `scipy.ndimage` namespace, the `scipy.ndimage.filters` namespace is deprecated.\n",
      "  density += scipy.ndimage.filters.gaussian_filter(pt2d, sigma, mode='constant')\n"
     ]
    },
    {
     "name": "stdout",
     "output_type": "stream",
     "text": [
      "done.\n",
      "/home/jthe/Dev/project/roofcounting/data/train_data/images/Image_39.png\n",
      "(1056, 816)\n",
      "generate density...\n"
     ]
    },
    {
     "name": "stderr",
     "output_type": "stream",
     "text": [
      "/tmp/ipykernel_138530/3660275336.py:26: DeprecationWarning: Please use `gaussian_filter` from the `scipy.ndimage` namespace, the `scipy.ndimage.filters` namespace is deprecated.\n",
      "  density += scipy.ndimage.filters.gaussian_filter(pt2d, sigma, mode='constant')\n"
     ]
    },
    {
     "name": "stdout",
     "output_type": "stream",
     "text": [
      "done.\n",
      "/home/jthe/Dev/project/roofcounting/data/train_data/images/Image_69.png\n",
      "(1056, 816)\n",
      "generate density...\n",
      "done.\n",
      "/home/jthe/Dev/project/roofcounting/data/train_data/images/Image_35.png\n",
      "(1056, 816)\n",
      "generate density...\n"
     ]
    },
    {
     "name": "stderr",
     "output_type": "stream",
     "text": [
      "/tmp/ipykernel_138530/3660275336.py:26: DeprecationWarning: Please use `gaussian_filter` from the `scipy.ndimage` namespace, the `scipy.ndimage.filters` namespace is deprecated.\n",
      "  density += scipy.ndimage.filters.gaussian_filter(pt2d, sigma, mode='constant')\n",
      "/tmp/ipykernel_138530/3660275336.py:26: DeprecationWarning: Please use `gaussian_filter` from the `scipy.ndimage` namespace, the `scipy.ndimage.filters` namespace is deprecated.\n",
      "  density += scipy.ndimage.filters.gaussian_filter(pt2d, sigma, mode='constant')\n"
     ]
    },
    {
     "name": "stdout",
     "output_type": "stream",
     "text": [
      "done.\n",
      "/home/jthe/Dev/project/roofcounting/data/train_data/images/Image_42.png\n",
      "(1056, 816)\n",
      "generate density...\n"
     ]
    },
    {
     "name": "stderr",
     "output_type": "stream",
     "text": [
      "/tmp/ipykernel_138530/3660275336.py:26: DeprecationWarning: Please use `gaussian_filter` from the `scipy.ndimage` namespace, the `scipy.ndimage.filters` namespace is deprecated.\n",
      "  density += scipy.ndimage.filters.gaussian_filter(pt2d, sigma, mode='constant')\n"
     ]
    },
    {
     "name": "stdout",
     "output_type": "stream",
     "text": [
      "done.\n",
      "/home/jthe/Dev/project/roofcounting/data/train_data/images/Image_123.png\n",
      "(1056, 816)\n",
      "generate density...\n"
     ]
    },
    {
     "name": "stderr",
     "output_type": "stream",
     "text": [
      "/tmp/ipykernel_138530/3660275336.py:26: DeprecationWarning: Please use `gaussian_filter` from the `scipy.ndimage` namespace, the `scipy.ndimage.filters` namespace is deprecated.\n",
      "  density += scipy.ndimage.filters.gaussian_filter(pt2d, sigma, mode='constant')\n"
     ]
    },
    {
     "name": "stdout",
     "output_type": "stream",
     "text": [
      "done.\n",
      "/home/jthe/Dev/project/roofcounting/data/train_data/images/Image_51.png\n",
      "(1056, 816)\n",
      "generate density...\n"
     ]
    },
    {
     "name": "stderr",
     "output_type": "stream",
     "text": [
      "/tmp/ipykernel_138530/3660275336.py:26: DeprecationWarning: Please use `gaussian_filter` from the `scipy.ndimage` namespace, the `scipy.ndimage.filters` namespace is deprecated.\n",
      "  density += scipy.ndimage.filters.gaussian_filter(pt2d, sigma, mode='constant')\n"
     ]
    },
    {
     "name": "stdout",
     "output_type": "stream",
     "text": [
      "done.\n",
      "/home/jthe/Dev/project/roofcounting/data/train_data/images/Image_6.png\n",
      "(1056, 816)\n",
      "generate density...\n"
     ]
    },
    {
     "name": "stderr",
     "output_type": "stream",
     "text": [
      "/tmp/ipykernel_138530/3660275336.py:26: DeprecationWarning: Please use `gaussian_filter` from the `scipy.ndimage` namespace, the `scipy.ndimage.filters` namespace is deprecated.\n",
      "  density += scipy.ndimage.filters.gaussian_filter(pt2d, sigma, mode='constant')\n"
     ]
    },
    {
     "name": "stdout",
     "output_type": "stream",
     "text": [
      "done.\n",
      "/home/jthe/Dev/project/roofcounting/data/train_data/images/Image_9.png\n",
      "(1056, 816)\n",
      "generate density...\n"
     ]
    },
    {
     "name": "stderr",
     "output_type": "stream",
     "text": [
      "/tmp/ipykernel_138530/3660275336.py:26: DeprecationWarning: Please use `gaussian_filter` from the `scipy.ndimage` namespace, the `scipy.ndimage.filters` namespace is deprecated.\n",
      "  density += scipy.ndimage.filters.gaussian_filter(pt2d, sigma, mode='constant')\n"
     ]
    },
    {
     "name": "stdout",
     "output_type": "stream",
     "text": [
      "done.\n",
      "/home/jthe/Dev/project/roofcounting/data/train_data/images/Image_30.png\n",
      "(1056, 816)\n",
      "generate density...\n"
     ]
    },
    {
     "name": "stderr",
     "output_type": "stream",
     "text": [
      "/tmp/ipykernel_138530/3660275336.py:26: DeprecationWarning: Please use `gaussian_filter` from the `scipy.ndimage` namespace, the `scipy.ndimage.filters` namespace is deprecated.\n",
      "  density += scipy.ndimage.filters.gaussian_filter(pt2d, sigma, mode='constant')\n"
     ]
    },
    {
     "name": "stdout",
     "output_type": "stream",
     "text": [
      "done.\n",
      "/home/jthe/Dev/project/roofcounting/data/train_data/images/Image_56.png\n",
      "(1056, 816)\n",
      "generate density...\n"
     ]
    },
    {
     "name": "stderr",
     "output_type": "stream",
     "text": [
      "/tmp/ipykernel_138530/3660275336.py:26: DeprecationWarning: Please use `gaussian_filter` from the `scipy.ndimage` namespace, the `scipy.ndimage.filters` namespace is deprecated.\n",
      "  density += scipy.ndimage.filters.gaussian_filter(pt2d, sigma, mode='constant')\n"
     ]
    },
    {
     "name": "stdout",
     "output_type": "stream",
     "text": [
      "done.\n",
      "/home/jthe/Dev/project/roofcounting/data/train_data/images/Image_62.png\n",
      "(1056, 816)\n",
      "generate density...\n"
     ]
    },
    {
     "name": "stderr",
     "output_type": "stream",
     "text": [
      "/tmp/ipykernel_138530/3660275336.py:26: DeprecationWarning: Please use `gaussian_filter` from the `scipy.ndimage` namespace, the `scipy.ndimage.filters` namespace is deprecated.\n",
      "  density += scipy.ndimage.filters.gaussian_filter(pt2d, sigma, mode='constant')\n"
     ]
    },
    {
     "name": "stdout",
     "output_type": "stream",
     "text": [
      "done.\n",
      "/home/jthe/Dev/project/roofcounting/data/train_data/images/Image_98.png\n",
      "(1056, 816)\n",
      "generate density...\n"
     ]
    },
    {
     "name": "stderr",
     "output_type": "stream",
     "text": [
      "/tmp/ipykernel_138530/3660275336.py:26: DeprecationWarning: Please use `gaussian_filter` from the `scipy.ndimage` namespace, the `scipy.ndimage.filters` namespace is deprecated.\n",
      "  density += scipy.ndimage.filters.gaussian_filter(pt2d, sigma, mode='constant')\n"
     ]
    },
    {
     "name": "stdout",
     "output_type": "stream",
     "text": [
      "done.\n",
      "/home/jthe/Dev/project/roofcounting/data/train_data/images/Image_84.png\n",
      "(1056, 816)\n",
      "generate density...\n"
     ]
    },
    {
     "name": "stderr",
     "output_type": "stream",
     "text": [
      "/tmp/ipykernel_138530/3660275336.py:26: DeprecationWarning: Please use `gaussian_filter` from the `scipy.ndimage` namespace, the `scipy.ndimage.filters` namespace is deprecated.\n",
      "  density += scipy.ndimage.filters.gaussian_filter(pt2d, sigma, mode='constant')\n"
     ]
    },
    {
     "name": "stdout",
     "output_type": "stream",
     "text": [
      "done.\n",
      "/home/jthe/Dev/project/roofcounting/data/train_data/images/Image_61.png\n",
      "(1056, 816)\n",
      "generate density...\n"
     ]
    },
    {
     "name": "stderr",
     "output_type": "stream",
     "text": [
      "/tmp/ipykernel_138530/3660275336.py:26: DeprecationWarning: Please use `gaussian_filter` from the `scipy.ndimage` namespace, the `scipy.ndimage.filters` namespace is deprecated.\n",
      "  density += scipy.ndimage.filters.gaussian_filter(pt2d, sigma, mode='constant')\n"
     ]
    },
    {
     "name": "stdout",
     "output_type": "stream",
     "text": [
      "done.\n"
     ]
    }
   ],
   "source": [
    "for label_file in labelled_paths: \n",
    "    print(label_file)\n",
    "    img = plt.imread(label_file)\n",
    "    gt = pd.read_csv(label_file.replace(\".png\", \".csv\"))\n",
    "\n",
    "    #     gt = gt.to_numpy()\n",
    "    # need to remove index\n",
    "    gt = gt[['x','y']].to_numpy()\n",
    "\n",
    "    k = np.zeros((img.shape[0], img.shape[1]))\n",
    "    for i in range(0, len(gt)):\n",
    "        if int(gt[i][1])<img.shape[0] and int(gt[i][0])<img.shape[1]:\n",
    "            k[int(gt[i][1]), int(gt[i][0])] = 1\n",
    "    k = gaussian_filter_density(k)  \n",
    "    with h5py.File(label_file.replace('.png','.h5').replace('images','ground_truth'), 'w') as hf:\n",
    "            hf['density'] = k "
   ]
  },
  {
   "cell_type": "code",
   "execution_count": null,
   "id": "50f009a4",
   "metadata": {},
   "outputs": [],
   "source": [
    "## ALL DONE IN 03_post_dataset_cleanup\n",
    "## gaussian_filter will throw an error when there's less than 4 points (because k is set to 4)\n",
    "## we have to iterate dbf folder and check what is there and update the labelled"
   ]
  },
  {
   "cell_type": "code",
   "execution_count": 8,
   "id": "96d7e664",
   "metadata": {},
   "outputs": [
    {
     "data": {
      "text/plain": [
       "123"
      ]
     },
     "execution_count": 8,
     "metadata": {},
     "output_type": "execute_result"
    }
   ],
   "source": [
    "len(labelled_paths)"
   ]
  },
  {
   "cell_type": "code",
   "execution_count": 11,
   "id": "d1c10734",
   "metadata": {},
   "outputs": [
    {
     "name": "stdout",
     "output_type": "stream",
     "text": [
      "/home/jthe/Dev/project/roofcounting/data/train_data/images/Image_65.png\n"
     ]
    },
    {
     "data": {
      "text/plain": [
       "<matplotlib.image.AxesImage at 0x7f42ce0ede90>"
      ]
     },
     "execution_count": 11,
     "metadata": {},
     "output_type": "execute_result"
    },
    {
     "data": {
      "image/png": "[encoded data removed]",
      "text/plain": [
       "<Figure size 640x480 with 1 Axes>"
      ]
     },
     "metadata": {},
     "output_type": "display_data"
    }
   ],
   "source": [
    "# sanitycheck_path = \"/home/jthe/Dev/project/roofcounting/data/train_data/images/Image_65.png\"\n",
    "sanitycheck_path = labelled_paths[61]\n",
    "print(sanitycheck_path)\n",
    "plt.imshow(Image.open(sanitycheck_path))"
   ]
  },
  {
   "cell_type": "code",
   "execution_count": 12,
   "id": "47cb7dcd",
   "metadata": {},
   "outputs": [
    {
     "name": "stdout",
     "output_type": "stream",
     "text": [
      "0.0\n"
     ]
    },
    {
     "data": {
      "image/png": "[encoded data removed]",
      "text/plain": [
       "<Figure size 640x480 with 1 Axes>"
      ]
     },
     "metadata": {},
     "output_type": "display_data"
    }
   ],
   "source": [
    "gt_file = h5py.File(sanitycheck_path.replace('.png','.h5').replace('images','ground_truth'),'r')\n",
    "groundtruth = np.asarray(gt_file['density'])\n",
    "plt.imshow(groundtruth,cmap=CM.jet)\n",
    "# don't mind this slight variation\n",
    "print(np.sum(groundtruth))"
   ]
  },
  {
   "cell_type": "code",
   "execution_count": 37,
   "id": "2c2986cc",
   "metadata": {},
   "outputs": [
    {
     "data": {
      "text/plain": [
       "343.17447"
      ]
     },
     "execution_count": 37,
     "metadata": {},
     "output_type": "execute_result"
    }
   ],
   "source": []
  },
  {
   "cell_type": "code",
   "execution_count": null,
   "id": "627c74fc",
   "metadata": {},
   "outputs": [],
   "source": []
  }
 ],
 "metadata": {
  "kernelspec": {
   "display_name": "Python 3 (ipykernel)",
   "language": "python",
   "name": "python3"
  },
  "language_info": {
   "codemirror_mode": {
    "name": "ipython",
    "version": 3
   },
   "file_extension": ".py",
   "mimetype": "text/x-python",
   "name": "python",
   "nbconvert_exporter": "python",
   "pygments_lexer": "ipython3",
   "version": "3.11.5"
  }
 },
 "nbformat": 4,
 "nbformat_minor": 5
}
