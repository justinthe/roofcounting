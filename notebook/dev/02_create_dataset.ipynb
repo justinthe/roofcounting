{
 "cells": [
  {
   "cell_type": "code",
   "execution_count": 1,
   "id": "ecb705e1",
   "metadata": {},
   "outputs": [
    {
     "name": "stderr",
     "output_type": "stream",
     "text": [
      "C:\\Users\\jthe\\AppData\\Local\\Temp\\ipykernel_29360\\3863198652.py:11: DeprecationWarning: Please use `gaussian_filter` from the `scipy.ndimage` namespace, the `scipy.ndimage.filters` namespace is deprecated.\n",
      "  from scipy.ndimage.filters import gaussian_filter\n"
     ]
    }
   ],
   "source": [
    "import os\n",
    "import glob\n",
    "import cv2\n",
    "import numpy as np\n",
    "import pandas as pd\n",
    "\n",
    "import h5py\n",
    "import scipy.io as io\n",
    "from PIL import Image\n",
    "from matplotlib import pyplot as plt\n",
    "from scipy.ndimage.filters import gaussian_filter \n",
    "import scipy\n",
    "from scipy import spatial\n",
    "import json\n",
    "from matplotlib import cm as CM\n",
    "from image import *\n",
    "# from model import CSRNet\n",
    "import torch\n",
    "%matplotlib inline\n",
    "\n",
    "from model import CSRNet"
   ]
  },
  {
   "cell_type": "code",
   "execution_count": 2,
   "id": "1a349617",
   "metadata": {},
   "outputs": [],
   "source": [
    "# this is borrowed from https://github.com/davideverona/deep-crowd-counting_crowdnet\n",
    "def gaussian_filter_density(gt):\n",
    "    print(gt.shape)\n",
    "    density = np.zeros(gt.shape, dtype=np.float32)\n",
    "    gt_count = np.count_nonzero(gt)\n",
    "    if gt_count == 0:\n",
    "        return density\n",
    "\n",
    "#     pts = np.array(zip(np.nonzero(gt)[1], np.nonzero(gt)[0]))\n",
    "    pts = np.array(list(zip(np.nonzero(gt)[1], np.nonzero(gt)[0])))\n",
    "    leafsize = 2048\n",
    "    # build kdtree\n",
    "    tree = scipy.spatial.KDTree(pts.copy(), leafsize=leafsize)\n",
    "    # query kdtree\n",
    "    distances, locations = tree.query(pts, k=4)\n",
    "\n",
    "    print('generate density...')\n",
    "    for i, pt in enumerate(pts):\n",
    "        pt2d = np.zeros(gt.shape, dtype=np.float32)\n",
    "        pt2d[pt[1],pt[0]] = 1.\n",
    "        if gt_count > 1:\n",
    "            sigma = (distances[i][1]+distances[i][2]+distances[i][3])*0.1\n",
    "        else:\n",
    "            sigma = np.average(np.array(gt.shape))/2./2. #case: 1 point\n",
    "        density += scipy.ndimage.filters.gaussian_filter(pt2d, sigma, mode='constant')\n",
    "    print('done.')\n",
    "    return density"
   ]
  },
  {
   "cell_type": "code",
   "execution_count": 3,
   "id": "55130921",
   "metadata": {},
   "outputs": [],
   "source": [
    "root = 'D:/Dev/project/roofcounting/'"
   ]
  },
  {
   "cell_type": "code",
   "execution_count": 4,
   "id": "d9807f32",
   "metadata": {},
   "outputs": [],
   "source": [
    "label = os.path.join(root, \"data/train_data/images\")        \n",
    "labelled_paths = []\n",
    "for path in glob.glob(os.path.join(label, \"*.png\")):\n",
    "    labelled_paths.append(path)"
   ]
  },
  {
   "cell_type": "code",
   "execution_count": 5,
   "id": "ccb22105",
   "metadata": {},
   "outputs": [
    {
     "name": "stdout",
     "output_type": "stream",
     "text": [
      "D:/Dev/project/roofcounting/data/train_data/images\\Image_1.png\n",
      "(1056, 816)\n",
      "generate density...\n"
     ]
    },
    {
     "name": "stderr",
     "output_type": "stream",
     "text": [
      "C:\\Users\\jthe\\AppData\\Local\\Temp\\ipykernel_29360\\1350554050.py:25: DeprecationWarning: Please use `gaussian_filter` from the `scipy.ndimage` namespace, the `scipy.ndimage.filters` namespace is deprecated.\n",
      "  density += scipy.ndimage.filters.gaussian_filter(pt2d, sigma, mode='constant')\n"
     ]
    },
    {
     "name": "stdout",
     "output_type": "stream",
     "text": [
      "done.\n",
      "D:/Dev/project/roofcounting/data/train_data/images\\Image_10.png\n",
      "(1056, 816)\n",
      "generate density...\n"
     ]
    },
    {
     "name": "stderr",
     "output_type": "stream",
     "text": [
      "C:\\Users\\jthe\\AppData\\Local\\Temp\\ipykernel_29360\\1350554050.py:25: DeprecationWarning: Please use `gaussian_filter` from the `scipy.ndimage` namespace, the `scipy.ndimage.filters` namespace is deprecated.\n",
      "  density += scipy.ndimage.filters.gaussian_filter(pt2d, sigma, mode='constant')\n"
     ]
    },
    {
     "name": "stdout",
     "output_type": "stream",
     "text": [
      "done.\n",
      "D:/Dev/project/roofcounting/data/train_data/images\\Image_100.png\n",
      "(1056, 816)\n",
      "generate density...\n"
     ]
    },
    {
     "name": "stderr",
     "output_type": "stream",
     "text": [
      "C:\\Users\\jthe\\AppData\\Local\\Temp\\ipykernel_29360\\1350554050.py:25: DeprecationWarning: Please use `gaussian_filter` from the `scipy.ndimage` namespace, the `scipy.ndimage.filters` namespace is deprecated.\n",
      "  density += scipy.ndimage.filters.gaussian_filter(pt2d, sigma, mode='constant')\n"
     ]
    },
    {
     "name": "stdout",
     "output_type": "stream",
     "text": [
      "done.\n",
      "D:/Dev/project/roofcounting/data/train_data/images\\Image_101.png\n",
      "(1056, 816)\n",
      "generate density...\n"
     ]
    },
    {
     "name": "stderr",
     "output_type": "stream",
     "text": [
      "C:\\Users\\jthe\\AppData\\Local\\Temp\\ipykernel_29360\\1350554050.py:25: DeprecationWarning: Please use `gaussian_filter` from the `scipy.ndimage` namespace, the `scipy.ndimage.filters` namespace is deprecated.\n",
      "  density += scipy.ndimage.filters.gaussian_filter(pt2d, sigma, mode='constant')\n"
     ]
    },
    {
     "name": "stdout",
     "output_type": "stream",
     "text": [
      "done.\n",
      "D:/Dev/project/roofcounting/data/train_data/images\\Image_102.png\n",
      "(1056, 816)\n",
      "generate density...\n"
     ]
    },
    {
     "name": "stderr",
     "output_type": "stream",
     "text": [
      "C:\\Users\\jthe\\AppData\\Local\\Temp\\ipykernel_29360\\1350554050.py:25: DeprecationWarning: Please use `gaussian_filter` from the `scipy.ndimage` namespace, the `scipy.ndimage.filters` namespace is deprecated.\n",
      "  density += scipy.ndimage.filters.gaussian_filter(pt2d, sigma, mode='constant')\n"
     ]
    },
    {
     "name": "stdout",
     "output_type": "stream",
     "text": [
      "done.\n",
      "D:/Dev/project/roofcounting/data/train_data/images\\Image_103.png\n",
      "(1056, 816)\n",
      "generate density...\n"
     ]
    },
    {
     "name": "stderr",
     "output_type": "stream",
     "text": [
      "C:\\Users\\jthe\\AppData\\Local\\Temp\\ipykernel_29360\\1350554050.py:25: DeprecationWarning: Please use `gaussian_filter` from the `scipy.ndimage` namespace, the `scipy.ndimage.filters` namespace is deprecated.\n",
      "  density += scipy.ndimage.filters.gaussian_filter(pt2d, sigma, mode='constant')\n"
     ]
    },
    {
     "name": "stdout",
     "output_type": "stream",
     "text": [
      "done.\n",
      "D:/Dev/project/roofcounting/data/train_data/images\\Image_104.png\n",
      "(1056, 816)\n",
      "generate density...\n"
     ]
    },
    {
     "name": "stderr",
     "output_type": "stream",
     "text": [
      "C:\\Users\\jthe\\AppData\\Local\\Temp\\ipykernel_29360\\1350554050.py:25: DeprecationWarning: Please use `gaussian_filter` from the `scipy.ndimage` namespace, the `scipy.ndimage.filters` namespace is deprecated.\n",
      "  density += scipy.ndimage.filters.gaussian_filter(pt2d, sigma, mode='constant')\n"
     ]
    },
    {
     "name": "stdout",
     "output_type": "stream",
     "text": [
      "done.\n",
      "D:/Dev/project/roofcounting/data/train_data/images\\Image_105.png\n",
      "(1056, 816)\n",
      "generate density...\n"
     ]
    },
    {
     "name": "stderr",
     "output_type": "stream",
     "text": [
      "C:\\Users\\jthe\\AppData\\Local\\Temp\\ipykernel_29360\\1350554050.py:25: DeprecationWarning: Please use `gaussian_filter` from the `scipy.ndimage` namespace, the `scipy.ndimage.filters` namespace is deprecated.\n",
      "  density += scipy.ndimage.filters.gaussian_filter(pt2d, sigma, mode='constant')\n"
     ]
    },
    {
     "name": "stdout",
     "output_type": "stream",
     "text": [
      "done.\n",
      "D:/Dev/project/roofcounting/data/train_data/images\\Image_106.png\n",
      "(1056, 816)\n",
      "generate density...\n"
     ]
    },
    {
     "name": "stderr",
     "output_type": "stream",
     "text": [
      "C:\\Users\\jthe\\AppData\\Local\\Temp\\ipykernel_29360\\1350554050.py:25: DeprecationWarning: Please use `gaussian_filter` from the `scipy.ndimage` namespace, the `scipy.ndimage.filters` namespace is deprecated.\n",
      "  density += scipy.ndimage.filters.gaussian_filter(pt2d, sigma, mode='constant')\n"
     ]
    },
    {
     "name": "stdout",
     "output_type": "stream",
     "text": [
      "done.\n",
      "D:/Dev/project/roofcounting/data/train_data/images\\Image_107.png\n",
      "(1056, 816)\n",
      "generate density...\n"
     ]
    },
    {
     "name": "stderr",
     "output_type": "stream",
     "text": [
      "C:\\Users\\jthe\\AppData\\Local\\Temp\\ipykernel_29360\\1350554050.py:25: DeprecationWarning: Please use `gaussian_filter` from the `scipy.ndimage` namespace, the `scipy.ndimage.filters` namespace is deprecated.\n",
      "  density += scipy.ndimage.filters.gaussian_filter(pt2d, sigma, mode='constant')\n"
     ]
    },
    {
     "name": "stdout",
     "output_type": "stream",
     "text": [
      "done.\n",
      "D:/Dev/project/roofcounting/data/train_data/images\\Image_108.png\n",
      "(1056, 816)\n",
      "generate density...\n"
     ]
    },
    {
     "name": "stderr",
     "output_type": "stream",
     "text": [
      "C:\\Users\\jthe\\AppData\\Local\\Temp\\ipykernel_29360\\1350554050.py:25: DeprecationWarning: Please use `gaussian_filter` from the `scipy.ndimage` namespace, the `scipy.ndimage.filters` namespace is deprecated.\n",
      "  density += scipy.ndimage.filters.gaussian_filter(pt2d, sigma, mode='constant')\n"
     ]
    },
    {
     "name": "stdout",
     "output_type": "stream",
     "text": [
      "done.\n",
      "D:/Dev/project/roofcounting/data/train_data/images\\Image_109.png\n",
      "(1056, 816)\n",
      "generate density...\n"
     ]
    },
    {
     "name": "stderr",
     "output_type": "stream",
     "text": [
      "C:\\Users\\jthe\\AppData\\Local\\Temp\\ipykernel_29360\\1350554050.py:25: DeprecationWarning: Please use `gaussian_filter` from the `scipy.ndimage` namespace, the `scipy.ndimage.filters` namespace is deprecated.\n",
      "  density += scipy.ndimage.filters.gaussian_filter(pt2d, sigma, mode='constant')\n"
     ]
    },
    {
     "name": "stdout",
     "output_type": "stream",
     "text": [
      "done.\n",
      "D:/Dev/project/roofcounting/data/train_data/images\\Image_11.png\n",
      "(1056, 816)\n",
      "generate density...\n"
     ]
    },
    {
     "name": "stderr",
     "output_type": "stream",
     "text": [
      "C:\\Users\\jthe\\AppData\\Local\\Temp\\ipykernel_29360\\1350554050.py:25: DeprecationWarning: Please use `gaussian_filter` from the `scipy.ndimage` namespace, the `scipy.ndimage.filters` namespace is deprecated.\n",
      "  density += scipy.ndimage.filters.gaussian_filter(pt2d, sigma, mode='constant')\n"
     ]
    },
    {
     "name": "stdout",
     "output_type": "stream",
     "text": [
      "done.\n",
      "D:/Dev/project/roofcounting/data/train_data/images\\Image_110.png\n",
      "(1056, 816)\n",
      "generate density...\n"
     ]
    },
    {
     "name": "stderr",
     "output_type": "stream",
     "text": [
      "C:\\Users\\jthe\\AppData\\Local\\Temp\\ipykernel_29360\\1350554050.py:25: DeprecationWarning: Please use `gaussian_filter` from the `scipy.ndimage` namespace, the `scipy.ndimage.filters` namespace is deprecated.\n",
      "  density += scipy.ndimage.filters.gaussian_filter(pt2d, sigma, mode='constant')\n"
     ]
    },
    {
     "name": "stdout",
     "output_type": "stream",
     "text": [
      "done.\n",
      "D:/Dev/project/roofcounting/data/train_data/images\\Image_111.png\n",
      "(1056, 816)\n",
      "generate density...\n"
     ]
    },
    {
     "name": "stderr",
     "output_type": "stream",
     "text": [
      "C:\\Users\\jthe\\AppData\\Local\\Temp\\ipykernel_29360\\1350554050.py:25: DeprecationWarning: Please use `gaussian_filter` from the `scipy.ndimage` namespace, the `scipy.ndimage.filters` namespace is deprecated.\n",
      "  density += scipy.ndimage.filters.gaussian_filter(pt2d, sigma, mode='constant')\n"
     ]
    },
    {
     "name": "stdout",
     "output_type": "stream",
     "text": [
      "done.\n",
      "D:/Dev/project/roofcounting/data/train_data/images\\Image_112.png\n",
      "(1056, 816)\n",
      "generate density...\n"
     ]
    },
    {
     "name": "stderr",
     "output_type": "stream",
     "text": [
      "C:\\Users\\jthe\\AppData\\Local\\Temp\\ipykernel_29360\\1350554050.py:25: DeprecationWarning: Please use `gaussian_filter` from the `scipy.ndimage` namespace, the `scipy.ndimage.filters` namespace is deprecated.\n",
      "  density += scipy.ndimage.filters.gaussian_filter(pt2d, sigma, mode='constant')\n"
     ]
    },
    {
     "name": "stdout",
     "output_type": "stream",
     "text": [
      "done.\n",
      "D:/Dev/project/roofcounting/data/train_data/images\\Image_113.png\n",
      "(1056, 816)\n",
      "generate density...\n"
     ]
    },
    {
     "name": "stderr",
     "output_type": "stream",
     "text": [
      "C:\\Users\\jthe\\AppData\\Local\\Temp\\ipykernel_29360\\1350554050.py:25: DeprecationWarning: Please use `gaussian_filter` from the `scipy.ndimage` namespace, the `scipy.ndimage.filters` namespace is deprecated.\n",
      "  density += scipy.ndimage.filters.gaussian_filter(pt2d, sigma, mode='constant')\n"
     ]
    },
    {
     "name": "stdout",
     "output_type": "stream",
     "text": [
      "done.\n",
      "D:/Dev/project/roofcounting/data/train_data/images\\Image_114.png\n",
      "(1056, 816)\n",
      "generate density...\n"
     ]
    },
    {
     "name": "stderr",
     "output_type": "stream",
     "text": [
      "C:\\Users\\jthe\\AppData\\Local\\Temp\\ipykernel_29360\\1350554050.py:25: DeprecationWarning: Please use `gaussian_filter` from the `scipy.ndimage` namespace, the `scipy.ndimage.filters` namespace is deprecated.\n",
      "  density += scipy.ndimage.filters.gaussian_filter(pt2d, sigma, mode='constant')\n"
     ]
    },
    {
     "name": "stdout",
     "output_type": "stream",
     "text": [
      "done.\n",
      "D:/Dev/project/roofcounting/data/train_data/images\\Image_115.png\n",
      "(1056, 816)\n",
      "generate density...\n"
     ]
    },
    {
     "name": "stderr",
     "output_type": "stream",
     "text": [
      "C:\\Users\\jthe\\AppData\\Local\\Temp\\ipykernel_29360\\1350554050.py:25: DeprecationWarning: Please use `gaussian_filter` from the `scipy.ndimage` namespace, the `scipy.ndimage.filters` namespace is deprecated.\n",
      "  density += scipy.ndimage.filters.gaussian_filter(pt2d, sigma, mode='constant')\n"
     ]
    },
    {
     "name": "stdout",
     "output_type": "stream",
     "text": [
      "done.\n",
      "D:/Dev/project/roofcounting/data/train_data/images\\Image_116.png\n",
      "(1056, 816)\n",
      "generate density...\n"
     ]
    },
    {
     "name": "stderr",
     "output_type": "stream",
     "text": [
      "C:\\Users\\jthe\\AppData\\Local\\Temp\\ipykernel_29360\\1350554050.py:25: DeprecationWarning: Please use `gaussian_filter` from the `scipy.ndimage` namespace, the `scipy.ndimage.filters` namespace is deprecated.\n",
      "  density += scipy.ndimage.filters.gaussian_filter(pt2d, sigma, mode='constant')\n"
     ]
    },
    {
     "name": "stdout",
     "output_type": "stream",
     "text": [
      "done.\n",
      "D:/Dev/project/roofcounting/data/train_data/images\\Image_117.png\n",
      "(1056, 816)\n",
      "generate density...\n"
     ]
    },
    {
     "name": "stderr",
     "output_type": "stream",
     "text": [
      "C:\\Users\\jthe\\AppData\\Local\\Temp\\ipykernel_29360\\1350554050.py:25: DeprecationWarning: Please use `gaussian_filter` from the `scipy.ndimage` namespace, the `scipy.ndimage.filters` namespace is deprecated.\n",
      "  density += scipy.ndimage.filters.gaussian_filter(pt2d, sigma, mode='constant')\n"
     ]
    },
    {
     "name": "stdout",
     "output_type": "stream",
     "text": [
      "done.\n",
      "D:/Dev/project/roofcounting/data/train_data/images\\Image_118.png\n",
      "(1056, 816)\n",
      "generate density...\n"
     ]
    },
    {
     "name": "stderr",
     "output_type": "stream",
     "text": [
      "C:\\Users\\jthe\\AppData\\Local\\Temp\\ipykernel_29360\\1350554050.py:25: DeprecationWarning: Please use `gaussian_filter` from the `scipy.ndimage` namespace, the `scipy.ndimage.filters` namespace is deprecated.\n",
      "  density += scipy.ndimage.filters.gaussian_filter(pt2d, sigma, mode='constant')\n"
     ]
    },
    {
     "name": "stdout",
     "output_type": "stream",
     "text": [
      "done.\n",
      "D:/Dev/project/roofcounting/data/train_data/images\\Image_119.png\n",
      "(1056, 816)\n",
      "generate density...\n"
     ]
    },
    {
     "name": "stderr",
     "output_type": "stream",
     "text": [
      "C:\\Users\\jthe\\AppData\\Local\\Temp\\ipykernel_29360\\1350554050.py:25: DeprecationWarning: Please use `gaussian_filter` from the `scipy.ndimage` namespace, the `scipy.ndimage.filters` namespace is deprecated.\n",
      "  density += scipy.ndimage.filters.gaussian_filter(pt2d, sigma, mode='constant')\n"
     ]
    },
    {
     "name": "stdout",
     "output_type": "stream",
     "text": [
      "done.\n",
      "D:/Dev/project/roofcounting/data/train_data/images\\Image_12.png\n",
      "(1056, 816)\n",
      "generate density...\n"
     ]
    },
    {
     "name": "stderr",
     "output_type": "stream",
     "text": [
      "C:\\Users\\jthe\\AppData\\Local\\Temp\\ipykernel_29360\\1350554050.py:25: DeprecationWarning: Please use `gaussian_filter` from the `scipy.ndimage` namespace, the `scipy.ndimage.filters` namespace is deprecated.\n",
      "  density += scipy.ndimage.filters.gaussian_filter(pt2d, sigma, mode='constant')\n"
     ]
    },
    {
     "name": "stdout",
     "output_type": "stream",
     "text": [
      "done.\n",
      "D:/Dev/project/roofcounting/data/train_data/images\\Image_120.png\n",
      "(1056, 816)\n",
      "generate density...\n"
     ]
    },
    {
     "name": "stderr",
     "output_type": "stream",
     "text": [
      "C:\\Users\\jthe\\AppData\\Local\\Temp\\ipykernel_29360\\1350554050.py:25: DeprecationWarning: Please use `gaussian_filter` from the `scipy.ndimage` namespace, the `scipy.ndimage.filters` namespace is deprecated.\n",
      "  density += scipy.ndimage.filters.gaussian_filter(pt2d, sigma, mode='constant')\n"
     ]
    },
    {
     "name": "stdout",
     "output_type": "stream",
     "text": [
      "done.\n",
      "D:/Dev/project/roofcounting/data/train_data/images\\Image_121.png\n",
      "(1056, 816)\n",
      "generate density...\n"
     ]
    },
    {
     "name": "stderr",
     "output_type": "stream",
     "text": [
      "C:\\Users\\jthe\\AppData\\Local\\Temp\\ipykernel_29360\\1350554050.py:25: DeprecationWarning: Please use `gaussian_filter` from the `scipy.ndimage` namespace, the `scipy.ndimage.filters` namespace is deprecated.\n",
      "  density += scipy.ndimage.filters.gaussian_filter(pt2d, sigma, mode='constant')\n"
     ]
    },
    {
     "name": "stdout",
     "output_type": "stream",
     "text": [
      "done.\n",
      "D:/Dev/project/roofcounting/data/train_data/images\\Image_122.png\n",
      "(1056, 816)\n",
      "generate density...\n"
     ]
    },
    {
     "name": "stderr",
     "output_type": "stream",
     "text": [
      "C:\\Users\\jthe\\AppData\\Local\\Temp\\ipykernel_29360\\1350554050.py:25: DeprecationWarning: Please use `gaussian_filter` from the `scipy.ndimage` namespace, the `scipy.ndimage.filters` namespace is deprecated.\n",
      "  density += scipy.ndimage.filters.gaussian_filter(pt2d, sigma, mode='constant')\n"
     ]
    },
    {
     "name": "stdout",
     "output_type": "stream",
     "text": [
      "done.\n",
      "D:/Dev/project/roofcounting/data/train_data/images\\Image_123.png\n",
      "(1056, 816)\n",
      "generate density...\n"
     ]
    },
    {
     "name": "stderr",
     "output_type": "stream",
     "text": [
      "C:\\Users\\jthe\\AppData\\Local\\Temp\\ipykernel_29360\\1350554050.py:25: DeprecationWarning: Please use `gaussian_filter` from the `scipy.ndimage` namespace, the `scipy.ndimage.filters` namespace is deprecated.\n",
      "  density += scipy.ndimage.filters.gaussian_filter(pt2d, sigma, mode='constant')\n"
     ]
    },
    {
     "name": "stdout",
     "output_type": "stream",
     "text": [
      "done.\n",
      "D:/Dev/project/roofcounting/data/train_data/images\\Image_13.png\n",
      "(1056, 816)\n",
      "generate density...\n"
     ]
    },
    {
     "name": "stderr",
     "output_type": "stream",
     "text": [
      "C:\\Users\\jthe\\AppData\\Local\\Temp\\ipykernel_29360\\1350554050.py:25: DeprecationWarning: Please use `gaussian_filter` from the `scipy.ndimage` namespace, the `scipy.ndimage.filters` namespace is deprecated.\n",
      "  density += scipy.ndimage.filters.gaussian_filter(pt2d, sigma, mode='constant')\n"
     ]
    },
    {
     "name": "stdout",
     "output_type": "stream",
     "text": [
      "done.\n",
      "D:/Dev/project/roofcounting/data/train_data/images\\Image_14.png\n",
      "(1056, 816)\n",
      "generate density...\n"
     ]
    },
    {
     "name": "stderr",
     "output_type": "stream",
     "text": [
      "C:\\Users\\jthe\\AppData\\Local\\Temp\\ipykernel_29360\\1350554050.py:25: DeprecationWarning: Please use `gaussian_filter` from the `scipy.ndimage` namespace, the `scipy.ndimage.filters` namespace is deprecated.\n",
      "  density += scipy.ndimage.filters.gaussian_filter(pt2d, sigma, mode='constant')\n"
     ]
    },
    {
     "name": "stdout",
     "output_type": "stream",
     "text": [
      "done.\n",
      "D:/Dev/project/roofcounting/data/train_data/images\\Image_15.png\n",
      "(1056, 816)\n",
      "generate density...\n"
     ]
    },
    {
     "name": "stderr",
     "output_type": "stream",
     "text": [
      "C:\\Users\\jthe\\AppData\\Local\\Temp\\ipykernel_29360\\1350554050.py:25: DeprecationWarning: Please use `gaussian_filter` from the `scipy.ndimage` namespace, the `scipy.ndimage.filters` namespace is deprecated.\n",
      "  density += scipy.ndimage.filters.gaussian_filter(pt2d, sigma, mode='constant')\n"
     ]
    },
    {
     "name": "stdout",
     "output_type": "stream",
     "text": [
      "done.\n",
      "D:/Dev/project/roofcounting/data/train_data/images\\Image_16.png\n",
      "(1056, 816)\n",
      "generate density...\n"
     ]
    },
    {
     "name": "stderr",
     "output_type": "stream",
     "text": [
      "C:\\Users\\jthe\\AppData\\Local\\Temp\\ipykernel_29360\\1350554050.py:25: DeprecationWarning: Please use `gaussian_filter` from the `scipy.ndimage` namespace, the `scipy.ndimage.filters` namespace is deprecated.\n",
      "  density += scipy.ndimage.filters.gaussian_filter(pt2d, sigma, mode='constant')\n"
     ]
    },
    {
     "name": "stdout",
     "output_type": "stream",
     "text": [
      "done.\n",
      "D:/Dev/project/roofcounting/data/train_data/images\\Image_17.png\n",
      "(1056, 816)\n",
      "generate density...\n"
     ]
    },
    {
     "name": "stderr",
     "output_type": "stream",
     "text": [
      "C:\\Users\\jthe\\AppData\\Local\\Temp\\ipykernel_29360\\1350554050.py:25: DeprecationWarning: Please use `gaussian_filter` from the `scipy.ndimage` namespace, the `scipy.ndimage.filters` namespace is deprecated.\n",
      "  density += scipy.ndimage.filters.gaussian_filter(pt2d, sigma, mode='constant')\n"
     ]
    },
    {
     "name": "stdout",
     "output_type": "stream",
     "text": [
      "done.\n",
      "D:/Dev/project/roofcounting/data/train_data/images\\Image_18.png\n",
      "(1056, 816)\n",
      "generate density...\n"
     ]
    },
    {
     "name": "stderr",
     "output_type": "stream",
     "text": [
      "C:\\Users\\jthe\\AppData\\Local\\Temp\\ipykernel_29360\\1350554050.py:25: DeprecationWarning: Please use `gaussian_filter` from the `scipy.ndimage` namespace, the `scipy.ndimage.filters` namespace is deprecated.\n",
      "  density += scipy.ndimage.filters.gaussian_filter(pt2d, sigma, mode='constant')\n"
     ]
    },
    {
     "name": "stdout",
     "output_type": "stream",
     "text": [
      "done.\n",
      "D:/Dev/project/roofcounting/data/train_data/images\\Image_19.png\n",
      "(1056, 816)\n",
      "generate density...\n"
     ]
    },
    {
     "name": "stderr",
     "output_type": "stream",
     "text": [
      "C:\\Users\\jthe\\AppData\\Local\\Temp\\ipykernel_29360\\1350554050.py:25: DeprecationWarning: Please use `gaussian_filter` from the `scipy.ndimage` namespace, the `scipy.ndimage.filters` namespace is deprecated.\n",
      "  density += scipy.ndimage.filters.gaussian_filter(pt2d, sigma, mode='constant')\n"
     ]
    },
    {
     "name": "stdout",
     "output_type": "stream",
     "text": [
      "done.\n",
      "D:/Dev/project/roofcounting/data/train_data/images\\Image_2.png\n",
      "(1056, 816)\n",
      "generate density...\n"
     ]
    },
    {
     "name": "stderr",
     "output_type": "stream",
     "text": [
      "C:\\Users\\jthe\\AppData\\Local\\Temp\\ipykernel_29360\\1350554050.py:25: DeprecationWarning: Please use `gaussian_filter` from the `scipy.ndimage` namespace, the `scipy.ndimage.filters` namespace is deprecated.\n",
      "  density += scipy.ndimage.filters.gaussian_filter(pt2d, sigma, mode='constant')\n"
     ]
    },
    {
     "name": "stdout",
     "output_type": "stream",
     "text": [
      "done.\n",
      "D:/Dev/project/roofcounting/data/train_data/images\\Image_20.png\n",
      "(1056, 816)\n",
      "generate density...\n"
     ]
    },
    {
     "name": "stderr",
     "output_type": "stream",
     "text": [
      "C:\\Users\\jthe\\AppData\\Local\\Temp\\ipykernel_29360\\1350554050.py:25: DeprecationWarning: Please use `gaussian_filter` from the `scipy.ndimage` namespace, the `scipy.ndimage.filters` namespace is deprecated.\n",
      "  density += scipy.ndimage.filters.gaussian_filter(pt2d, sigma, mode='constant')\n"
     ]
    },
    {
     "name": "stdout",
     "output_type": "stream",
     "text": [
      "done.\n",
      "D:/Dev/project/roofcounting/data/train_data/images\\Image_21.png\n",
      "(1056, 816)\n",
      "generate density...\n"
     ]
    },
    {
     "name": "stderr",
     "output_type": "stream",
     "text": [
      "C:\\Users\\jthe\\AppData\\Local\\Temp\\ipykernel_29360\\1350554050.py:25: DeprecationWarning: Please use `gaussian_filter` from the `scipy.ndimage` namespace, the `scipy.ndimage.filters` namespace is deprecated.\n",
      "  density += scipy.ndimage.filters.gaussian_filter(pt2d, sigma, mode='constant')\n"
     ]
    },
    {
     "name": "stdout",
     "output_type": "stream",
     "text": [
      "done.\n",
      "D:/Dev/project/roofcounting/data/train_data/images\\Image_22.png\n",
      "(1056, 816)\n",
      "generate density...\n"
     ]
    },
    {
     "name": "stderr",
     "output_type": "stream",
     "text": [
      "C:\\Users\\jthe\\AppData\\Local\\Temp\\ipykernel_29360\\1350554050.py:25: DeprecationWarning: Please use `gaussian_filter` from the `scipy.ndimage` namespace, the `scipy.ndimage.filters` namespace is deprecated.\n",
      "  density += scipy.ndimage.filters.gaussian_filter(pt2d, sigma, mode='constant')\n"
     ]
    },
    {
     "name": "stdout",
     "output_type": "stream",
     "text": [
      "done.\n",
      "D:/Dev/project/roofcounting/data/train_data/images\\Image_23.png\n",
      "(1056, 816)\n",
      "generate density...\n"
     ]
    },
    {
     "name": "stderr",
     "output_type": "stream",
     "text": [
      "C:\\Users\\jthe\\AppData\\Local\\Temp\\ipykernel_29360\\1350554050.py:25: DeprecationWarning: Please use `gaussian_filter` from the `scipy.ndimage` namespace, the `scipy.ndimage.filters` namespace is deprecated.\n",
      "  density += scipy.ndimage.filters.gaussian_filter(pt2d, sigma, mode='constant')\n"
     ]
    },
    {
     "name": "stdout",
     "output_type": "stream",
     "text": [
      "done.\n",
      "D:/Dev/project/roofcounting/data/train_data/images\\Image_24.png\n",
      "(1056, 816)\n",
      "generate density...\n"
     ]
    },
    {
     "name": "stderr",
     "output_type": "stream",
     "text": [
      "C:\\Users\\jthe\\AppData\\Local\\Temp\\ipykernel_29360\\1350554050.py:25: DeprecationWarning: Please use `gaussian_filter` from the `scipy.ndimage` namespace, the `scipy.ndimage.filters` namespace is deprecated.\n",
      "  density += scipy.ndimage.filters.gaussian_filter(pt2d, sigma, mode='constant')\n"
     ]
    },
    {
     "name": "stdout",
     "output_type": "stream",
     "text": [
      "done.\n",
      "D:/Dev/project/roofcounting/data/train_data/images\\Image_25.png\n",
      "(1056, 816)\n",
      "generate density...\n"
     ]
    },
    {
     "name": "stderr",
     "output_type": "stream",
     "text": [
      "C:\\Users\\jthe\\AppData\\Local\\Temp\\ipykernel_29360\\1350554050.py:25: DeprecationWarning: Please use `gaussian_filter` from the `scipy.ndimage` namespace, the `scipy.ndimage.filters` namespace is deprecated.\n",
      "  density += scipy.ndimage.filters.gaussian_filter(pt2d, sigma, mode='constant')\n"
     ]
    },
    {
     "name": "stdout",
     "output_type": "stream",
     "text": [
      "done.\n",
      "D:/Dev/project/roofcounting/data/train_data/images\\Image_26.png\n",
      "(1056, 816)\n",
      "generate density...\n"
     ]
    },
    {
     "name": "stderr",
     "output_type": "stream",
     "text": [
      "C:\\Users\\jthe\\AppData\\Local\\Temp\\ipykernel_29360\\1350554050.py:25: DeprecationWarning: Please use `gaussian_filter` from the `scipy.ndimage` namespace, the `scipy.ndimage.filters` namespace is deprecated.\n",
      "  density += scipy.ndimage.filters.gaussian_filter(pt2d, sigma, mode='constant')\n"
     ]
    },
    {
     "name": "stdout",
     "output_type": "stream",
     "text": [
      "done.\n",
      "D:/Dev/project/roofcounting/data/train_data/images\\Image_27.png\n",
      "(1056, 816)\n",
      "generate density...\n"
     ]
    },
    {
     "name": "stderr",
     "output_type": "stream",
     "text": [
      "C:\\Users\\jthe\\AppData\\Local\\Temp\\ipykernel_29360\\1350554050.py:25: DeprecationWarning: Please use `gaussian_filter` from the `scipy.ndimage` namespace, the `scipy.ndimage.filters` namespace is deprecated.\n",
      "  density += scipy.ndimage.filters.gaussian_filter(pt2d, sigma, mode='constant')\n"
     ]
    },
    {
     "name": "stdout",
     "output_type": "stream",
     "text": [
      "done.\n",
      "D:/Dev/project/roofcounting/data/train_data/images\\Image_28.png\n",
      "(1056, 816)\n",
      "generate density...\n"
     ]
    },
    {
     "name": "stderr",
     "output_type": "stream",
     "text": [
      "C:\\Users\\jthe\\AppData\\Local\\Temp\\ipykernel_29360\\1350554050.py:25: DeprecationWarning: Please use `gaussian_filter` from the `scipy.ndimage` namespace, the `scipy.ndimage.filters` namespace is deprecated.\n",
      "  density += scipy.ndimage.filters.gaussian_filter(pt2d, sigma, mode='constant')\n"
     ]
    },
    {
     "name": "stdout",
     "output_type": "stream",
     "text": [
      "done.\n",
      "D:/Dev/project/roofcounting/data/train_data/images\\Image_29.png\n",
      "(1056, 816)\n",
      "generate density...\n"
     ]
    },
    {
     "name": "stderr",
     "output_type": "stream",
     "text": [
      "C:\\Users\\jthe\\AppData\\Local\\Temp\\ipykernel_29360\\1350554050.py:25: DeprecationWarning: Please use `gaussian_filter` from the `scipy.ndimage` namespace, the `scipy.ndimage.filters` namespace is deprecated.\n",
      "  density += scipy.ndimage.filters.gaussian_filter(pt2d, sigma, mode='constant')\n"
     ]
    },
    {
     "name": "stdout",
     "output_type": "stream",
     "text": [
      "done.\n",
      "D:/Dev/project/roofcounting/data/train_data/images\\Image_3.png\n",
      "(1056, 816)\n",
      "generate density...\n"
     ]
    },
    {
     "name": "stderr",
     "output_type": "stream",
     "text": [
      "C:\\Users\\jthe\\AppData\\Local\\Temp\\ipykernel_29360\\1350554050.py:25: DeprecationWarning: Please use `gaussian_filter` from the `scipy.ndimage` namespace, the `scipy.ndimage.filters` namespace is deprecated.\n",
      "  density += scipy.ndimage.filters.gaussian_filter(pt2d, sigma, mode='constant')\n"
     ]
    },
    {
     "name": "stdout",
     "output_type": "stream",
     "text": [
      "done.\n",
      "D:/Dev/project/roofcounting/data/train_data/images\\Image_30.png\n",
      "(1056, 816)\n",
      "generate density...\n"
     ]
    },
    {
     "name": "stderr",
     "output_type": "stream",
     "text": [
      "C:\\Users\\jthe\\AppData\\Local\\Temp\\ipykernel_29360\\1350554050.py:25: DeprecationWarning: Please use `gaussian_filter` from the `scipy.ndimage` namespace, the `scipy.ndimage.filters` namespace is deprecated.\n",
      "  density += scipy.ndimage.filters.gaussian_filter(pt2d, sigma, mode='constant')\n"
     ]
    },
    {
     "name": "stdout",
     "output_type": "stream",
     "text": [
      "done.\n",
      "D:/Dev/project/roofcounting/data/train_data/images\\Image_31.png\n",
      "(1056, 816)\n",
      "generate density...\n"
     ]
    },
    {
     "name": "stderr",
     "output_type": "stream",
     "text": [
      "C:\\Users\\jthe\\AppData\\Local\\Temp\\ipykernel_29360\\1350554050.py:25: DeprecationWarning: Please use `gaussian_filter` from the `scipy.ndimage` namespace, the `scipy.ndimage.filters` namespace is deprecated.\n",
      "  density += scipy.ndimage.filters.gaussian_filter(pt2d, sigma, mode='constant')\n"
     ]
    },
    {
     "name": "stdout",
     "output_type": "stream",
     "text": [
      "done.\n",
      "D:/Dev/project/roofcounting/data/train_data/images\\Image_32.png\n",
      "(1056, 816)\n",
      "generate density...\n"
     ]
    },
    {
     "name": "stderr",
     "output_type": "stream",
     "text": [
      "C:\\Users\\jthe\\AppData\\Local\\Temp\\ipykernel_29360\\1350554050.py:25: DeprecationWarning: Please use `gaussian_filter` from the `scipy.ndimage` namespace, the `scipy.ndimage.filters` namespace is deprecated.\n",
      "  density += scipy.ndimage.filters.gaussian_filter(pt2d, sigma, mode='constant')\n"
     ]
    },
    {
     "name": "stdout",
     "output_type": "stream",
     "text": [
      "done.\n",
      "D:/Dev/project/roofcounting/data/train_data/images\\Image_33.png\n",
      "(1056, 816)\n",
      "generate density...\n"
     ]
    },
    {
     "name": "stderr",
     "output_type": "stream",
     "text": [
      "C:\\Users\\jthe\\AppData\\Local\\Temp\\ipykernel_29360\\1350554050.py:25: DeprecationWarning: Please use `gaussian_filter` from the `scipy.ndimage` namespace, the `scipy.ndimage.filters` namespace is deprecated.\n",
      "  density += scipy.ndimage.filters.gaussian_filter(pt2d, sigma, mode='constant')\n"
     ]
    },
    {
     "name": "stdout",
     "output_type": "stream",
     "text": [
      "done.\n",
      "D:/Dev/project/roofcounting/data/train_data/images\\Image_34.png\n",
      "(1056, 816)\n",
      "generate density...\n"
     ]
    },
    {
     "name": "stderr",
     "output_type": "stream",
     "text": [
      "C:\\Users\\jthe\\AppData\\Local\\Temp\\ipykernel_29360\\1350554050.py:25: DeprecationWarning: Please use `gaussian_filter` from the `scipy.ndimage` namespace, the `scipy.ndimage.filters` namespace is deprecated.\n",
      "  density += scipy.ndimage.filters.gaussian_filter(pt2d, sigma, mode='constant')\n"
     ]
    },
    {
     "name": "stdout",
     "output_type": "stream",
     "text": [
      "done.\n",
      "D:/Dev/project/roofcounting/data/train_data/images\\Image_35.png\n",
      "(1056, 816)\n",
      "generate density...\n"
     ]
    },
    {
     "name": "stderr",
     "output_type": "stream",
     "text": [
      "C:\\Users\\jthe\\AppData\\Local\\Temp\\ipykernel_29360\\1350554050.py:25: DeprecationWarning: Please use `gaussian_filter` from the `scipy.ndimage` namespace, the `scipy.ndimage.filters` namespace is deprecated.\n",
      "  density += scipy.ndimage.filters.gaussian_filter(pt2d, sigma, mode='constant')\n"
     ]
    },
    {
     "name": "stdout",
     "output_type": "stream",
     "text": [
      "done.\n",
      "D:/Dev/project/roofcounting/data/train_data/images\\Image_36.png\n",
      "(1056, 816)\n",
      "generate density...\n"
     ]
    },
    {
     "name": "stderr",
     "output_type": "stream",
     "text": [
      "C:\\Users\\jthe\\AppData\\Local\\Temp\\ipykernel_29360\\1350554050.py:25: DeprecationWarning: Please use `gaussian_filter` from the `scipy.ndimage` namespace, the `scipy.ndimage.filters` namespace is deprecated.\n",
      "  density += scipy.ndimage.filters.gaussian_filter(pt2d, sigma, mode='constant')\n"
     ]
    },
    {
     "name": "stdout",
     "output_type": "stream",
     "text": [
      "done.\n",
      "D:/Dev/project/roofcounting/data/train_data/images\\Image_37.png\n",
      "(1056, 816)\n",
      "generate density...\n"
     ]
    },
    {
     "name": "stderr",
     "output_type": "stream",
     "text": [
      "C:\\Users\\jthe\\AppData\\Local\\Temp\\ipykernel_29360\\1350554050.py:25: DeprecationWarning: Please use `gaussian_filter` from the `scipy.ndimage` namespace, the `scipy.ndimage.filters` namespace is deprecated.\n",
      "  density += scipy.ndimage.filters.gaussian_filter(pt2d, sigma, mode='constant')\n"
     ]
    },
    {
     "name": "stdout",
     "output_type": "stream",
     "text": [
      "done.\n",
      "D:/Dev/project/roofcounting/data/train_data/images\\Image_38.png\n",
      "(1056, 816)\n",
      "generate density...\n"
     ]
    },
    {
     "name": "stderr",
     "output_type": "stream",
     "text": [
      "C:\\Users\\jthe\\AppData\\Local\\Temp\\ipykernel_29360\\1350554050.py:25: DeprecationWarning: Please use `gaussian_filter` from the `scipy.ndimage` namespace, the `scipy.ndimage.filters` namespace is deprecated.\n",
      "  density += scipy.ndimage.filters.gaussian_filter(pt2d, sigma, mode='constant')\n"
     ]
    },
    {
     "name": "stdout",
     "output_type": "stream",
     "text": [
      "done.\n",
      "D:/Dev/project/roofcounting/data/train_data/images\\Image_39.png\n",
      "(1056, 816)\n",
      "generate density...\n"
     ]
    },
    {
     "name": "stderr",
     "output_type": "stream",
     "text": [
      "C:\\Users\\jthe\\AppData\\Local\\Temp\\ipykernel_29360\\1350554050.py:25: DeprecationWarning: Please use `gaussian_filter` from the `scipy.ndimage` namespace, the `scipy.ndimage.filters` namespace is deprecated.\n",
      "  density += scipy.ndimage.filters.gaussian_filter(pt2d, sigma, mode='constant')\n"
     ]
    },
    {
     "name": "stdout",
     "output_type": "stream",
     "text": [
      "done.\n",
      "D:/Dev/project/roofcounting/data/train_data/images\\Image_4.png\n",
      "(1056, 816)\n",
      "generate density...\n"
     ]
    },
    {
     "name": "stderr",
     "output_type": "stream",
     "text": [
      "C:\\Users\\jthe\\AppData\\Local\\Temp\\ipykernel_29360\\1350554050.py:25: DeprecationWarning: Please use `gaussian_filter` from the `scipy.ndimage` namespace, the `scipy.ndimage.filters` namespace is deprecated.\n",
      "  density += scipy.ndimage.filters.gaussian_filter(pt2d, sigma, mode='constant')\n"
     ]
    },
    {
     "name": "stdout",
     "output_type": "stream",
     "text": [
      "done.\n",
      "D:/Dev/project/roofcounting/data/train_data/images\\Image_40.png\n",
      "(1056, 816)\n",
      "generate density...\n"
     ]
    },
    {
     "name": "stderr",
     "output_type": "stream",
     "text": [
      "C:\\Users\\jthe\\AppData\\Local\\Temp\\ipykernel_29360\\1350554050.py:25: DeprecationWarning: Please use `gaussian_filter` from the `scipy.ndimage` namespace, the `scipy.ndimage.filters` namespace is deprecated.\n",
      "  density += scipy.ndimage.filters.gaussian_filter(pt2d, sigma, mode='constant')\n"
     ]
    },
    {
     "name": "stdout",
     "output_type": "stream",
     "text": [
      "done.\n",
      "D:/Dev/project/roofcounting/data/train_data/images\\Image_41.png\n",
      "(1056, 816)\n",
      "generate density...\n"
     ]
    },
    {
     "name": "stderr",
     "output_type": "stream",
     "text": [
      "C:\\Users\\jthe\\AppData\\Local\\Temp\\ipykernel_29360\\1350554050.py:25: DeprecationWarning: Please use `gaussian_filter` from the `scipy.ndimage` namespace, the `scipy.ndimage.filters` namespace is deprecated.\n",
      "  density += scipy.ndimage.filters.gaussian_filter(pt2d, sigma, mode='constant')\n"
     ]
    },
    {
     "name": "stdout",
     "output_type": "stream",
     "text": [
      "done.\n",
      "D:/Dev/project/roofcounting/data/train_data/images\\Image_42.png\n",
      "(1056, 816)\n",
      "generate density...\n"
     ]
    },
    {
     "name": "stderr",
     "output_type": "stream",
     "text": [
      "C:\\Users\\jthe\\AppData\\Local\\Temp\\ipykernel_29360\\1350554050.py:25: DeprecationWarning: Please use `gaussian_filter` from the `scipy.ndimage` namespace, the `scipy.ndimage.filters` namespace is deprecated.\n",
      "  density += scipy.ndimage.filters.gaussian_filter(pt2d, sigma, mode='constant')\n"
     ]
    },
    {
     "name": "stdout",
     "output_type": "stream",
     "text": [
      "done.\n",
      "D:/Dev/project/roofcounting/data/train_data/images\\Image_43.png\n",
      "(1056, 816)\n",
      "generate density...\n"
     ]
    },
    {
     "name": "stderr",
     "output_type": "stream",
     "text": [
      "C:\\Users\\jthe\\AppData\\Local\\Temp\\ipykernel_29360\\1350554050.py:25: DeprecationWarning: Please use `gaussian_filter` from the `scipy.ndimage` namespace, the `scipy.ndimage.filters` namespace is deprecated.\n",
      "  density += scipy.ndimage.filters.gaussian_filter(pt2d, sigma, mode='constant')\n"
     ]
    },
    {
     "name": "stdout",
     "output_type": "stream",
     "text": [
      "done.\n",
      "D:/Dev/project/roofcounting/data/train_data/images\\Image_44.png\n",
      "(1056, 816)\n",
      "generate density...\n"
     ]
    },
    {
     "name": "stderr",
     "output_type": "stream",
     "text": [
      "C:\\Users\\jthe\\AppData\\Local\\Temp\\ipykernel_29360\\1350554050.py:25: DeprecationWarning: Please use `gaussian_filter` from the `scipy.ndimage` namespace, the `scipy.ndimage.filters` namespace is deprecated.\n",
      "  density += scipy.ndimage.filters.gaussian_filter(pt2d, sigma, mode='constant')\n"
     ]
    },
    {
     "name": "stdout",
     "output_type": "stream",
     "text": [
      "done.\n",
      "D:/Dev/project/roofcounting/data/train_data/images\\Image_45.png\n",
      "(1056, 816)\n",
      "generate density...\n"
     ]
    },
    {
     "name": "stderr",
     "output_type": "stream",
     "text": [
      "C:\\Users\\jthe\\AppData\\Local\\Temp\\ipykernel_29360\\1350554050.py:25: DeprecationWarning: Please use `gaussian_filter` from the `scipy.ndimage` namespace, the `scipy.ndimage.filters` namespace is deprecated.\n",
      "  density += scipy.ndimage.filters.gaussian_filter(pt2d, sigma, mode='constant')\n"
     ]
    },
    {
     "name": "stdout",
     "output_type": "stream",
     "text": [
      "done.\n",
      "D:/Dev/project/roofcounting/data/train_data/images\\Image_46.png\n",
      "(1056, 816)\n",
      "generate density...\n"
     ]
    },
    {
     "name": "stderr",
     "output_type": "stream",
     "text": [
      "C:\\Users\\jthe\\AppData\\Local\\Temp\\ipykernel_29360\\1350554050.py:25: DeprecationWarning: Please use `gaussian_filter` from the `scipy.ndimage` namespace, the `scipy.ndimage.filters` namespace is deprecated.\n",
      "  density += scipy.ndimage.filters.gaussian_filter(pt2d, sigma, mode='constant')\n"
     ]
    },
    {
     "name": "stdout",
     "output_type": "stream",
     "text": [
      "done.\n",
      "D:/Dev/project/roofcounting/data/train_data/images\\Image_47.png\n",
      "(1056, 816)\n",
      "generate density...\n"
     ]
    },
    {
     "name": "stderr",
     "output_type": "stream",
     "text": [
      "C:\\Users\\jthe\\AppData\\Local\\Temp\\ipykernel_29360\\1350554050.py:25: DeprecationWarning: Please use `gaussian_filter` from the `scipy.ndimage` namespace, the `scipy.ndimage.filters` namespace is deprecated.\n",
      "  density += scipy.ndimage.filters.gaussian_filter(pt2d, sigma, mode='constant')\n"
     ]
    },
    {
     "name": "stdout",
     "output_type": "stream",
     "text": [
      "done.\n",
      "D:/Dev/project/roofcounting/data/train_data/images\\Image_48.png\n",
      "(1056, 816)\n",
      "generate density...\n"
     ]
    },
    {
     "name": "stderr",
     "output_type": "stream",
     "text": [
      "C:\\Users\\jthe\\AppData\\Local\\Temp\\ipykernel_29360\\1350554050.py:25: DeprecationWarning: Please use `gaussian_filter` from the `scipy.ndimage` namespace, the `scipy.ndimage.filters` namespace is deprecated.\n",
      "  density += scipy.ndimage.filters.gaussian_filter(pt2d, sigma, mode='constant')\n"
     ]
    },
    {
     "name": "stdout",
     "output_type": "stream",
     "text": [
      "done.\n",
      "D:/Dev/project/roofcounting/data/train_data/images\\Image_49.png\n",
      "(1056, 816)\n",
      "generate density...\n"
     ]
    },
    {
     "name": "stderr",
     "output_type": "stream",
     "text": [
      "C:\\Users\\jthe\\AppData\\Local\\Temp\\ipykernel_29360\\1350554050.py:25: DeprecationWarning: Please use `gaussian_filter` from the `scipy.ndimage` namespace, the `scipy.ndimage.filters` namespace is deprecated.\n",
      "  density += scipy.ndimage.filters.gaussian_filter(pt2d, sigma, mode='constant')\n"
     ]
    },
    {
     "name": "stdout",
     "output_type": "stream",
     "text": [
      "done.\n",
      "D:/Dev/project/roofcounting/data/train_data/images\\Image_5.png\n",
      "(1056, 816)\n",
      "generate density...\n"
     ]
    },
    {
     "name": "stderr",
     "output_type": "stream",
     "text": [
      "C:\\Users\\jthe\\AppData\\Local\\Temp\\ipykernel_29360\\1350554050.py:25: DeprecationWarning: Please use `gaussian_filter` from the `scipy.ndimage` namespace, the `scipy.ndimage.filters` namespace is deprecated.\n",
      "  density += scipy.ndimage.filters.gaussian_filter(pt2d, sigma, mode='constant')\n"
     ]
    },
    {
     "name": "stdout",
     "output_type": "stream",
     "text": [
      "done.\n",
      "D:/Dev/project/roofcounting/data/train_data/images\\Image_50.png\n",
      "(1056, 816)\n",
      "generate density...\n"
     ]
    },
    {
     "name": "stderr",
     "output_type": "stream",
     "text": [
      "C:\\Users\\jthe\\AppData\\Local\\Temp\\ipykernel_29360\\1350554050.py:25: DeprecationWarning: Please use `gaussian_filter` from the `scipy.ndimage` namespace, the `scipy.ndimage.filters` namespace is deprecated.\n",
      "  density += scipy.ndimage.filters.gaussian_filter(pt2d, sigma, mode='constant')\n"
     ]
    },
    {
     "name": "stdout",
     "output_type": "stream",
     "text": [
      "done.\n",
      "D:/Dev/project/roofcounting/data/train_data/images\\Image_51.png\n",
      "(1056, 816)\n",
      "generate density...\n"
     ]
    },
    {
     "name": "stderr",
     "output_type": "stream",
     "text": [
      "C:\\Users\\jthe\\AppData\\Local\\Temp\\ipykernel_29360\\1350554050.py:25: DeprecationWarning: Please use `gaussian_filter` from the `scipy.ndimage` namespace, the `scipy.ndimage.filters` namespace is deprecated.\n",
      "  density += scipy.ndimage.filters.gaussian_filter(pt2d, sigma, mode='constant')\n"
     ]
    },
    {
     "name": "stdout",
     "output_type": "stream",
     "text": [
      "done.\n",
      "D:/Dev/project/roofcounting/data/train_data/images\\Image_52.png\n",
      "(1056, 816)\n",
      "generate density...\n"
     ]
    },
    {
     "name": "stderr",
     "output_type": "stream",
     "text": [
      "C:\\Users\\jthe\\AppData\\Local\\Temp\\ipykernel_29360\\1350554050.py:25: DeprecationWarning: Please use `gaussian_filter` from the `scipy.ndimage` namespace, the `scipy.ndimage.filters` namespace is deprecated.\n",
      "  density += scipy.ndimage.filters.gaussian_filter(pt2d, sigma, mode='constant')\n"
     ]
    },
    {
     "name": "stdout",
     "output_type": "stream",
     "text": [
      "done.\n",
      "D:/Dev/project/roofcounting/data/train_data/images\\Image_53.png\n",
      "(1056, 816)\n",
      "generate density...\n"
     ]
    },
    {
     "name": "stderr",
     "output_type": "stream",
     "text": [
      "C:\\Users\\jthe\\AppData\\Local\\Temp\\ipykernel_29360\\1350554050.py:25: DeprecationWarning: Please use `gaussian_filter` from the `scipy.ndimage` namespace, the `scipy.ndimage.filters` namespace is deprecated.\n",
      "  density += scipy.ndimage.filters.gaussian_filter(pt2d, sigma, mode='constant')\n"
     ]
    },
    {
     "name": "stdout",
     "output_type": "stream",
     "text": [
      "done.\n",
      "D:/Dev/project/roofcounting/data/train_data/images\\Image_54.png\n",
      "(1056, 816)\n",
      "generate density...\n"
     ]
    },
    {
     "name": "stderr",
     "output_type": "stream",
     "text": [
      "C:\\Users\\jthe\\AppData\\Local\\Temp\\ipykernel_29360\\1350554050.py:25: DeprecationWarning: Please use `gaussian_filter` from the `scipy.ndimage` namespace, the `scipy.ndimage.filters` namespace is deprecated.\n",
      "  density += scipy.ndimage.filters.gaussian_filter(pt2d, sigma, mode='constant')\n"
     ]
    },
    {
     "name": "stdout",
     "output_type": "stream",
     "text": [
      "done.\n",
      "D:/Dev/project/roofcounting/data/train_data/images\\Image_55.png\n",
      "(1056, 816)\n",
      "generate density...\n"
     ]
    },
    {
     "name": "stderr",
     "output_type": "stream",
     "text": [
      "C:\\Users\\jthe\\AppData\\Local\\Temp\\ipykernel_29360\\1350554050.py:25: DeprecationWarning: Please use `gaussian_filter` from the `scipy.ndimage` namespace, the `scipy.ndimage.filters` namespace is deprecated.\n",
      "  density += scipy.ndimage.filters.gaussian_filter(pt2d, sigma, mode='constant')\n"
     ]
    },
    {
     "name": "stdout",
     "output_type": "stream",
     "text": [
      "done.\n",
      "D:/Dev/project/roofcounting/data/train_data/images\\Image_56.png\n",
      "(1056, 816)\n",
      "generate density...\n"
     ]
    },
    {
     "name": "stderr",
     "output_type": "stream",
     "text": [
      "C:\\Users\\jthe\\AppData\\Local\\Temp\\ipykernel_29360\\1350554050.py:25: DeprecationWarning: Please use `gaussian_filter` from the `scipy.ndimage` namespace, the `scipy.ndimage.filters` namespace is deprecated.\n",
      "  density += scipy.ndimage.filters.gaussian_filter(pt2d, sigma, mode='constant')\n"
     ]
    },
    {
     "name": "stdout",
     "output_type": "stream",
     "text": [
      "done.\n",
      "D:/Dev/project/roofcounting/data/train_data/images\\Image_57.png\n",
      "(1056, 816)\n",
      "generate density...\n"
     ]
    },
    {
     "name": "stderr",
     "output_type": "stream",
     "text": [
      "C:\\Users\\jthe\\AppData\\Local\\Temp\\ipykernel_29360\\1350554050.py:25: DeprecationWarning: Please use `gaussian_filter` from the `scipy.ndimage` namespace, the `scipy.ndimage.filters` namespace is deprecated.\n",
      "  density += scipy.ndimage.filters.gaussian_filter(pt2d, sigma, mode='constant')\n"
     ]
    },
    {
     "name": "stdout",
     "output_type": "stream",
     "text": [
      "done.\n",
      "D:/Dev/project/roofcounting/data/train_data/images\\Image_58.png\n",
      "(1056, 816)\n",
      "generate density...\n"
     ]
    },
    {
     "name": "stderr",
     "output_type": "stream",
     "text": [
      "C:\\Users\\jthe\\AppData\\Local\\Temp\\ipykernel_29360\\1350554050.py:25: DeprecationWarning: Please use `gaussian_filter` from the `scipy.ndimage` namespace, the `scipy.ndimage.filters` namespace is deprecated.\n",
      "  density += scipy.ndimage.filters.gaussian_filter(pt2d, sigma, mode='constant')\n"
     ]
    },
    {
     "name": "stdout",
     "output_type": "stream",
     "text": [
      "done.\n",
      "D:/Dev/project/roofcounting/data/train_data/images\\Image_59.png\n",
      "(1056, 816)\n",
      "generate density...\n"
     ]
    },
    {
     "name": "stderr",
     "output_type": "stream",
     "text": [
      "C:\\Users\\jthe\\AppData\\Local\\Temp\\ipykernel_29360\\1350554050.py:25: DeprecationWarning: Please use `gaussian_filter` from the `scipy.ndimage` namespace, the `scipy.ndimage.filters` namespace is deprecated.\n",
      "  density += scipy.ndimage.filters.gaussian_filter(pt2d, sigma, mode='constant')\n"
     ]
    },
    {
     "name": "stdout",
     "output_type": "stream",
     "text": [
      "done.\n",
      "D:/Dev/project/roofcounting/data/train_data/images\\Image_6.png\n",
      "(1056, 816)\n",
      "generate density...\n"
     ]
    },
    {
     "name": "stderr",
     "output_type": "stream",
     "text": [
      "C:\\Users\\jthe\\AppData\\Local\\Temp\\ipykernel_29360\\1350554050.py:25: DeprecationWarning: Please use `gaussian_filter` from the `scipy.ndimage` namespace, the `scipy.ndimage.filters` namespace is deprecated.\n",
      "  density += scipy.ndimage.filters.gaussian_filter(pt2d, sigma, mode='constant')\n"
     ]
    },
    {
     "name": "stdout",
     "output_type": "stream",
     "text": [
      "done.\n",
      "D:/Dev/project/roofcounting/data/train_data/images\\Image_60.png\n",
      "(1056, 816)\n",
      "generate density...\n"
     ]
    },
    {
     "name": "stderr",
     "output_type": "stream",
     "text": [
      "C:\\Users\\jthe\\AppData\\Local\\Temp\\ipykernel_29360\\1350554050.py:25: DeprecationWarning: Please use `gaussian_filter` from the `scipy.ndimage` namespace, the `scipy.ndimage.filters` namespace is deprecated.\n",
      "  density += scipy.ndimage.filters.gaussian_filter(pt2d, sigma, mode='constant')\n"
     ]
    },
    {
     "name": "stdout",
     "output_type": "stream",
     "text": [
      "done.\n",
      "D:/Dev/project/roofcounting/data/train_data/images\\Image_61.png\n",
      "(1056, 816)\n",
      "generate density...\n"
     ]
    },
    {
     "name": "stderr",
     "output_type": "stream",
     "text": [
      "C:\\Users\\jthe\\AppData\\Local\\Temp\\ipykernel_29360\\1350554050.py:25: DeprecationWarning: Please use `gaussian_filter` from the `scipy.ndimage` namespace, the `scipy.ndimage.filters` namespace is deprecated.\n",
      "  density += scipy.ndimage.filters.gaussian_filter(pt2d, sigma, mode='constant')\n"
     ]
    },
    {
     "name": "stdout",
     "output_type": "stream",
     "text": [
      "done.\n",
      "D:/Dev/project/roofcounting/data/train_data/images\\Image_62.png\n",
      "(1056, 816)\n",
      "generate density...\n"
     ]
    },
    {
     "name": "stderr",
     "output_type": "stream",
     "text": [
      "C:\\Users\\jthe\\AppData\\Local\\Temp\\ipykernel_29360\\1350554050.py:25: DeprecationWarning: Please use `gaussian_filter` from the `scipy.ndimage` namespace, the `scipy.ndimage.filters` namespace is deprecated.\n",
      "  density += scipy.ndimage.filters.gaussian_filter(pt2d, sigma, mode='constant')\n"
     ]
    },
    {
     "name": "stdout",
     "output_type": "stream",
     "text": [
      "done.\n",
      "D:/Dev/project/roofcounting/data/train_data/images\\Image_63.png\n",
      "(1056, 816)\n",
      "generate density...\n"
     ]
    },
    {
     "name": "stderr",
     "output_type": "stream",
     "text": [
      "C:\\Users\\jthe\\AppData\\Local\\Temp\\ipykernel_29360\\1350554050.py:25: DeprecationWarning: Please use `gaussian_filter` from the `scipy.ndimage` namespace, the `scipy.ndimage.filters` namespace is deprecated.\n",
      "  density += scipy.ndimage.filters.gaussian_filter(pt2d, sigma, mode='constant')\n"
     ]
    },
    {
     "name": "stdout",
     "output_type": "stream",
     "text": [
      "done.\n",
      "D:/Dev/project/roofcounting/data/train_data/images\\Image_64.png\n",
      "(1056, 816)\n",
      "generate density...\n"
     ]
    },
    {
     "name": "stderr",
     "output_type": "stream",
     "text": [
      "C:\\Users\\jthe\\AppData\\Local\\Temp\\ipykernel_29360\\1350554050.py:25: DeprecationWarning: Please use `gaussian_filter` from the `scipy.ndimage` namespace, the `scipy.ndimage.filters` namespace is deprecated.\n",
      "  density += scipy.ndimage.filters.gaussian_filter(pt2d, sigma, mode='constant')\n"
     ]
    },
    {
     "name": "stdout",
     "output_type": "stream",
     "text": [
      "done.\n",
      "D:/Dev/project/roofcounting/data/train_data/images\\Image_65.png\n",
      "(1056, 816)\n",
      "generate density...\n"
     ]
    },
    {
     "name": "stderr",
     "output_type": "stream",
     "text": [
      "C:\\Users\\jthe\\AppData\\Local\\Temp\\ipykernel_29360\\1350554050.py:25: DeprecationWarning: Please use `gaussian_filter` from the `scipy.ndimage` namespace, the `scipy.ndimage.filters` namespace is deprecated.\n",
      "  density += scipy.ndimage.filters.gaussian_filter(pt2d, sigma, mode='constant')\n"
     ]
    },
    {
     "ename": "OverflowError",
     "evalue": "cannot convert float infinity to integer",
     "output_type": "error",
     "traceback": [
      "\u001b[1;31m---------------------------------------------------------------------------\u001b[0m",
      "\u001b[1;31mOverflowError\u001b[0m                             Traceback (most recent call last)",
      "Cell \u001b[1;32mIn[5], line 14\u001b[0m\n\u001b[0;32m     12\u001b[0m     \u001b[38;5;28;01mif\u001b[39;00m \u001b[38;5;28mint\u001b[39m(gt[i][\u001b[38;5;241m1\u001b[39m])\u001b[38;5;241m<\u001b[39mimg\u001b[38;5;241m.\u001b[39mshape[\u001b[38;5;241m0\u001b[39m] \u001b[38;5;129;01mand\u001b[39;00m \u001b[38;5;28mint\u001b[39m(gt[i][\u001b[38;5;241m0\u001b[39m])\u001b[38;5;241m<\u001b[39mimg\u001b[38;5;241m.\u001b[39mshape[\u001b[38;5;241m1\u001b[39m]:\n\u001b[0;32m     13\u001b[0m         k[\u001b[38;5;28mint\u001b[39m(gt[i][\u001b[38;5;241m1\u001b[39m]), \u001b[38;5;28mint\u001b[39m(gt[i][\u001b[38;5;241m0\u001b[39m])] \u001b[38;5;241m=\u001b[39m \u001b[38;5;241m1\u001b[39m\n\u001b[1;32m---> 14\u001b[0m k \u001b[38;5;241m=\u001b[39m gaussian_filter_density(k)  \n\u001b[0;32m     15\u001b[0m \u001b[38;5;28;01mwith\u001b[39;00m h5py\u001b[38;5;241m.\u001b[39mFile(label_file\u001b[38;5;241m.\u001b[39mreplace(\u001b[38;5;124m'\u001b[39m\u001b[38;5;124m.png\u001b[39m\u001b[38;5;124m'\u001b[39m,\u001b[38;5;124m'\u001b[39m\u001b[38;5;124m.h5\u001b[39m\u001b[38;5;124m'\u001b[39m)\u001b[38;5;241m.\u001b[39mreplace(\u001b[38;5;124m'\u001b[39m\u001b[38;5;124mimages\u001b[39m\u001b[38;5;124m'\u001b[39m,\u001b[38;5;124m'\u001b[39m\u001b[38;5;124mground_truth\u001b[39m\u001b[38;5;124m'\u001b[39m), \u001b[38;5;124m'\u001b[39m\u001b[38;5;124mw\u001b[39m\u001b[38;5;124m'\u001b[39m) \u001b[38;5;28;01mas\u001b[39;00m hf:\n\u001b[0;32m     16\u001b[0m         hf[\u001b[38;5;124m'\u001b[39m\u001b[38;5;124mdensity\u001b[39m\u001b[38;5;124m'\u001b[39m] \u001b[38;5;241m=\u001b[39m k\n",
      "Cell \u001b[1;32mIn[2], line 25\u001b[0m, in \u001b[0;36mgaussian_filter_density\u001b[1;34m(gt)\u001b[0m\n\u001b[0;32m     23\u001b[0m     \u001b[38;5;28;01melse\u001b[39;00m:\n\u001b[0;32m     24\u001b[0m         sigma \u001b[38;5;241m=\u001b[39m np\u001b[38;5;241m.\u001b[39maverage(np\u001b[38;5;241m.\u001b[39marray(gt\u001b[38;5;241m.\u001b[39mshape))\u001b[38;5;241m/\u001b[39m\u001b[38;5;241m2.\u001b[39m\u001b[38;5;241m/\u001b[39m\u001b[38;5;241m2.\u001b[39m \u001b[38;5;66;03m#case: 1 point\u001b[39;00m\n\u001b[1;32m---> 25\u001b[0m     density \u001b[38;5;241m+\u001b[39m\u001b[38;5;241m=\u001b[39m scipy\u001b[38;5;241m.\u001b[39mndimage\u001b[38;5;241m.\u001b[39mfilters\u001b[38;5;241m.\u001b[39mgaussian_filter(pt2d, sigma, mode\u001b[38;5;241m=\u001b[39m\u001b[38;5;124m'\u001b[39m\u001b[38;5;124mconstant\u001b[39m\u001b[38;5;124m'\u001b[39m)\n\u001b[0;32m     26\u001b[0m \u001b[38;5;28mprint\u001b[39m(\u001b[38;5;124m'\u001b[39m\u001b[38;5;124mdone.\u001b[39m\u001b[38;5;124m'\u001b[39m)\n\u001b[0;32m     27\u001b[0m \u001b[38;5;28;01mreturn\u001b[39;00m density\n",
      "File \u001b[1;32m~\\anaconda3\\envs\\roofcount\\Lib\\site-packages\\scipy\\ndimage\\_filters.py:379\u001b[0m, in \u001b[0;36mgaussian_filter\u001b[1;34m(input, sigma, order, output, mode, cval, truncate, radius, axes)\u001b[0m\n\u001b[0;32m    377\u001b[0m \u001b[38;5;28;01mif\u001b[39;00m \u001b[38;5;28mlen\u001b[39m(axes) \u001b[38;5;241m>\u001b[39m \u001b[38;5;241m0\u001b[39m:\n\u001b[0;32m    378\u001b[0m     \u001b[38;5;28;01mfor\u001b[39;00m axis, sigma, order, mode, radius \u001b[38;5;129;01min\u001b[39;00m axes:\n\u001b[1;32m--> 379\u001b[0m         gaussian_filter1d(\u001b[38;5;28minput\u001b[39m, sigma, axis, order, output,\n\u001b[0;32m    380\u001b[0m                           mode, cval, truncate, radius\u001b[38;5;241m=\u001b[39mradius)\n\u001b[0;32m    381\u001b[0m         \u001b[38;5;28minput\u001b[39m \u001b[38;5;241m=\u001b[39m output\n\u001b[0;32m    382\u001b[0m \u001b[38;5;28;01melse\u001b[39;00m:\n",
      "File \u001b[1;32m~\\anaconda3\\envs\\roofcount\\Lib\\site-packages\\scipy\\ndimage\\_filters.py:270\u001b[0m, in \u001b[0;36mgaussian_filter1d\u001b[1;34m(input, sigma, axis, order, output, mode, cval, truncate, radius)\u001b[0m\n\u001b[0;32m    268\u001b[0m sd \u001b[38;5;241m=\u001b[39m \u001b[38;5;28mfloat\u001b[39m(sigma)\n\u001b[0;32m    269\u001b[0m \u001b[38;5;66;03m# make the radius of the filter equal to truncate standard deviations\u001b[39;00m\n\u001b[1;32m--> 270\u001b[0m lw \u001b[38;5;241m=\u001b[39m \u001b[38;5;28mint\u001b[39m(truncate \u001b[38;5;241m*\u001b[39m sd \u001b[38;5;241m+\u001b[39m \u001b[38;5;241m0.5\u001b[39m)\n\u001b[0;32m    271\u001b[0m \u001b[38;5;28;01mif\u001b[39;00m radius \u001b[38;5;129;01mis\u001b[39;00m \u001b[38;5;129;01mnot\u001b[39;00m \u001b[38;5;28;01mNone\u001b[39;00m:\n\u001b[0;32m    272\u001b[0m     lw \u001b[38;5;241m=\u001b[39m radius\n",
      "\u001b[1;31mOverflowError\u001b[0m: cannot convert float infinity to integer"
     ]
    }
   ],
   "source": [
    "for label_file in labelled_paths: \n",
    "    print(label_file)\n",
    "    img = plt.imread(label_file)\n",
    "    gt = pd.read_csv(label_file.replace(\".png\", \".csv\"))\n",
    "\n",
    "    #     gt = gt.to_numpy()\n",
    "    # need to remove index\n",
    "    gt = gt[['x','y']].to_numpy()\n",
    "\n",
    "    k = np.zeros((img.shape[0], img.shape[1]))\n",
    "    for i in range(0, len(gt)):\n",
    "        if int(gt[i][1])<img.shape[0] and int(gt[i][0])<img.shape[1]:\n",
    "            k[int(gt[i][1]), int(gt[i][0])] = 1\n",
    "    k = gaussian_filter_density(k)  \n",
    "    with h5py.File(label_file.replace('.png','.h5').replace('images','ground_truth'), 'w') as hf:\n",
    "            hf['density'] = k "
   ]
  },
  {
   "cell_type": "code",
   "execution_count": null,
   "id": "50f009a4",
   "metadata": {},
   "outputs": [],
   "source": [
    "## gaussian_filter will throw an error when there's less than 4 points (because k is set to 4)\n",
    "## we have to iterate dbf folder and check what is there and update the labelled"
   ]
  },
  {
   "cell_type": "code",
   "execution_count": 6,
   "id": "96d7e664",
   "metadata": {},
   "outputs": [
    {
     "data": {
      "text/plain": [
       "123"
      ]
     },
     "execution_count": 6,
     "metadata": {},
     "output_type": "execute_result"
    }
   ],
   "source": [
    "len(labelled_paths)"
   ]
  },
  {
   "cell_type": "code",
   "execution_count": 10,
   "id": "d1c10734",
   "metadata": {},
   "outputs": [
    {
     "name": "stdout",
     "output_type": "stream",
     "text": [
      "D:/Dev/project/roofcounting/data/train_data/images\\Image_43.png\n"
     ]
    },
    {
     "data": {
      "text/plain": [
       "<matplotlib.image.AxesImage at 0x24a0f10a050>"
      ]
     },
     "execution_count": 10,
     "metadata": {},
     "output_type": "execute_result"
    },
    {
     "data": {
      "image/png": "[encoded data removed]",
      "text/plain": [
       "<Figure size 640x480 with 1 Axes>"
      ]
     },
     "metadata": {},
     "output_type": "display_data"
    }
   ],
   "source": [
    "sanitycheck_path = labelled_paths[61]\n",
    "print(sanitycheck_path)\n",
    "plt.imshow(Image.open(sanitycheck_path))"
   ]
  },
  {
   "cell_type": "code",
   "execution_count": 11,
   "id": "47cb7dcd",
   "metadata": {},
   "outputs": [
    {
     "name": "stdout",
     "output_type": "stream",
     "text": [
      "49.642017\n"
     ]
    },
    {
     "data": {
      "image/png": "[encoded data removed]",
      "text/plain": [
       "<Figure size 640x480 with 1 Axes>"
      ]
     },
     "metadata": {},
     "output_type": "display_data"
    }
   ],
   "source": [
    "gt_file = h5py.File(sanitycheck_path.replace('.png','.h5').replace('images','ground_truth'),'r')\n",
    "groundtruth = np.asarray(gt_file['density'])\n",
    "plt.imshow(groundtruth,cmap=CM.jet)\n",
    "# don't mind this slight variation\n",
    "print(np.sum(groundtruth))"
   ]
  },
  {
   "cell_type": "code",
   "execution_count": 37,
   "id": "2c2986cc",
   "metadata": {},
   "outputs": [
    {
     "data": {
      "text/plain": [
       "343.17447"
      ]
     },
     "execution_count": 37,
     "metadata": {},
     "output_type": "execute_result"
    }
   ],
   "source": []
  },
  {
   "cell_type": "code",
   "execution_count": null,
   "id": "627c74fc",
   "metadata": {},
   "outputs": [],
   "source": []
  }
 ],
 "metadata": {
  "kernelspec": {
   "display_name": "Python 3 (ipykernel)",
   "language": "python",
   "name": "python3"
  },
  "language_info": {
   "codemirror_mode": {
    "name": "ipython",
    "version": 3
   },
   "file_extension": ".py",
   "mimetype": "text/x-python",
   "name": "python",
   "nbconvert_exporter": "python",
   "pygments_lexer": "ipython3",
   "version": "3.11.5"
  }
 },
 "nbformat": 4,
 "nbformat_minor": 5
}
