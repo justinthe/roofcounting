{
 "cells": [
  {
   "cell_type": "code",
   "execution_count": 1,
   "id": "ecb705e1",
   "metadata": {},
   "outputs": [
    {
     "name": "stderr",
     "output_type": "stream",
     "text": [
      "C:\\Users\\jthe\\AppData\\Local\\Temp\\ipykernel_14528\\3863198652.py:11: DeprecationWarning: Please use `gaussian_filter` from the `scipy.ndimage` namespace, the `scipy.ndimage.filters` namespace is deprecated.\n",
      "  from scipy.ndimage.filters import gaussian_filter\n"
     ]
    }
   ],
   "source": [
    "import os\n",
    "import glob\n",
    "import cv2\n",
    "import numpy as np\n",
    "import pandas as pd\n",
    "\n",
    "import h5py\n",
    "import scipy.io as io\n",
    "from PIL import Image\n",
    "from matplotlib import pyplot as plt\n",
    "from scipy.ndimage.filters import gaussian_filter \n",
    "import scipy\n",
    "from scipy import spatial\n",
    "import json\n",
    "from matplotlib import cm as CM\n",
    "from image import *\n",
    "# from model import CSRNet\n",
    "import torch\n",
    "%matplotlib inline\n",
    "\n",
    "from model import CSRNet"
   ]
  },
  {
   "cell_type": "code",
   "execution_count": 2,
   "id": "1a349617",
   "metadata": {},
   "outputs": [],
   "source": [
    "# this is borrowed from https://github.com/davideverona/deep-crowd-counting_crowdnet\n",
    "def gaussian_filter_density(gt):\n",
    "    print(gt.shape)\n",
    "    density = np.zeros(gt.shape, dtype=np.float32)\n",
    "    gt_count = np.count_nonzero(gt)\n",
    "    if gt_count == 0:\n",
    "        return density\n",
    "\n",
    "#     pts = np.array(zip(np.nonzero(gt)[1], np.nonzero(gt)[0]))\n",
    "    pts = np.array(list(zip(np.nonzero(gt)[1], np.nonzero(gt)[0])))\n",
    "    leafsize = 2048\n",
    "    # build kdtree\n",
    "    tree = scipy.spatial.KDTree(pts.copy(), leafsize=leafsize)\n",
    "    # query kdtree\n",
    "    distances, locations = tree.query(pts, k=4)\n",
    "\n",
    "    print('generate density...')\n",
    "    for i, pt in enumerate(pts):\n",
    "        pt2d = np.zeros(gt.shape, dtype=np.float32)\n",
    "        pt2d[pt[1],pt[0]] = 1.\n",
    "        if gt_count > 1:\n",
    "            sigma = (distances[i][1]+distances[i][2]+distances[i][3])*0.1\n",
    "        else:\n",
    "            sigma = np.average(np.array(gt.shape))/2./2. #case: 1 point\n",
    "        density += scipy.ndimage.filters.gaussian_filter(pt2d, sigma, mode='constant')\n",
    "    print('done.')\n",
    "    return density"
   ]
  },
  {
   "cell_type": "code",
   "execution_count": 3,
   "id": "55130921",
   "metadata": {},
   "outputs": [],
   "source": [
    "root = 'D:/Dev/project/roofcounting/'"
   ]
  },
  {
   "cell_type": "code",
   "execution_count": 7,
   "id": "d9807f32",
   "metadata": {},
   "outputs": [],
   "source": [
    "label = os.path.join(root, \"data/train_data/images\")        \n",
    "labelled_paths = []\n",
    "for path in glob.glob(os.path.join(label, \"*.png\")):\n",
    "    labelled_paths.append(path)"
   ]
  },
  {
   "cell_type": "code",
   "execution_count": 8,
   "id": "ccb22105",
   "metadata": {},
   "outputs": [
    {
     "name": "stdout",
     "output_type": "stream",
     "text": [
      "(816, 1056)\n",
      "generate density...\n"
     ]
    },
    {
     "name": "stderr",
     "output_type": "stream",
     "text": [
      "C:\\Users\\jthe\\AppData\\Local\\Temp\\ipykernel_14528\\1350554050.py:25: DeprecationWarning: Please use `gaussian_filter` from the `scipy.ndimage` namespace, the `scipy.ndimage.filters` namespace is deprecated.\n",
      "  density += scipy.ndimage.filters.gaussian_filter(pt2d, sigma, mode='constant')\n"
     ]
    },
    {
     "name": "stdout",
     "output_type": "stream",
     "text": [
      "done.\n",
      "(816, 1056)\n",
      "generate density...\n"
     ]
    },
    {
     "name": "stderr",
     "output_type": "stream",
     "text": [
      "C:\\Users\\jthe\\AppData\\Local\\Temp\\ipykernel_14528\\1350554050.py:25: DeprecationWarning: Please use `gaussian_filter` from the `scipy.ndimage` namespace, the `scipy.ndimage.filters` namespace is deprecated.\n",
      "  density += scipy.ndimage.filters.gaussian_filter(pt2d, sigma, mode='constant')\n"
     ]
    },
    {
     "name": "stdout",
     "output_type": "stream",
     "text": [
      "done.\n",
      "(816, 1056)\n",
      "generate density...\n"
     ]
    },
    {
     "name": "stderr",
     "output_type": "stream",
     "text": [
      "C:\\Users\\jthe\\AppData\\Local\\Temp\\ipykernel_14528\\1350554050.py:25: DeprecationWarning: Please use `gaussian_filter` from the `scipy.ndimage` namespace, the `scipy.ndimage.filters` namespace is deprecated.\n",
      "  density += scipy.ndimage.filters.gaussian_filter(pt2d, sigma, mode='constant')\n"
     ]
    },
    {
     "name": "stdout",
     "output_type": "stream",
     "text": [
      "done.\n",
      "(816, 1056)\n",
      "generate density...\n"
     ]
    },
    {
     "name": "stderr",
     "output_type": "stream",
     "text": [
      "C:\\Users\\jthe\\AppData\\Local\\Temp\\ipykernel_14528\\1350554050.py:25: DeprecationWarning: Please use `gaussian_filter` from the `scipy.ndimage` namespace, the `scipy.ndimage.filters` namespace is deprecated.\n",
      "  density += scipy.ndimage.filters.gaussian_filter(pt2d, sigma, mode='constant')\n"
     ]
    },
    {
     "name": "stdout",
     "output_type": "stream",
     "text": [
      "done.\n",
      "(816, 1056)\n",
      "generate density...\n"
     ]
    },
    {
     "name": "stderr",
     "output_type": "stream",
     "text": [
      "C:\\Users\\jthe\\AppData\\Local\\Temp\\ipykernel_14528\\1350554050.py:25: DeprecationWarning: Please use `gaussian_filter` from the `scipy.ndimage` namespace, the `scipy.ndimage.filters` namespace is deprecated.\n",
      "  density += scipy.ndimage.filters.gaussian_filter(pt2d, sigma, mode='constant')\n"
     ]
    },
    {
     "name": "stdout",
     "output_type": "stream",
     "text": [
      "done.\n",
      "(816, 1056)\n",
      "generate density...\n"
     ]
    },
    {
     "name": "stderr",
     "output_type": "stream",
     "text": [
      "C:\\Users\\jthe\\AppData\\Local\\Temp\\ipykernel_14528\\1350554050.py:25: DeprecationWarning: Please use `gaussian_filter` from the `scipy.ndimage` namespace, the `scipy.ndimage.filters` namespace is deprecated.\n",
      "  density += scipy.ndimage.filters.gaussian_filter(pt2d, sigma, mode='constant')\n"
     ]
    },
    {
     "name": "stdout",
     "output_type": "stream",
     "text": [
      "done.\n",
      "(816, 1056)\n",
      "generate density...\n"
     ]
    },
    {
     "name": "stderr",
     "output_type": "stream",
     "text": [
      "C:\\Users\\jthe\\AppData\\Local\\Temp\\ipykernel_14528\\1350554050.py:25: DeprecationWarning: Please use `gaussian_filter` from the `scipy.ndimage` namespace, the `scipy.ndimage.filters` namespace is deprecated.\n",
      "  density += scipy.ndimage.filters.gaussian_filter(pt2d, sigma, mode='constant')\n"
     ]
    },
    {
     "name": "stdout",
     "output_type": "stream",
     "text": [
      "done.\n",
      "(816, 1056)\n",
      "generate density...\n"
     ]
    },
    {
     "name": "stderr",
     "output_type": "stream",
     "text": [
      "C:\\Users\\jthe\\AppData\\Local\\Temp\\ipykernel_14528\\1350554050.py:25: DeprecationWarning: Please use `gaussian_filter` from the `scipy.ndimage` namespace, the `scipy.ndimage.filters` namespace is deprecated.\n",
      "  density += scipy.ndimage.filters.gaussian_filter(pt2d, sigma, mode='constant')\n"
     ]
    },
    {
     "name": "stdout",
     "output_type": "stream",
     "text": [
      "done.\n",
      "(816, 1056)\n",
      "generate density...\n"
     ]
    },
    {
     "name": "stderr",
     "output_type": "stream",
     "text": [
      "C:\\Users\\jthe\\AppData\\Local\\Temp\\ipykernel_14528\\1350554050.py:25: DeprecationWarning: Please use `gaussian_filter` from the `scipy.ndimage` namespace, the `scipy.ndimage.filters` namespace is deprecated.\n",
      "  density += scipy.ndimage.filters.gaussian_filter(pt2d, sigma, mode='constant')\n"
     ]
    },
    {
     "name": "stdout",
     "output_type": "stream",
     "text": [
      "done.\n",
      "(816, 1056)\n",
      "generate density...\n"
     ]
    },
    {
     "name": "stderr",
     "output_type": "stream",
     "text": [
      "C:\\Users\\jthe\\AppData\\Local\\Temp\\ipykernel_14528\\1350554050.py:25: DeprecationWarning: Please use `gaussian_filter` from the `scipy.ndimage` namespace, the `scipy.ndimage.filters` namespace is deprecated.\n",
      "  density += scipy.ndimage.filters.gaussian_filter(pt2d, sigma, mode='constant')\n"
     ]
    },
    {
     "name": "stdout",
     "output_type": "stream",
     "text": [
      "done.\n",
      "(816, 1056)\n",
      "generate density...\n"
     ]
    },
    {
     "name": "stderr",
     "output_type": "stream",
     "text": [
      "C:\\Users\\jthe\\AppData\\Local\\Temp\\ipykernel_14528\\1350554050.py:25: DeprecationWarning: Please use `gaussian_filter` from the `scipy.ndimage` namespace, the `scipy.ndimage.filters` namespace is deprecated.\n",
      "  density += scipy.ndimage.filters.gaussian_filter(pt2d, sigma, mode='constant')\n"
     ]
    },
    {
     "name": "stdout",
     "output_type": "stream",
     "text": [
      "done.\n",
      "(816, 1056)\n",
      "generate density...\n"
     ]
    },
    {
     "name": "stderr",
     "output_type": "stream",
     "text": [
      "C:\\Users\\jthe\\AppData\\Local\\Temp\\ipykernel_14528\\1350554050.py:25: DeprecationWarning: Please use `gaussian_filter` from the `scipy.ndimage` namespace, the `scipy.ndimage.filters` namespace is deprecated.\n",
      "  density += scipy.ndimage.filters.gaussian_filter(pt2d, sigma, mode='constant')\n"
     ]
    },
    {
     "name": "stdout",
     "output_type": "stream",
     "text": [
      "done.\n",
      "(816, 1056)\n",
      "generate density...\n"
     ]
    },
    {
     "name": "stderr",
     "output_type": "stream",
     "text": [
      "C:\\Users\\jthe\\AppData\\Local\\Temp\\ipykernel_14528\\1350554050.py:25: DeprecationWarning: Please use `gaussian_filter` from the `scipy.ndimage` namespace, the `scipy.ndimage.filters` namespace is deprecated.\n",
      "  density += scipy.ndimage.filters.gaussian_filter(pt2d, sigma, mode='constant')\n"
     ]
    },
    {
     "name": "stdout",
     "output_type": "stream",
     "text": [
      "done.\n",
      "(816, 1056)\n",
      "generate density...\n"
     ]
    },
    {
     "name": "stderr",
     "output_type": "stream",
     "text": [
      "C:\\Users\\jthe\\AppData\\Local\\Temp\\ipykernel_14528\\1350554050.py:25: DeprecationWarning: Please use `gaussian_filter` from the `scipy.ndimage` namespace, the `scipy.ndimage.filters` namespace is deprecated.\n",
      "  density += scipy.ndimage.filters.gaussian_filter(pt2d, sigma, mode='constant')\n"
     ]
    },
    {
     "name": "stdout",
     "output_type": "stream",
     "text": [
      "done.\n",
      "(816, 1056)\n",
      "generate density...\n"
     ]
    },
    {
     "name": "stderr",
     "output_type": "stream",
     "text": [
      "C:\\Users\\jthe\\AppData\\Local\\Temp\\ipykernel_14528\\1350554050.py:25: DeprecationWarning: Please use `gaussian_filter` from the `scipy.ndimage` namespace, the `scipy.ndimage.filters` namespace is deprecated.\n",
      "  density += scipy.ndimage.filters.gaussian_filter(pt2d, sigma, mode='constant')\n"
     ]
    },
    {
     "name": "stdout",
     "output_type": "stream",
     "text": [
      "done.\n",
      "(816, 1056)\n",
      "generate density...\n"
     ]
    },
    {
     "name": "stderr",
     "output_type": "stream",
     "text": [
      "C:\\Users\\jthe\\AppData\\Local\\Temp\\ipykernel_14528\\1350554050.py:25: DeprecationWarning: Please use `gaussian_filter` from the `scipy.ndimage` namespace, the `scipy.ndimage.filters` namespace is deprecated.\n",
      "  density += scipy.ndimage.filters.gaussian_filter(pt2d, sigma, mode='constant')\n"
     ]
    },
    {
     "name": "stdout",
     "output_type": "stream",
     "text": [
      "done.\n",
      "(816, 1056)\n",
      "generate density...\n",
      "done.\n",
      "(816, 1056)\n",
      "generate density...\n"
     ]
    },
    {
     "name": "stderr",
     "output_type": "stream",
     "text": [
      "C:\\Users\\jthe\\AppData\\Local\\Temp\\ipykernel_14528\\1350554050.py:25: DeprecationWarning: Please use `gaussian_filter` from the `scipy.ndimage` namespace, the `scipy.ndimage.filters` namespace is deprecated.\n",
      "  density += scipy.ndimage.filters.gaussian_filter(pt2d, sigma, mode='constant')\n",
      "C:\\Users\\jthe\\AppData\\Local\\Temp\\ipykernel_14528\\1350554050.py:25: DeprecationWarning: Please use `gaussian_filter` from the `scipy.ndimage` namespace, the `scipy.ndimage.filters` namespace is deprecated.\n",
      "  density += scipy.ndimage.filters.gaussian_filter(pt2d, sigma, mode='constant')\n"
     ]
    },
    {
     "name": "stdout",
     "output_type": "stream",
     "text": [
      "done.\n",
      "(816, 1056)\n",
      "generate density...\n"
     ]
    },
    {
     "name": "stderr",
     "output_type": "stream",
     "text": [
      "C:\\Users\\jthe\\AppData\\Local\\Temp\\ipykernel_14528\\1350554050.py:25: DeprecationWarning: Please use `gaussian_filter` from the `scipy.ndimage` namespace, the `scipy.ndimage.filters` namespace is deprecated.\n",
      "  density += scipy.ndimage.filters.gaussian_filter(pt2d, sigma, mode='constant')\n"
     ]
    },
    {
     "name": "stdout",
     "output_type": "stream",
     "text": [
      "done.\n",
      "(816, 1056)\n",
      "generate density...\n"
     ]
    },
    {
     "name": "stderr",
     "output_type": "stream",
     "text": [
      "C:\\Users\\jthe\\AppData\\Local\\Temp\\ipykernel_14528\\1350554050.py:25: DeprecationWarning: Please use `gaussian_filter` from the `scipy.ndimage` namespace, the `scipy.ndimage.filters` namespace is deprecated.\n",
      "  density += scipy.ndimage.filters.gaussian_filter(pt2d, sigma, mode='constant')\n"
     ]
    },
    {
     "name": "stdout",
     "output_type": "stream",
     "text": [
      "done.\n",
      "(816, 1056)\n",
      "generate density...\n"
     ]
    },
    {
     "name": "stderr",
     "output_type": "stream",
     "text": [
      "C:\\Users\\jthe\\AppData\\Local\\Temp\\ipykernel_14528\\1350554050.py:25: DeprecationWarning: Please use `gaussian_filter` from the `scipy.ndimage` namespace, the `scipy.ndimage.filters` namespace is deprecated.\n",
      "  density += scipy.ndimage.filters.gaussian_filter(pt2d, sigma, mode='constant')\n"
     ]
    },
    {
     "name": "stdout",
     "output_type": "stream",
     "text": [
      "done.\n",
      "(816, 1056)\n",
      "generate density...\n"
     ]
    },
    {
     "name": "stderr",
     "output_type": "stream",
     "text": [
      "C:\\Users\\jthe\\AppData\\Local\\Temp\\ipykernel_14528\\1350554050.py:25: DeprecationWarning: Please use `gaussian_filter` from the `scipy.ndimage` namespace, the `scipy.ndimage.filters` namespace is deprecated.\n",
      "  density += scipy.ndimage.filters.gaussian_filter(pt2d, sigma, mode='constant')\n"
     ]
    },
    {
     "name": "stdout",
     "output_type": "stream",
     "text": [
      "done.\n",
      "(816, 1056)\n",
      "generate density...\n"
     ]
    },
    {
     "name": "stderr",
     "output_type": "stream",
     "text": [
      "C:\\Users\\jthe\\AppData\\Local\\Temp\\ipykernel_14528\\1350554050.py:25: DeprecationWarning: Please use `gaussian_filter` from the `scipy.ndimage` namespace, the `scipy.ndimage.filters` namespace is deprecated.\n",
      "  density += scipy.ndimage.filters.gaussian_filter(pt2d, sigma, mode='constant')\n"
     ]
    },
    {
     "name": "stdout",
     "output_type": "stream",
     "text": [
      "done.\n",
      "(816, 1056)\n",
      "generate density...\n"
     ]
    },
    {
     "name": "stderr",
     "output_type": "stream",
     "text": [
      "C:\\Users\\jthe\\AppData\\Local\\Temp\\ipykernel_14528\\1350554050.py:25: DeprecationWarning: Please use `gaussian_filter` from the `scipy.ndimage` namespace, the `scipy.ndimage.filters` namespace is deprecated.\n",
      "  density += scipy.ndimage.filters.gaussian_filter(pt2d, sigma, mode='constant')\n"
     ]
    },
    {
     "name": "stdout",
     "output_type": "stream",
     "text": [
      "done.\n",
      "(816, 1056)\n",
      "generate density...\n"
     ]
    },
    {
     "name": "stderr",
     "output_type": "stream",
     "text": [
      "C:\\Users\\jthe\\AppData\\Local\\Temp\\ipykernel_14528\\1350554050.py:25: DeprecationWarning: Please use `gaussian_filter` from the `scipy.ndimage` namespace, the `scipy.ndimage.filters` namespace is deprecated.\n",
      "  density += scipy.ndimage.filters.gaussian_filter(pt2d, sigma, mode='constant')\n"
     ]
    },
    {
     "name": "stdout",
     "output_type": "stream",
     "text": [
      "done.\n",
      "(816, 1056)\n",
      "generate density...\n"
     ]
    },
    {
     "name": "stderr",
     "output_type": "stream",
     "text": [
      "C:\\Users\\jthe\\AppData\\Local\\Temp\\ipykernel_14528\\1350554050.py:25: DeprecationWarning: Please use `gaussian_filter` from the `scipy.ndimage` namespace, the `scipy.ndimage.filters` namespace is deprecated.\n",
      "  density += scipy.ndimage.filters.gaussian_filter(pt2d, sigma, mode='constant')\n"
     ]
    },
    {
     "name": "stdout",
     "output_type": "stream",
     "text": [
      "done.\n",
      "(816, 1056)\n",
      "generate density...\n"
     ]
    },
    {
     "name": "stderr",
     "output_type": "stream",
     "text": [
      "C:\\Users\\jthe\\AppData\\Local\\Temp\\ipykernel_14528\\1350554050.py:25: DeprecationWarning: Please use `gaussian_filter` from the `scipy.ndimage` namespace, the `scipy.ndimage.filters` namespace is deprecated.\n",
      "  density += scipy.ndimage.filters.gaussian_filter(pt2d, sigma, mode='constant')\n"
     ]
    },
    {
     "name": "stdout",
     "output_type": "stream",
     "text": [
      "done.\n",
      "(816, 1056)\n",
      "generate density...\n"
     ]
    },
    {
     "name": "stderr",
     "output_type": "stream",
     "text": [
      "C:\\Users\\jthe\\AppData\\Local\\Temp\\ipykernel_14528\\1350554050.py:25: DeprecationWarning: Please use `gaussian_filter` from the `scipy.ndimage` namespace, the `scipy.ndimage.filters` namespace is deprecated.\n",
      "  density += scipy.ndimage.filters.gaussian_filter(pt2d, sigma, mode='constant')\n"
     ]
    },
    {
     "name": "stdout",
     "output_type": "stream",
     "text": [
      "done.\n",
      "(816, 1056)\n",
      "generate density...\n"
     ]
    },
    {
     "name": "stderr",
     "output_type": "stream",
     "text": [
      "C:\\Users\\jthe\\AppData\\Local\\Temp\\ipykernel_14528\\1350554050.py:25: DeprecationWarning: Please use `gaussian_filter` from the `scipy.ndimage` namespace, the `scipy.ndimage.filters` namespace is deprecated.\n",
      "  density += scipy.ndimage.filters.gaussian_filter(pt2d, sigma, mode='constant')\n"
     ]
    },
    {
     "name": "stdout",
     "output_type": "stream",
     "text": [
      "done.\n",
      "(816, 1056)\n",
      "generate density...\n"
     ]
    },
    {
     "name": "stderr",
     "output_type": "stream",
     "text": [
      "C:\\Users\\jthe\\AppData\\Local\\Temp\\ipykernel_14528\\1350554050.py:25: DeprecationWarning: Please use `gaussian_filter` from the `scipy.ndimage` namespace, the `scipy.ndimage.filters` namespace is deprecated.\n",
      "  density += scipy.ndimage.filters.gaussian_filter(pt2d, sigma, mode='constant')\n"
     ]
    },
    {
     "name": "stdout",
     "output_type": "stream",
     "text": [
      "done.\n",
      "(816, 1056)\n",
      "generate density...\n"
     ]
    },
    {
     "name": "stderr",
     "output_type": "stream",
     "text": [
      "C:\\Users\\jthe\\AppData\\Local\\Temp\\ipykernel_14528\\1350554050.py:25: DeprecationWarning: Please use `gaussian_filter` from the `scipy.ndimage` namespace, the `scipy.ndimage.filters` namespace is deprecated.\n",
      "  density += scipy.ndimage.filters.gaussian_filter(pt2d, sigma, mode='constant')\n"
     ]
    },
    {
     "name": "stdout",
     "output_type": "stream",
     "text": [
      "done.\n",
      "(816, 1056)\n",
      "generate density...\n"
     ]
    },
    {
     "name": "stderr",
     "output_type": "stream",
     "text": [
      "C:\\Users\\jthe\\AppData\\Local\\Temp\\ipykernel_14528\\1350554050.py:25: DeprecationWarning: Please use `gaussian_filter` from the `scipy.ndimage` namespace, the `scipy.ndimage.filters` namespace is deprecated.\n",
      "  density += scipy.ndimage.filters.gaussian_filter(pt2d, sigma, mode='constant')\n"
     ]
    },
    {
     "name": "stdout",
     "output_type": "stream",
     "text": [
      "done.\n",
      "(816, 1056)\n",
      "generate density...\n"
     ]
    },
    {
     "name": "stderr",
     "output_type": "stream",
     "text": [
      "C:\\Users\\jthe\\AppData\\Local\\Temp\\ipykernel_14528\\1350554050.py:25: DeprecationWarning: Please use `gaussian_filter` from the `scipy.ndimage` namespace, the `scipy.ndimage.filters` namespace is deprecated.\n",
      "  density += scipy.ndimage.filters.gaussian_filter(pt2d, sigma, mode='constant')\n"
     ]
    },
    {
     "name": "stdout",
     "output_type": "stream",
     "text": [
      "done.\n",
      "(816, 1056)\n",
      "generate density...\n"
     ]
    },
    {
     "name": "stderr",
     "output_type": "stream",
     "text": [
      "C:\\Users\\jthe\\AppData\\Local\\Temp\\ipykernel_14528\\1350554050.py:25: DeprecationWarning: Please use `gaussian_filter` from the `scipy.ndimage` namespace, the `scipy.ndimage.filters` namespace is deprecated.\n",
      "  density += scipy.ndimage.filters.gaussian_filter(pt2d, sigma, mode='constant')\n"
     ]
    },
    {
     "name": "stdout",
     "output_type": "stream",
     "text": [
      "done.\n",
      "(816, 1056)\n",
      "generate density...\n"
     ]
    },
    {
     "name": "stderr",
     "output_type": "stream",
     "text": [
      "C:\\Users\\jthe\\AppData\\Local\\Temp\\ipykernel_14528\\1350554050.py:25: DeprecationWarning: Please use `gaussian_filter` from the `scipy.ndimage` namespace, the `scipy.ndimage.filters` namespace is deprecated.\n",
      "  density += scipy.ndimage.filters.gaussian_filter(pt2d, sigma, mode='constant')\n"
     ]
    },
    {
     "name": "stdout",
     "output_type": "stream",
     "text": [
      "done.\n",
      "(816, 1056)\n",
      "generate density...\n"
     ]
    },
    {
     "name": "stderr",
     "output_type": "stream",
     "text": [
      "C:\\Users\\jthe\\AppData\\Local\\Temp\\ipykernel_14528\\1350554050.py:25: DeprecationWarning: Please use `gaussian_filter` from the `scipy.ndimage` namespace, the `scipy.ndimage.filters` namespace is deprecated.\n",
      "  density += scipy.ndimage.filters.gaussian_filter(pt2d, sigma, mode='constant')\n"
     ]
    },
    {
     "name": "stdout",
     "output_type": "stream",
     "text": [
      "done.\n",
      "(816, 1056)\n",
      "generate density...\n"
     ]
    },
    {
     "name": "stderr",
     "output_type": "stream",
     "text": [
      "C:\\Users\\jthe\\AppData\\Local\\Temp\\ipykernel_14528\\1350554050.py:25: DeprecationWarning: Please use `gaussian_filter` from the `scipy.ndimage` namespace, the `scipy.ndimage.filters` namespace is deprecated.\n",
      "  density += scipy.ndimage.filters.gaussian_filter(pt2d, sigma, mode='constant')\n"
     ]
    },
    {
     "name": "stdout",
     "output_type": "stream",
     "text": [
      "done.\n",
      "(816, 1056)\n",
      "generate density...\n"
     ]
    },
    {
     "name": "stderr",
     "output_type": "stream",
     "text": [
      "C:\\Users\\jthe\\AppData\\Local\\Temp\\ipykernel_14528\\1350554050.py:25: DeprecationWarning: Please use `gaussian_filter` from the `scipy.ndimage` namespace, the `scipy.ndimage.filters` namespace is deprecated.\n",
      "  density += scipy.ndimage.filters.gaussian_filter(pt2d, sigma, mode='constant')\n"
     ]
    },
    {
     "name": "stdout",
     "output_type": "stream",
     "text": [
      "done.\n",
      "(816, 1056)\n",
      "generate density...\n"
     ]
    },
    {
     "name": "stderr",
     "output_type": "stream",
     "text": [
      "C:\\Users\\jthe\\AppData\\Local\\Temp\\ipykernel_14528\\1350554050.py:25: DeprecationWarning: Please use `gaussian_filter` from the `scipy.ndimage` namespace, the `scipy.ndimage.filters` namespace is deprecated.\n",
      "  density += scipy.ndimage.filters.gaussian_filter(pt2d, sigma, mode='constant')\n"
     ]
    },
    {
     "name": "stdout",
     "output_type": "stream",
     "text": [
      "done.\n",
      "(816, 1056)\n",
      "generate density...\n"
     ]
    },
    {
     "name": "stderr",
     "output_type": "stream",
     "text": [
      "C:\\Users\\jthe\\AppData\\Local\\Temp\\ipykernel_14528\\1350554050.py:25: DeprecationWarning: Please use `gaussian_filter` from the `scipy.ndimage` namespace, the `scipy.ndimage.filters` namespace is deprecated.\n",
      "  density += scipy.ndimage.filters.gaussian_filter(pt2d, sigma, mode='constant')\n"
     ]
    },
    {
     "name": "stdout",
     "output_type": "stream",
     "text": [
      "done.\n",
      "(816, 1056)\n",
      "generate density...\n"
     ]
    },
    {
     "name": "stderr",
     "output_type": "stream",
     "text": [
      "C:\\Users\\jthe\\AppData\\Local\\Temp\\ipykernel_14528\\1350554050.py:25: DeprecationWarning: Please use `gaussian_filter` from the `scipy.ndimage` namespace, the `scipy.ndimage.filters` namespace is deprecated.\n",
      "  density += scipy.ndimage.filters.gaussian_filter(pt2d, sigma, mode='constant')\n"
     ]
    },
    {
     "name": "stdout",
     "output_type": "stream",
     "text": [
      "done.\n",
      "(816, 1056)\n",
      "generate density...\n"
     ]
    },
    {
     "name": "stderr",
     "output_type": "stream",
     "text": [
      "C:\\Users\\jthe\\AppData\\Local\\Temp\\ipykernel_14528\\1350554050.py:25: DeprecationWarning: Please use `gaussian_filter` from the `scipy.ndimage` namespace, the `scipy.ndimage.filters` namespace is deprecated.\n",
      "  density += scipy.ndimage.filters.gaussian_filter(pt2d, sigma, mode='constant')\n"
     ]
    },
    {
     "name": "stdout",
     "output_type": "stream",
     "text": [
      "done.\n",
      "(816, 1056)\n",
      "generate density...\n"
     ]
    },
    {
     "name": "stderr",
     "output_type": "stream",
     "text": [
      "C:\\Users\\jthe\\AppData\\Local\\Temp\\ipykernel_14528\\1350554050.py:25: DeprecationWarning: Please use `gaussian_filter` from the `scipy.ndimage` namespace, the `scipy.ndimage.filters` namespace is deprecated.\n",
      "  density += scipy.ndimage.filters.gaussian_filter(pt2d, sigma, mode='constant')\n"
     ]
    },
    {
     "name": "stdout",
     "output_type": "stream",
     "text": [
      "done.\n",
      "(816, 1056)\n",
      "generate density...\n"
     ]
    },
    {
     "name": "stderr",
     "output_type": "stream",
     "text": [
      "C:\\Users\\jthe\\AppData\\Local\\Temp\\ipykernel_14528\\1350554050.py:25: DeprecationWarning: Please use `gaussian_filter` from the `scipy.ndimage` namespace, the `scipy.ndimage.filters` namespace is deprecated.\n",
      "  density += scipy.ndimage.filters.gaussian_filter(pt2d, sigma, mode='constant')\n"
     ]
    },
    {
     "name": "stdout",
     "output_type": "stream",
     "text": [
      "done.\n",
      "(816, 1056)\n",
      "generate density...\n"
     ]
    },
    {
     "name": "stderr",
     "output_type": "stream",
     "text": [
      "C:\\Users\\jthe\\AppData\\Local\\Temp\\ipykernel_14528\\1350554050.py:25: DeprecationWarning: Please use `gaussian_filter` from the `scipy.ndimage` namespace, the `scipy.ndimage.filters` namespace is deprecated.\n",
      "  density += scipy.ndimage.filters.gaussian_filter(pt2d, sigma, mode='constant')\n"
     ]
    },
    {
     "name": "stdout",
     "output_type": "stream",
     "text": [
      "done.\n",
      "(816, 1056)\n",
      "generate density...\n"
     ]
    },
    {
     "name": "stderr",
     "output_type": "stream",
     "text": [
      "C:\\Users\\jthe\\AppData\\Local\\Temp\\ipykernel_14528\\1350554050.py:25: DeprecationWarning: Please use `gaussian_filter` from the `scipy.ndimage` namespace, the `scipy.ndimage.filters` namespace is deprecated.\n",
      "  density += scipy.ndimage.filters.gaussian_filter(pt2d, sigma, mode='constant')\n"
     ]
    },
    {
     "name": "stdout",
     "output_type": "stream",
     "text": [
      "done.\n",
      "(816, 1056)\n",
      "generate density...\n"
     ]
    },
    {
     "name": "stderr",
     "output_type": "stream",
     "text": [
      "C:\\Users\\jthe\\AppData\\Local\\Temp\\ipykernel_14528\\1350554050.py:25: DeprecationWarning: Please use `gaussian_filter` from the `scipy.ndimage` namespace, the `scipy.ndimage.filters` namespace is deprecated.\n",
      "  density += scipy.ndimage.filters.gaussian_filter(pt2d, sigma, mode='constant')\n"
     ]
    },
    {
     "name": "stdout",
     "output_type": "stream",
     "text": [
      "done.\n",
      "(816, 1056)\n",
      "generate density...\n"
     ]
    },
    {
     "name": "stderr",
     "output_type": "stream",
     "text": [
      "C:\\Users\\jthe\\AppData\\Local\\Temp\\ipykernel_14528\\1350554050.py:25: DeprecationWarning: Please use `gaussian_filter` from the `scipy.ndimage` namespace, the `scipy.ndimage.filters` namespace is deprecated.\n",
      "  density += scipy.ndimage.filters.gaussian_filter(pt2d, sigma, mode='constant')\n"
     ]
    },
    {
     "name": "stdout",
     "output_type": "stream",
     "text": [
      "done.\n",
      "(816, 1056)\n",
      "generate density...\n"
     ]
    },
    {
     "name": "stderr",
     "output_type": "stream",
     "text": [
      "C:\\Users\\jthe\\AppData\\Local\\Temp\\ipykernel_14528\\1350554050.py:25: DeprecationWarning: Please use `gaussian_filter` from the `scipy.ndimage` namespace, the `scipy.ndimage.filters` namespace is deprecated.\n",
      "  density += scipy.ndimage.filters.gaussian_filter(pt2d, sigma, mode='constant')\n"
     ]
    },
    {
     "name": "stdout",
     "output_type": "stream",
     "text": [
      "done.\n",
      "(816, 1056)\n",
      "generate density...\n"
     ]
    },
    {
     "name": "stderr",
     "output_type": "stream",
     "text": [
      "C:\\Users\\jthe\\AppData\\Local\\Temp\\ipykernel_14528\\1350554050.py:25: DeprecationWarning: Please use `gaussian_filter` from the `scipy.ndimage` namespace, the `scipy.ndimage.filters` namespace is deprecated.\n",
      "  density += scipy.ndimage.filters.gaussian_filter(pt2d, sigma, mode='constant')\n"
     ]
    },
    {
     "name": "stdout",
     "output_type": "stream",
     "text": [
      "done.\n",
      "(816, 1056)\n",
      "generate density...\n"
     ]
    },
    {
     "name": "stderr",
     "output_type": "stream",
     "text": [
      "C:\\Users\\jthe\\AppData\\Local\\Temp\\ipykernel_14528\\1350554050.py:25: DeprecationWarning: Please use `gaussian_filter` from the `scipy.ndimage` namespace, the `scipy.ndimage.filters` namespace is deprecated.\n",
      "  density += scipy.ndimage.filters.gaussian_filter(pt2d, sigma, mode='constant')\n"
     ]
    },
    {
     "name": "stdout",
     "output_type": "stream",
     "text": [
      "done.\n",
      "(816, 1056)\n",
      "generate density...\n"
     ]
    },
    {
     "name": "stderr",
     "output_type": "stream",
     "text": [
      "C:\\Users\\jthe\\AppData\\Local\\Temp\\ipykernel_14528\\1350554050.py:25: DeprecationWarning: Please use `gaussian_filter` from the `scipy.ndimage` namespace, the `scipy.ndimage.filters` namespace is deprecated.\n",
      "  density += scipy.ndimage.filters.gaussian_filter(pt2d, sigma, mode='constant')\n"
     ]
    },
    {
     "name": "stdout",
     "output_type": "stream",
     "text": [
      "done.\n",
      "(816, 1056)\n",
      "generate density...\n"
     ]
    },
    {
     "name": "stderr",
     "output_type": "stream",
     "text": [
      "C:\\Users\\jthe\\AppData\\Local\\Temp\\ipykernel_14528\\1350554050.py:25: DeprecationWarning: Please use `gaussian_filter` from the `scipy.ndimage` namespace, the `scipy.ndimage.filters` namespace is deprecated.\n",
      "  density += scipy.ndimage.filters.gaussian_filter(pt2d, sigma, mode='constant')\n"
     ]
    },
    {
     "name": "stdout",
     "output_type": "stream",
     "text": [
      "done.\n",
      "(816, 1056)\n",
      "generate density...\n"
     ]
    },
    {
     "name": "stderr",
     "output_type": "stream",
     "text": [
      "C:\\Users\\jthe\\AppData\\Local\\Temp\\ipykernel_14528\\1350554050.py:25: DeprecationWarning: Please use `gaussian_filter` from the `scipy.ndimage` namespace, the `scipy.ndimage.filters` namespace is deprecated.\n",
      "  density += scipy.ndimage.filters.gaussian_filter(pt2d, sigma, mode='constant')\n"
     ]
    },
    {
     "name": "stdout",
     "output_type": "stream",
     "text": [
      "done.\n",
      "(816, 1056)\n",
      "generate density...\n"
     ]
    },
    {
     "name": "stderr",
     "output_type": "stream",
     "text": [
      "C:\\Users\\jthe\\AppData\\Local\\Temp\\ipykernel_14528\\1350554050.py:25: DeprecationWarning: Please use `gaussian_filter` from the `scipy.ndimage` namespace, the `scipy.ndimage.filters` namespace is deprecated.\n",
      "  density += scipy.ndimage.filters.gaussian_filter(pt2d, sigma, mode='constant')\n"
     ]
    },
    {
     "name": "stdout",
     "output_type": "stream",
     "text": [
      "done.\n",
      "(816, 1056)\n",
      "generate density...\n"
     ]
    },
    {
     "name": "stderr",
     "output_type": "stream",
     "text": [
      "C:\\Users\\jthe\\AppData\\Local\\Temp\\ipykernel_14528\\1350554050.py:25: DeprecationWarning: Please use `gaussian_filter` from the `scipy.ndimage` namespace, the `scipy.ndimage.filters` namespace is deprecated.\n",
      "  density += scipy.ndimage.filters.gaussian_filter(pt2d, sigma, mode='constant')\n"
     ]
    },
    {
     "name": "stdout",
     "output_type": "stream",
     "text": [
      "done.\n",
      "(816, 1056)\n",
      "generate density...\n"
     ]
    },
    {
     "name": "stderr",
     "output_type": "stream",
     "text": [
      "C:\\Users\\jthe\\AppData\\Local\\Temp\\ipykernel_14528\\1350554050.py:25: DeprecationWarning: Please use `gaussian_filter` from the `scipy.ndimage` namespace, the `scipy.ndimage.filters` namespace is deprecated.\n",
      "  density += scipy.ndimage.filters.gaussian_filter(pt2d, sigma, mode='constant')\n"
     ]
    },
    {
     "name": "stdout",
     "output_type": "stream",
     "text": [
      "done.\n",
      "(816, 1056)\n",
      "generate density...\n"
     ]
    },
    {
     "name": "stderr",
     "output_type": "stream",
     "text": [
      "C:\\Users\\jthe\\AppData\\Local\\Temp\\ipykernel_14528\\1350554050.py:25: DeprecationWarning: Please use `gaussian_filter` from the `scipy.ndimage` namespace, the `scipy.ndimage.filters` namespace is deprecated.\n",
      "  density += scipy.ndimage.filters.gaussian_filter(pt2d, sigma, mode='constant')\n"
     ]
    },
    {
     "name": "stdout",
     "output_type": "stream",
     "text": [
      "done.\n",
      "(816, 1056)\n",
      "generate density...\n"
     ]
    },
    {
     "name": "stderr",
     "output_type": "stream",
     "text": [
      "C:\\Users\\jthe\\AppData\\Local\\Temp\\ipykernel_14528\\1350554050.py:25: DeprecationWarning: Please use `gaussian_filter` from the `scipy.ndimage` namespace, the `scipy.ndimage.filters` namespace is deprecated.\n",
      "  density += scipy.ndimage.filters.gaussian_filter(pt2d, sigma, mode='constant')\n"
     ]
    },
    {
     "name": "stdout",
     "output_type": "stream",
     "text": [
      "done.\n",
      "(816, 1056)\n",
      "generate density...\n"
     ]
    },
    {
     "name": "stderr",
     "output_type": "stream",
     "text": [
      "C:\\Users\\jthe\\AppData\\Local\\Temp\\ipykernel_14528\\1350554050.py:25: DeprecationWarning: Please use `gaussian_filter` from the `scipy.ndimage` namespace, the `scipy.ndimage.filters` namespace is deprecated.\n",
      "  density += scipy.ndimage.filters.gaussian_filter(pt2d, sigma, mode='constant')\n"
     ]
    },
    {
     "name": "stdout",
     "output_type": "stream",
     "text": [
      "done.\n",
      "(816, 1056)\n",
      "generate density...\n"
     ]
    },
    {
     "name": "stderr",
     "output_type": "stream",
     "text": [
      "C:\\Users\\jthe\\AppData\\Local\\Temp\\ipykernel_14528\\1350554050.py:25: DeprecationWarning: Please use `gaussian_filter` from the `scipy.ndimage` namespace, the `scipy.ndimage.filters` namespace is deprecated.\n",
      "  density += scipy.ndimage.filters.gaussian_filter(pt2d, sigma, mode='constant')\n"
     ]
    },
    {
     "name": "stdout",
     "output_type": "stream",
     "text": [
      "done.\n",
      "(816, 1056)\n",
      "generate density...\n"
     ]
    },
    {
     "name": "stderr",
     "output_type": "stream",
     "text": [
      "C:\\Users\\jthe\\AppData\\Local\\Temp\\ipykernel_14528\\1350554050.py:25: DeprecationWarning: Please use `gaussian_filter` from the `scipy.ndimage` namespace, the `scipy.ndimage.filters` namespace is deprecated.\n",
      "  density += scipy.ndimage.filters.gaussian_filter(pt2d, sigma, mode='constant')\n"
     ]
    },
    {
     "name": "stdout",
     "output_type": "stream",
     "text": [
      "done.\n",
      "(816, 1056)\n",
      "generate density...\n"
     ]
    },
    {
     "name": "stderr",
     "output_type": "stream",
     "text": [
      "C:\\Users\\jthe\\AppData\\Local\\Temp\\ipykernel_14528\\1350554050.py:25: DeprecationWarning: Please use `gaussian_filter` from the `scipy.ndimage` namespace, the `scipy.ndimage.filters` namespace is deprecated.\n",
      "  density += scipy.ndimage.filters.gaussian_filter(pt2d, sigma, mode='constant')\n"
     ]
    },
    {
     "name": "stdout",
     "output_type": "stream",
     "text": [
      "done.\n",
      "(816, 1056)\n",
      "generate density...\n"
     ]
    },
    {
     "name": "stderr",
     "output_type": "stream",
     "text": [
      "C:\\Users\\jthe\\AppData\\Local\\Temp\\ipykernel_14528\\1350554050.py:25: DeprecationWarning: Please use `gaussian_filter` from the `scipy.ndimage` namespace, the `scipy.ndimage.filters` namespace is deprecated.\n",
      "  density += scipy.ndimage.filters.gaussian_filter(pt2d, sigma, mode='constant')\n"
     ]
    },
    {
     "name": "stdout",
     "output_type": "stream",
     "text": [
      "done.\n",
      "(816, 1056)\n",
      "generate density...\n"
     ]
    },
    {
     "name": "stderr",
     "output_type": "stream",
     "text": [
      "C:\\Users\\jthe\\AppData\\Local\\Temp\\ipykernel_14528\\1350554050.py:25: DeprecationWarning: Please use `gaussian_filter` from the `scipy.ndimage` namespace, the `scipy.ndimage.filters` namespace is deprecated.\n",
      "  density += scipy.ndimage.filters.gaussian_filter(pt2d, sigma, mode='constant')\n"
     ]
    },
    {
     "name": "stdout",
     "output_type": "stream",
     "text": [
      "done.\n",
      "(816, 1056)\n",
      "generate density...\n"
     ]
    },
    {
     "name": "stderr",
     "output_type": "stream",
     "text": [
      "C:\\Users\\jthe\\AppData\\Local\\Temp\\ipykernel_14528\\1350554050.py:25: DeprecationWarning: Please use `gaussian_filter` from the `scipy.ndimage` namespace, the `scipy.ndimage.filters` namespace is deprecated.\n",
      "  density += scipy.ndimage.filters.gaussian_filter(pt2d, sigma, mode='constant')\n"
     ]
    },
    {
     "name": "stdout",
     "output_type": "stream",
     "text": [
      "done.\n",
      "(816, 1056)\n",
      "generate density...\n"
     ]
    },
    {
     "name": "stderr",
     "output_type": "stream",
     "text": [
      "C:\\Users\\jthe\\AppData\\Local\\Temp\\ipykernel_14528\\1350554050.py:25: DeprecationWarning: Please use `gaussian_filter` from the `scipy.ndimage` namespace, the `scipy.ndimage.filters` namespace is deprecated.\n",
      "  density += scipy.ndimage.filters.gaussian_filter(pt2d, sigma, mode='constant')\n"
     ]
    },
    {
     "name": "stdout",
     "output_type": "stream",
     "text": [
      "done.\n",
      "(816, 1056)\n",
      "generate density...\n"
     ]
    },
    {
     "name": "stderr",
     "output_type": "stream",
     "text": [
      "C:\\Users\\jthe\\AppData\\Local\\Temp\\ipykernel_14528\\1350554050.py:25: DeprecationWarning: Please use `gaussian_filter` from the `scipy.ndimage` namespace, the `scipy.ndimage.filters` namespace is deprecated.\n",
      "  density += scipy.ndimage.filters.gaussian_filter(pt2d, sigma, mode='constant')\n"
     ]
    },
    {
     "name": "stdout",
     "output_type": "stream",
     "text": [
      "done.\n",
      "(816, 1056)\n",
      "generate density...\n"
     ]
    },
    {
     "name": "stderr",
     "output_type": "stream",
     "text": [
      "C:\\Users\\jthe\\AppData\\Local\\Temp\\ipykernel_14528\\1350554050.py:25: DeprecationWarning: Please use `gaussian_filter` from the `scipy.ndimage` namespace, the `scipy.ndimage.filters` namespace is deprecated.\n",
      "  density += scipy.ndimage.filters.gaussian_filter(pt2d, sigma, mode='constant')\n"
     ]
    },
    {
     "name": "stdout",
     "output_type": "stream",
     "text": [
      "done.\n",
      "(816, 1056)\n",
      "generate density...\n"
     ]
    },
    {
     "name": "stderr",
     "output_type": "stream",
     "text": [
      "C:\\Users\\jthe\\AppData\\Local\\Temp\\ipykernel_14528\\1350554050.py:25: DeprecationWarning: Please use `gaussian_filter` from the `scipy.ndimage` namespace, the `scipy.ndimage.filters` namespace is deprecated.\n",
      "  density += scipy.ndimage.filters.gaussian_filter(pt2d, sigma, mode='constant')\n"
     ]
    },
    {
     "name": "stdout",
     "output_type": "stream",
     "text": [
      "done.\n",
      "(816, 1056)\n",
      "generate density...\n"
     ]
    },
    {
     "name": "stderr",
     "output_type": "stream",
     "text": [
      "C:\\Users\\jthe\\AppData\\Local\\Temp\\ipykernel_14528\\1350554050.py:25: DeprecationWarning: Please use `gaussian_filter` from the `scipy.ndimage` namespace, the `scipy.ndimage.filters` namespace is deprecated.\n",
      "  density += scipy.ndimage.filters.gaussian_filter(pt2d, sigma, mode='constant')\n"
     ]
    },
    {
     "name": "stdout",
     "output_type": "stream",
     "text": [
      "done.\n",
      "(816, 1056)\n",
      "generate density...\n"
     ]
    },
    {
     "name": "stderr",
     "output_type": "stream",
     "text": [
      "C:\\Users\\jthe\\AppData\\Local\\Temp\\ipykernel_14528\\1350554050.py:25: DeprecationWarning: Please use `gaussian_filter` from the `scipy.ndimage` namespace, the `scipy.ndimage.filters` namespace is deprecated.\n",
      "  density += scipy.ndimage.filters.gaussian_filter(pt2d, sigma, mode='constant')\n"
     ]
    },
    {
     "name": "stdout",
     "output_type": "stream",
     "text": [
      "done.\n",
      "(816, 1056)\n",
      "generate density...\n"
     ]
    },
    {
     "name": "stderr",
     "output_type": "stream",
     "text": [
      "C:\\Users\\jthe\\AppData\\Local\\Temp\\ipykernel_14528\\1350554050.py:25: DeprecationWarning: Please use `gaussian_filter` from the `scipy.ndimage` namespace, the `scipy.ndimage.filters` namespace is deprecated.\n",
      "  density += scipy.ndimage.filters.gaussian_filter(pt2d, sigma, mode='constant')\n"
     ]
    },
    {
     "name": "stdout",
     "output_type": "stream",
     "text": [
      "done.\n",
      "(816, 1056)\n",
      "generate density...\n"
     ]
    },
    {
     "name": "stderr",
     "output_type": "stream",
     "text": [
      "C:\\Users\\jthe\\AppData\\Local\\Temp\\ipykernel_14528\\1350554050.py:25: DeprecationWarning: Please use `gaussian_filter` from the `scipy.ndimage` namespace, the `scipy.ndimage.filters` namespace is deprecated.\n",
      "  density += scipy.ndimage.filters.gaussian_filter(pt2d, sigma, mode='constant')\n"
     ]
    },
    {
     "name": "stdout",
     "output_type": "stream",
     "text": [
      "done.\n",
      "(816, 1056)\n",
      "generate density...\n"
     ]
    },
    {
     "name": "stderr",
     "output_type": "stream",
     "text": [
      "C:\\Users\\jthe\\AppData\\Local\\Temp\\ipykernel_14528\\1350554050.py:25: DeprecationWarning: Please use `gaussian_filter` from the `scipy.ndimage` namespace, the `scipy.ndimage.filters` namespace is deprecated.\n",
      "  density += scipy.ndimage.filters.gaussian_filter(pt2d, sigma, mode='constant')\n"
     ]
    },
    {
     "name": "stdout",
     "output_type": "stream",
     "text": [
      "done.\n",
      "(816, 1056)\n",
      "generate density...\n"
     ]
    },
    {
     "name": "stderr",
     "output_type": "stream",
     "text": [
      "C:\\Users\\jthe\\AppData\\Local\\Temp\\ipykernel_14528\\1350554050.py:25: DeprecationWarning: Please use `gaussian_filter` from the `scipy.ndimage` namespace, the `scipy.ndimage.filters` namespace is deprecated.\n",
      "  density += scipy.ndimage.filters.gaussian_filter(pt2d, sigma, mode='constant')\n"
     ]
    },
    {
     "name": "stdout",
     "output_type": "stream",
     "text": [
      "done.\n",
      "(816, 1056)\n",
      "generate density...\n"
     ]
    },
    {
     "name": "stderr",
     "output_type": "stream",
     "text": [
      "C:\\Users\\jthe\\AppData\\Local\\Temp\\ipykernel_14528\\1350554050.py:25: DeprecationWarning: Please use `gaussian_filter` from the `scipy.ndimage` namespace, the `scipy.ndimage.filters` namespace is deprecated.\n",
      "  density += scipy.ndimage.filters.gaussian_filter(pt2d, sigma, mode='constant')\n"
     ]
    },
    {
     "name": "stdout",
     "output_type": "stream",
     "text": [
      "done.\n",
      "(816, 1056)\n",
      "generate density...\n"
     ]
    },
    {
     "name": "stderr",
     "output_type": "stream",
     "text": [
      "C:\\Users\\jthe\\AppData\\Local\\Temp\\ipykernel_14528\\1350554050.py:25: DeprecationWarning: Please use `gaussian_filter` from the `scipy.ndimage` namespace, the `scipy.ndimage.filters` namespace is deprecated.\n",
      "  density += scipy.ndimage.filters.gaussian_filter(pt2d, sigma, mode='constant')\n"
     ]
    },
    {
     "name": "stdout",
     "output_type": "stream",
     "text": [
      "done.\n",
      "(816, 1056)\n",
      "generate density...\n"
     ]
    },
    {
     "name": "stderr",
     "output_type": "stream",
     "text": [
      "C:\\Users\\jthe\\AppData\\Local\\Temp\\ipykernel_14528\\1350554050.py:25: DeprecationWarning: Please use `gaussian_filter` from the `scipy.ndimage` namespace, the `scipy.ndimage.filters` namespace is deprecated.\n",
      "  density += scipy.ndimage.filters.gaussian_filter(pt2d, sigma, mode='constant')\n"
     ]
    },
    {
     "name": "stdout",
     "output_type": "stream",
     "text": [
      "done.\n",
      "(816, 1056)\n",
      "generate density...\n"
     ]
    },
    {
     "name": "stderr",
     "output_type": "stream",
     "text": [
      "C:\\Users\\jthe\\AppData\\Local\\Temp\\ipykernel_14528\\1350554050.py:25: DeprecationWarning: Please use `gaussian_filter` from the `scipy.ndimage` namespace, the `scipy.ndimage.filters` namespace is deprecated.\n",
      "  density += scipy.ndimage.filters.gaussian_filter(pt2d, sigma, mode='constant')\n"
     ]
    },
    {
     "name": "stdout",
     "output_type": "stream",
     "text": [
      "done.\n",
      "(816, 1056)\n",
      "generate density...\n"
     ]
    },
    {
     "name": "stderr",
     "output_type": "stream",
     "text": [
      "C:\\Users\\jthe\\AppData\\Local\\Temp\\ipykernel_14528\\1350554050.py:25: DeprecationWarning: Please use `gaussian_filter` from the `scipy.ndimage` namespace, the `scipy.ndimage.filters` namespace is deprecated.\n",
      "  density += scipy.ndimage.filters.gaussian_filter(pt2d, sigma, mode='constant')\n"
     ]
    },
    {
     "name": "stdout",
     "output_type": "stream",
     "text": [
      "done.\n",
      "(816, 1056)\n",
      "generate density...\n"
     ]
    },
    {
     "name": "stderr",
     "output_type": "stream",
     "text": [
      "C:\\Users\\jthe\\AppData\\Local\\Temp\\ipykernel_14528\\1350554050.py:25: DeprecationWarning: Please use `gaussian_filter` from the `scipy.ndimage` namespace, the `scipy.ndimage.filters` namespace is deprecated.\n",
      "  density += scipy.ndimage.filters.gaussian_filter(pt2d, sigma, mode='constant')\n"
     ]
    },
    {
     "name": "stdout",
     "output_type": "stream",
     "text": [
      "done.\n",
      "(816, 1056)\n",
      "generate density...\n"
     ]
    },
    {
     "name": "stderr",
     "output_type": "stream",
     "text": [
      "C:\\Users\\jthe\\AppData\\Local\\Temp\\ipykernel_14528\\1350554050.py:25: DeprecationWarning: Please use `gaussian_filter` from the `scipy.ndimage` namespace, the `scipy.ndimage.filters` namespace is deprecated.\n",
      "  density += scipy.ndimage.filters.gaussian_filter(pt2d, sigma, mode='constant')\n"
     ]
    },
    {
     "name": "stdout",
     "output_type": "stream",
     "text": [
      "done.\n",
      "(816, 1056)\n",
      "generate density...\n"
     ]
    },
    {
     "name": "stderr",
     "output_type": "stream",
     "text": [
      "C:\\Users\\jthe\\AppData\\Local\\Temp\\ipykernel_14528\\1350554050.py:25: DeprecationWarning: Please use `gaussian_filter` from the `scipy.ndimage` namespace, the `scipy.ndimage.filters` namespace is deprecated.\n",
      "  density += scipy.ndimage.filters.gaussian_filter(pt2d, sigma, mode='constant')\n"
     ]
    },
    {
     "name": "stdout",
     "output_type": "stream",
     "text": [
      "done.\n",
      "(816, 1056)\n",
      "generate density...\n"
     ]
    },
    {
     "name": "stderr",
     "output_type": "stream",
     "text": [
      "C:\\Users\\jthe\\AppData\\Local\\Temp\\ipykernel_14528\\1350554050.py:25: DeprecationWarning: Please use `gaussian_filter` from the `scipy.ndimage` namespace, the `scipy.ndimage.filters` namespace is deprecated.\n",
      "  density += scipy.ndimage.filters.gaussian_filter(pt2d, sigma, mode='constant')\n"
     ]
    },
    {
     "name": "stdout",
     "output_type": "stream",
     "text": [
      "done.\n",
      "(816, 1056)\n",
      "generate density...\n"
     ]
    },
    {
     "name": "stderr",
     "output_type": "stream",
     "text": [
      "C:\\Users\\jthe\\AppData\\Local\\Temp\\ipykernel_14528\\1350554050.py:25: DeprecationWarning: Please use `gaussian_filter` from the `scipy.ndimage` namespace, the `scipy.ndimage.filters` namespace is deprecated.\n",
      "  density += scipy.ndimage.filters.gaussian_filter(pt2d, sigma, mode='constant')\n"
     ]
    },
    {
     "name": "stdout",
     "output_type": "stream",
     "text": [
      "done.\n",
      "(816, 1056)\n",
      "generate density...\n"
     ]
    },
    {
     "name": "stderr",
     "output_type": "stream",
     "text": [
      "C:\\Users\\jthe\\AppData\\Local\\Temp\\ipykernel_14528\\1350554050.py:25: DeprecationWarning: Please use `gaussian_filter` from the `scipy.ndimage` namespace, the `scipy.ndimage.filters` namespace is deprecated.\n",
      "  density += scipy.ndimage.filters.gaussian_filter(pt2d, sigma, mode='constant')\n"
     ]
    },
    {
     "name": "stdout",
     "output_type": "stream",
     "text": [
      "done.\n",
      "(816, 1056)\n",
      "generate density...\n"
     ]
    },
    {
     "name": "stderr",
     "output_type": "stream",
     "text": [
      "C:\\Users\\jthe\\AppData\\Local\\Temp\\ipykernel_14528\\1350554050.py:25: DeprecationWarning: Please use `gaussian_filter` from the `scipy.ndimage` namespace, the `scipy.ndimage.filters` namespace is deprecated.\n",
      "  density += scipy.ndimage.filters.gaussian_filter(pt2d, sigma, mode='constant')\n"
     ]
    },
    {
     "name": "stdout",
     "output_type": "stream",
     "text": [
      "done.\n",
      "(816, 1056)\n",
      "generate density...\n"
     ]
    },
    {
     "name": "stderr",
     "output_type": "stream",
     "text": [
      "C:\\Users\\jthe\\AppData\\Local\\Temp\\ipykernel_14528\\1350554050.py:25: DeprecationWarning: Please use `gaussian_filter` from the `scipy.ndimage` namespace, the `scipy.ndimage.filters` namespace is deprecated.\n",
      "  density += scipy.ndimage.filters.gaussian_filter(pt2d, sigma, mode='constant')\n"
     ]
    },
    {
     "name": "stdout",
     "output_type": "stream",
     "text": [
      "done.\n",
      "(816, 1056)\n",
      "generate density...\n"
     ]
    },
    {
     "name": "stderr",
     "output_type": "stream",
     "text": [
      "C:\\Users\\jthe\\AppData\\Local\\Temp\\ipykernel_14528\\1350554050.py:25: DeprecationWarning: Please use `gaussian_filter` from the `scipy.ndimage` namespace, the `scipy.ndimage.filters` namespace is deprecated.\n",
      "  density += scipy.ndimage.filters.gaussian_filter(pt2d, sigma, mode='constant')\n"
     ]
    },
    {
     "name": "stdout",
     "output_type": "stream",
     "text": [
      "done.\n",
      "(816, 1056)\n",
      "generate density...\n"
     ]
    },
    {
     "name": "stderr",
     "output_type": "stream",
     "text": [
      "C:\\Users\\jthe\\AppData\\Local\\Temp\\ipykernel_14528\\1350554050.py:25: DeprecationWarning: Please use `gaussian_filter` from the `scipy.ndimage` namespace, the `scipy.ndimage.filters` namespace is deprecated.\n",
      "  density += scipy.ndimage.filters.gaussian_filter(pt2d, sigma, mode='constant')\n"
     ]
    },
    {
     "name": "stdout",
     "output_type": "stream",
     "text": [
      "done.\n",
      "(816, 1056)\n",
      "generate density...\n"
     ]
    },
    {
     "name": "stderr",
     "output_type": "stream",
     "text": [
      "C:\\Users\\jthe\\AppData\\Local\\Temp\\ipykernel_14528\\1350554050.py:25: DeprecationWarning: Please use `gaussian_filter` from the `scipy.ndimage` namespace, the `scipy.ndimage.filters` namespace is deprecated.\n",
      "  density += scipy.ndimage.filters.gaussian_filter(pt2d, sigma, mode='constant')\n"
     ]
    },
    {
     "name": "stdout",
     "output_type": "stream",
     "text": [
      "done.\n",
      "(816, 1056)\n",
      "generate density...\n"
     ]
    },
    {
     "name": "stderr",
     "output_type": "stream",
     "text": [
      "C:\\Users\\jthe\\AppData\\Local\\Temp\\ipykernel_14528\\1350554050.py:25: DeprecationWarning: Please use `gaussian_filter` from the `scipy.ndimage` namespace, the `scipy.ndimage.filters` namespace is deprecated.\n",
      "  density += scipy.ndimage.filters.gaussian_filter(pt2d, sigma, mode='constant')\n"
     ]
    },
    {
     "name": "stdout",
     "output_type": "stream",
     "text": [
      "done.\n",
      "(816, 1056)\n",
      "generate density...\n"
     ]
    },
    {
     "name": "stderr",
     "output_type": "stream",
     "text": [
      "C:\\Users\\jthe\\AppData\\Local\\Temp\\ipykernel_14528\\1350554050.py:25: DeprecationWarning: Please use `gaussian_filter` from the `scipy.ndimage` namespace, the `scipy.ndimage.filters` namespace is deprecated.\n",
      "  density += scipy.ndimage.filters.gaussian_filter(pt2d, sigma, mode='constant')\n"
     ]
    },
    {
     "name": "stdout",
     "output_type": "stream",
     "text": [
      "done.\n",
      "(816, 1056)\n",
      "generate density...\n"
     ]
    },
    {
     "name": "stderr",
     "output_type": "stream",
     "text": [
      "C:\\Users\\jthe\\AppData\\Local\\Temp\\ipykernel_14528\\1350554050.py:25: DeprecationWarning: Please use `gaussian_filter` from the `scipy.ndimage` namespace, the `scipy.ndimage.filters` namespace is deprecated.\n",
      "  density += scipy.ndimage.filters.gaussian_filter(pt2d, sigma, mode='constant')\n"
     ]
    },
    {
     "name": "stdout",
     "output_type": "stream",
     "text": [
      "done.\n",
      "(816, 1056)\n",
      "generate density...\n"
     ]
    },
    {
     "name": "stderr",
     "output_type": "stream",
     "text": [
      "C:\\Users\\jthe\\AppData\\Local\\Temp\\ipykernel_14528\\1350554050.py:25: DeprecationWarning: Please use `gaussian_filter` from the `scipy.ndimage` namespace, the `scipy.ndimage.filters` namespace is deprecated.\n",
      "  density += scipy.ndimage.filters.gaussian_filter(pt2d, sigma, mode='constant')\n"
     ]
    },
    {
     "name": "stdout",
     "output_type": "stream",
     "text": [
      "done.\n",
      "(816, 1056)\n",
      "generate density...\n"
     ]
    },
    {
     "name": "stderr",
     "output_type": "stream",
     "text": [
      "C:\\Users\\jthe\\AppData\\Local\\Temp\\ipykernel_14528\\1350554050.py:25: DeprecationWarning: Please use `gaussian_filter` from the `scipy.ndimage` namespace, the `scipy.ndimage.filters` namespace is deprecated.\n",
      "  density += scipy.ndimage.filters.gaussian_filter(pt2d, sigma, mode='constant')\n"
     ]
    },
    {
     "name": "stdout",
     "output_type": "stream",
     "text": [
      "done.\n",
      "(816, 1056)\n",
      "generate density...\n"
     ]
    },
    {
     "name": "stderr",
     "output_type": "stream",
     "text": [
      "C:\\Users\\jthe\\AppData\\Local\\Temp\\ipykernel_14528\\1350554050.py:25: DeprecationWarning: Please use `gaussian_filter` from the `scipy.ndimage` namespace, the `scipy.ndimage.filters` namespace is deprecated.\n",
      "  density += scipy.ndimage.filters.gaussian_filter(pt2d, sigma, mode='constant')\n"
     ]
    },
    {
     "name": "stdout",
     "output_type": "stream",
     "text": [
      "done.\n",
      "(816, 1056)\n",
      "generate density...\n"
     ]
    },
    {
     "name": "stderr",
     "output_type": "stream",
     "text": [
      "C:\\Users\\jthe\\AppData\\Local\\Temp\\ipykernel_14528\\1350554050.py:25: DeprecationWarning: Please use `gaussian_filter` from the `scipy.ndimage` namespace, the `scipy.ndimage.filters` namespace is deprecated.\n",
      "  density += scipy.ndimage.filters.gaussian_filter(pt2d, sigma, mode='constant')\n"
     ]
    },
    {
     "name": "stdout",
     "output_type": "stream",
     "text": [
      "done.\n",
      "(816, 1056)\n",
      "generate density...\n"
     ]
    },
    {
     "name": "stderr",
     "output_type": "stream",
     "text": [
      "C:\\Users\\jthe\\AppData\\Local\\Temp\\ipykernel_14528\\1350554050.py:25: DeprecationWarning: Please use `gaussian_filter` from the `scipy.ndimage` namespace, the `scipy.ndimage.filters` namespace is deprecated.\n",
      "  density += scipy.ndimage.filters.gaussian_filter(pt2d, sigma, mode='constant')\n"
     ]
    },
    {
     "name": "stdout",
     "output_type": "stream",
     "text": [
      "done.\n",
      "(816, 1056)\n",
      "generate density...\n"
     ]
    },
    {
     "name": "stderr",
     "output_type": "stream",
     "text": [
      "C:\\Users\\jthe\\AppData\\Local\\Temp\\ipykernel_14528\\1350554050.py:25: DeprecationWarning: Please use `gaussian_filter` from the `scipy.ndimage` namespace, the `scipy.ndimage.filters` namespace is deprecated.\n",
      "  density += scipy.ndimage.filters.gaussian_filter(pt2d, sigma, mode='constant')\n"
     ]
    },
    {
     "name": "stdout",
     "output_type": "stream",
     "text": [
      "done.\n",
      "(816, 1056)\n",
      "generate density...\n"
     ]
    },
    {
     "name": "stderr",
     "output_type": "stream",
     "text": [
      "C:\\Users\\jthe\\AppData\\Local\\Temp\\ipykernel_14528\\1350554050.py:25: DeprecationWarning: Please use `gaussian_filter` from the `scipy.ndimage` namespace, the `scipy.ndimage.filters` namespace is deprecated.\n",
      "  density += scipy.ndimage.filters.gaussian_filter(pt2d, sigma, mode='constant')\n"
     ]
    },
    {
     "name": "stdout",
     "output_type": "stream",
     "text": [
      "done.\n",
      "(816, 1056)\n",
      "generate density...\n"
     ]
    },
    {
     "name": "stderr",
     "output_type": "stream",
     "text": [
      "C:\\Users\\jthe\\AppData\\Local\\Temp\\ipykernel_14528\\1350554050.py:25: DeprecationWarning: Please use `gaussian_filter` from the `scipy.ndimage` namespace, the `scipy.ndimage.filters` namespace is deprecated.\n",
      "  density += scipy.ndimage.filters.gaussian_filter(pt2d, sigma, mode='constant')\n"
     ]
    },
    {
     "name": "stdout",
     "output_type": "stream",
     "text": [
      "done.\n",
      "(816, 1056)\n",
      "generate density...\n"
     ]
    },
    {
     "name": "stderr",
     "output_type": "stream",
     "text": [
      "C:\\Users\\jthe\\AppData\\Local\\Temp\\ipykernel_14528\\1350554050.py:25: DeprecationWarning: Please use `gaussian_filter` from the `scipy.ndimage` namespace, the `scipy.ndimage.filters` namespace is deprecated.\n",
      "  density += scipy.ndimage.filters.gaussian_filter(pt2d, sigma, mode='constant')\n"
     ]
    },
    {
     "name": "stdout",
     "output_type": "stream",
     "text": [
      "done.\n",
      "(816, 1056)\n",
      "generate density...\n"
     ]
    },
    {
     "name": "stderr",
     "output_type": "stream",
     "text": [
      "C:\\Users\\jthe\\AppData\\Local\\Temp\\ipykernel_14528\\1350554050.py:25: DeprecationWarning: Please use `gaussian_filter` from the `scipy.ndimage` namespace, the `scipy.ndimage.filters` namespace is deprecated.\n",
      "  density += scipy.ndimage.filters.gaussian_filter(pt2d, sigma, mode='constant')\n"
     ]
    },
    {
     "name": "stdout",
     "output_type": "stream",
     "text": [
      "done.\n",
      "(816, 1056)\n",
      "generate density...\n"
     ]
    },
    {
     "name": "stderr",
     "output_type": "stream",
     "text": [
      "C:\\Users\\jthe\\AppData\\Local\\Temp\\ipykernel_14528\\1350554050.py:25: DeprecationWarning: Please use `gaussian_filter` from the `scipy.ndimage` namespace, the `scipy.ndimage.filters` namespace is deprecated.\n",
      "  density += scipy.ndimage.filters.gaussian_filter(pt2d, sigma, mode='constant')\n"
     ]
    },
    {
     "name": "stdout",
     "output_type": "stream",
     "text": [
      "done.\n",
      "(816, 1056)\n",
      "generate density...\n"
     ]
    },
    {
     "name": "stderr",
     "output_type": "stream",
     "text": [
      "C:\\Users\\jthe\\AppData\\Local\\Temp\\ipykernel_14528\\1350554050.py:25: DeprecationWarning: Please use `gaussian_filter` from the `scipy.ndimage` namespace, the `scipy.ndimage.filters` namespace is deprecated.\n",
      "  density += scipy.ndimage.filters.gaussian_filter(pt2d, sigma, mode='constant')\n"
     ]
    },
    {
     "name": "stdout",
     "output_type": "stream",
     "text": [
      "done.\n",
      "(816, 1056)\n",
      "generate density...\n"
     ]
    },
    {
     "name": "stderr",
     "output_type": "stream",
     "text": [
      "C:\\Users\\jthe\\AppData\\Local\\Temp\\ipykernel_14528\\1350554050.py:25: DeprecationWarning: Please use `gaussian_filter` from the `scipy.ndimage` namespace, the `scipy.ndimage.filters` namespace is deprecated.\n",
      "  density += scipy.ndimage.filters.gaussian_filter(pt2d, sigma, mode='constant')\n"
     ]
    },
    {
     "name": "stdout",
     "output_type": "stream",
     "text": [
      "done.\n",
      "(816, 1056)\n",
      "generate density...\n",
      "done.\n",
      "(816, 1056)\n",
      "generate density...\n"
     ]
    },
    {
     "name": "stderr",
     "output_type": "stream",
     "text": [
      "C:\\Users\\jthe\\AppData\\Local\\Temp\\ipykernel_14528\\1350554050.py:25: DeprecationWarning: Please use `gaussian_filter` from the `scipy.ndimage` namespace, the `scipy.ndimage.filters` namespace is deprecated.\n",
      "  density += scipy.ndimage.filters.gaussian_filter(pt2d, sigma, mode='constant')\n",
      "C:\\Users\\jthe\\AppData\\Local\\Temp\\ipykernel_14528\\1350554050.py:25: DeprecationWarning: Please use `gaussian_filter` from the `scipy.ndimage` namespace, the `scipy.ndimage.filters` namespace is deprecated.\n",
      "  density += scipy.ndimage.filters.gaussian_filter(pt2d, sigma, mode='constant')\n"
     ]
    },
    {
     "name": "stdout",
     "output_type": "stream",
     "text": [
      "done.\n",
      "(816, 1056)\n",
      "generate density...\n"
     ]
    },
    {
     "name": "stderr",
     "output_type": "stream",
     "text": [
      "C:\\Users\\jthe\\AppData\\Local\\Temp\\ipykernel_14528\\1350554050.py:25: DeprecationWarning: Please use `gaussian_filter` from the `scipy.ndimage` namespace, the `scipy.ndimage.filters` namespace is deprecated.\n",
      "  density += scipy.ndimage.filters.gaussian_filter(pt2d, sigma, mode='constant')\n"
     ]
    },
    {
     "name": "stdout",
     "output_type": "stream",
     "text": [
      "done.\n",
      "(816, 1056)\n",
      "generate density...\n"
     ]
    },
    {
     "name": "stderr",
     "output_type": "stream",
     "text": [
      "C:\\Users\\jthe\\AppData\\Local\\Temp\\ipykernel_14528\\1350554050.py:25: DeprecationWarning: Please use `gaussian_filter` from the `scipy.ndimage` namespace, the `scipy.ndimage.filters` namespace is deprecated.\n",
      "  density += scipy.ndimage.filters.gaussian_filter(pt2d, sigma, mode='constant')\n"
     ]
    },
    {
     "name": "stdout",
     "output_type": "stream",
     "text": [
      "done.\n",
      "(816, 1056)\n",
      "generate density...\n"
     ]
    },
    {
     "name": "stderr",
     "output_type": "stream",
     "text": [
      "C:\\Users\\jthe\\AppData\\Local\\Temp\\ipykernel_14528\\1350554050.py:25: DeprecationWarning: Please use `gaussian_filter` from the `scipy.ndimage` namespace, the `scipy.ndimage.filters` namespace is deprecated.\n",
      "  density += scipy.ndimage.filters.gaussian_filter(pt2d, sigma, mode='constant')\n"
     ]
    },
    {
     "name": "stdout",
     "output_type": "stream",
     "text": [
      "done.\n",
      "(816, 1056)\n",
      "generate density...\n"
     ]
    },
    {
     "name": "stderr",
     "output_type": "stream",
     "text": [
      "C:\\Users\\jthe\\AppData\\Local\\Temp\\ipykernel_14528\\1350554050.py:25: DeprecationWarning: Please use `gaussian_filter` from the `scipy.ndimage` namespace, the `scipy.ndimage.filters` namespace is deprecated.\n",
      "  density += scipy.ndimage.filters.gaussian_filter(pt2d, sigma, mode='constant')\n"
     ]
    },
    {
     "name": "stdout",
     "output_type": "stream",
     "text": [
      "done.\n",
      "(816, 1056)\n",
      "generate density...\n"
     ]
    },
    {
     "name": "stderr",
     "output_type": "stream",
     "text": [
      "C:\\Users\\jthe\\AppData\\Local\\Temp\\ipykernel_14528\\1350554050.py:25: DeprecationWarning: Please use `gaussian_filter` from the `scipy.ndimage` namespace, the `scipy.ndimage.filters` namespace is deprecated.\n",
      "  density += scipy.ndimage.filters.gaussian_filter(pt2d, sigma, mode='constant')\n"
     ]
    },
    {
     "name": "stdout",
     "output_type": "stream",
     "text": [
      "done.\n",
      "(816, 1056)\n",
      "generate density...\n"
     ]
    },
    {
     "name": "stderr",
     "output_type": "stream",
     "text": [
      "C:\\Users\\jthe\\AppData\\Local\\Temp\\ipykernel_14528\\1350554050.py:25: DeprecationWarning: Please use `gaussian_filter` from the `scipy.ndimage` namespace, the `scipy.ndimage.filters` namespace is deprecated.\n",
      "  density += scipy.ndimage.filters.gaussian_filter(pt2d, sigma, mode='constant')\n"
     ]
    },
    {
     "name": "stdout",
     "output_type": "stream",
     "text": [
      "done.\n",
      "(816, 1056)\n",
      "generate density...\n"
     ]
    },
    {
     "name": "stderr",
     "output_type": "stream",
     "text": [
      "C:\\Users\\jthe\\AppData\\Local\\Temp\\ipykernel_14528\\1350554050.py:25: DeprecationWarning: Please use `gaussian_filter` from the `scipy.ndimage` namespace, the `scipy.ndimage.filters` namespace is deprecated.\n",
      "  density += scipy.ndimage.filters.gaussian_filter(pt2d, sigma, mode='constant')\n"
     ]
    },
    {
     "name": "stdout",
     "output_type": "stream",
     "text": [
      "done.\n",
      "(816, 1056)\n",
      "generate density...\n"
     ]
    },
    {
     "name": "stderr",
     "output_type": "stream",
     "text": [
      "C:\\Users\\jthe\\AppData\\Local\\Temp\\ipykernel_14528\\1350554050.py:25: DeprecationWarning: Please use `gaussian_filter` from the `scipy.ndimage` namespace, the `scipy.ndimage.filters` namespace is deprecated.\n",
      "  density += scipy.ndimage.filters.gaussian_filter(pt2d, sigma, mode='constant')\n"
     ]
    },
    {
     "name": "stdout",
     "output_type": "stream",
     "text": [
      "done.\n",
      "(816, 1056)\n",
      "generate density...\n"
     ]
    },
    {
     "name": "stderr",
     "output_type": "stream",
     "text": [
      "C:\\Users\\jthe\\AppData\\Local\\Temp\\ipykernel_14528\\1350554050.py:25: DeprecationWarning: Please use `gaussian_filter` from the `scipy.ndimage` namespace, the `scipy.ndimage.filters` namespace is deprecated.\n",
      "  density += scipy.ndimage.filters.gaussian_filter(pt2d, sigma, mode='constant')\n"
     ]
    },
    {
     "name": "stdout",
     "output_type": "stream",
     "text": [
      "done.\n",
      "(816, 1056)\n",
      "generate density...\n"
     ]
    },
    {
     "name": "stderr",
     "output_type": "stream",
     "text": [
      "C:\\Users\\jthe\\AppData\\Local\\Temp\\ipykernel_14528\\1350554050.py:25: DeprecationWarning: Please use `gaussian_filter` from the `scipy.ndimage` namespace, the `scipy.ndimage.filters` namespace is deprecated.\n",
      "  density += scipy.ndimage.filters.gaussian_filter(pt2d, sigma, mode='constant')\n"
     ]
    },
    {
     "name": "stdout",
     "output_type": "stream",
     "text": [
      "done.\n"
     ]
    }
   ],
   "source": [
    "for label_file in labelled_paths: \n",
    "#     print(label_file)\n",
    "    img = plt.imread(label_file)\n",
    "    gt = pd.read_csv(label_file.replace(\".png\", \".csv\"))\n",
    "    gt = gt.to_numpy()\n",
    "    k = np.zeros((img.shape[1], img.shape[0]))\n",
    "    for i in range(0, len(gt)):\n",
    "        if int(gt[i][1])<img.shape[1] and int(gt[i][0])<img.shape[0]:\n",
    "            k[int(gt[i][1]), int(gt[i][0])] = 1\n",
    "    k = gaussian_filter_density(k)  \n",
    "    with h5py.File(label_file.replace('.png','.h5').replace('images','ground_truth'), 'w') as hf:\n",
    "            hf['density'] = k "
   ]
  },
  {
   "cell_type": "code",
   "execution_count": 17,
   "id": "d1c10734",
   "metadata": {},
   "outputs": [
    {
     "name": "stdout",
     "output_type": "stream",
     "text": [
      "D:/Dev/project/roofcounting/data/train_data/images\\Image_63.png\n"
     ]
    },
    {
     "data": {
      "text/plain": [
       "<matplotlib.image.AxesImage at 0x147a9d44690>"
      ]
     },
     "execution_count": 17,
     "metadata": {},
     "output_type": "execute_result"
    },
    {
     "data": {
      "image/png": "[encoded data removed]",
      "text/plain": [
       "<Figure size 640x480 with 1 Axes>"
      ]
     },
     "metadata": {},
     "output_type": "display_data"
    }
   ],
   "source": [
    "sanitycheck_path = labelled_paths[80]\n",
    "print(sanitycheck_path)\n",
    "plt.imshow(Image.open(sanitycheck_path))"
   ]
  },
  {
   "cell_type": "code",
   "execution_count": 18,
   "id": "47cb7dcd",
   "metadata": {},
   "outputs": [
    {
     "name": "stdout",
     "output_type": "stream",
     "text": [
      "61.31147\n"
     ]
    },
    {
     "data": {
      "image/png": "[encoded data removed]",
      "text/plain": [
       "<Figure size 640x480 with 1 Axes>"
      ]
     },
     "metadata": {},
     "output_type": "display_data"
    }
   ],
   "source": [
    "gt_file = h5py.File(sanitycheck_path.replace('.png','.h5').replace('images','ground_truth'),'r')\n",
    "groundtruth = np.asarray(gt_file['density'])\n",
    "plt.imshow(groundtruth,cmap=CM.jet)\n",
    "# don't mind this slight variation\n",
    "print(np.sum(groundtruth))"
   ]
  },
  {
   "cell_type": "code",
   "execution_count": 37,
   "id": "2c2986cc",
   "metadata": {},
   "outputs": [
    {
     "data": {
      "text/plain": [
       "343.17447"
      ]
     },
     "execution_count": 37,
     "metadata": {},
     "output_type": "execute_result"
    }
   ],
   "source": []
  },
  {
   "cell_type": "code",
   "execution_count": null,
   "id": "627c74fc",
   "metadata": {},
   "outputs": [],
   "source": []
  }
 ],
 "metadata": {
  "kernelspec": {
   "display_name": "Python 3 (ipykernel)",
   "language": "python",
   "name": "python3"
  },
  "language_info": {
   "codemirror_mode": {
    "name": "ipython",
    "version": 3
   },
   "file_extension": ".py",
   "mimetype": "text/x-python",
   "name": "python",
   "nbconvert_exporter": "python",
   "pygments_lexer": "ipython3",
   "version": "3.11.5"
  }
 },
 "nbformat": 4,
 "nbformat_minor": 5
}
