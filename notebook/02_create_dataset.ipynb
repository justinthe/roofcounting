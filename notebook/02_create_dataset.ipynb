{
 "cells": [
  {
   "cell_type": "code",
   "execution_count": 1,
   "id": "ecb705e1",
   "metadata": {},
   "outputs": [
    {
     "name": "stderr",
     "output_type": "stream",
     "text": [
      "/home/user/anaconda3/envs/roofcounting/lib/python3.10/site-packages/torchvision/io/image.py:13: UserWarning: Failed to load image Python extension: libtorch_cuda_cu.so: cannot open shared object file: No such file or directory\n",
      "  warn(f\"Failed to load image Python extension: {e}\")\n"
     ]
    }
   ],
   "source": [
    "import os\n",
    "import glob\n",
    "import cv2\n",
    "import numpy as np\n",
    "import pandas as pd\n",
    "\n",
    "import h5py\n",
    "import scipy.io as io\n",
    "from PIL import Image\n",
    "from matplotlib import pyplot as plt\n",
    "from scipy.ndimage.filters import gaussian_filter \n",
    "import scipy\n",
    "from scipy import spatial\n",
    "import json\n",
    "from matplotlib import cm as CM\n",
    "from image import *\n",
    "# from model import CSRNet\n",
    "import torch\n",
    "%matplotlib inline\n",
    "\n",
    "from model import CSRNet"
   ]
  },
  {
   "cell_type": "code",
   "execution_count": 2,
   "id": "1a349617",
   "metadata": {},
   "outputs": [],
   "source": [
    "# this is borrowed from https://github.com/davideverona/deep-crowd-counting_crowdnet\n",
    "def gaussian_filter_density(gt):\n",
    "    print(gt.shape)\n",
    "    density = np.zeros(gt.shape, dtype=np.float32)\n",
    "    gt_count = np.count_nonzero(gt)\n",
    "    if gt_count == 0:\n",
    "        return density\n",
    "\n",
    "#     pts = np.array(zip(np.nonzero(gt)[1], np.nonzero(gt)[0]))\n",
    "    pts = np.array(list(zip(np.nonzero(gt)[1], np.nonzero(gt)[0])))\n",
    "    leafsize = 2048\n",
    "    # build kdtree\n",
    "    tree = scipy.spatial.KDTree(pts.copy(), leafsize=leafsize)\n",
    "    # query kdtree\n",
    "    distances, locations = tree.query(pts, k=4)\n",
    "\n",
    "    print('generate density...')\n",
    "    for i, pt in enumerate(pts):\n",
    "        pt2d = np.zeros(gt.shape, dtype=np.float32)\n",
    "        pt2d[pt[1],pt[0]] = 1.\n",
    "        if gt_count > 1:\n",
    "            sigma = (distances[i][1]+distances[i][2]+distances[i][3])*0.1\n",
    "        else:\n",
    "            sigma = np.average(np.array(gt.shape))/2./2. #case: 1 point\n",
    "        density += scipy.ndimage.filters.gaussian_filter(pt2d, sigma, mode='constant')\n",
    "    print('done.')\n",
    "    return density"
   ]
  },
  {
   "cell_type": "code",
   "execution_count": 3,
   "id": "55130921",
   "metadata": {},
   "outputs": [],
   "source": [
    "root = '/home/user/Dev/Git/roofcounting/'"
   ]
  },
  {
   "cell_type": "code",
   "execution_count": 4,
   "id": "d9807f32",
   "metadata": {},
   "outputs": [],
   "source": [
    "label = os.path.join(root, \"data/train_data/images\")        \n",
    "labelled_paths = []\n",
    "for path in glob.glob(os.path.join(label, \"*.jpg\")):\n",
    "    labelled_paths.append(path)"
   ]
  },
  {
   "cell_type": "code",
   "execution_count": 13,
   "id": "ccb22105",
   "metadata": {},
   "outputs": [
    {
     "name": "stdout",
     "output_type": "stream",
     "text": [
      "(532, 1066)\n",
      "generate density...\n",
      "done.\n",
      "(532, 1066)\n",
      "generate density...\n",
      "done.\n",
      "(532, 1066)\n",
      "generate density...\n",
      "done.\n",
      "(532, 1066)\n",
      "generate density...\n",
      "done.\n",
      "(532, 1066)\n",
      "generate density...\n",
      "done.\n",
      "(532, 1066)\n",
      "generate density...\n",
      "done.\n",
      "(532, 1066)\n",
      "generate density...\n",
      "done.\n",
      "(532, 1066)\n",
      "generate density...\n",
      "done.\n",
      "(532, 1066)\n",
      "generate density...\n",
      "done.\n",
      "(532, 1066)\n",
      "generate density...\n",
      "done.\n",
      "(532, 1066)\n",
      "generate density...\n",
      "done.\n",
      "(532, 1066)\n",
      "generate density...\n",
      "done.\n",
      "(532, 1066)\n",
      "generate density...\n",
      "done.\n",
      "(532, 1066)\n",
      "generate density...\n",
      "done.\n",
      "(532, 1066)\n",
      "generate density...\n",
      "done.\n"
     ]
    }
   ],
   "source": [
    "for label_file in labelled_paths: \n",
    "#     print(label_file)\n",
    "    img = plt.imread(label_file)\n",
    "    gt = pd.read_csv(label_file.replace(\".jpg\", \".csv\"))\n",
    "    gt = gt.to_numpy()\n",
    "    k = np.zeros((img.shape[0], img.shape[1]))\n",
    "    for i in range(0, len(gt)):\n",
    "        if int(gt[i][1])<img.shape[0] and int(gt[i][0])<img.shape[1]:\n",
    "            k[int(gt[i][1]), int(gt[i][0])] = 1\n",
    "    k = gaussian_filter_density(k)  \n",
    "    with h5py.File(label_file.replace('.jpg','.h5').replace('images','ground_truth'), 'w') as hf:\n",
    "            hf['density'] = k "
   ]
  }
 ],
 "metadata": {
  "kernelspec": {
   "display_name": "Python 3 (ipykernel)",
   "language": "python",
   "name": "python3"
  },
  "language_info": {
   "codemirror_mode": {
    "name": "ipython",
    "version": 3
   },
   "file_extension": ".py",
   "mimetype": "text/x-python",
   "name": "python",
   "nbconvert_exporter": "python",
   "pygments_lexer": "ipython3",
   "version": "3.10.11"
  }
 },
 "nbformat": 4,
 "nbformat_minor": 5
}
