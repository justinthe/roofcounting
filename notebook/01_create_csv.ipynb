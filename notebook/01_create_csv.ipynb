{
 "cells": [
  {
   "cell_type": "markdown",
   "id": "ac951be0",
   "metadata": {},
   "source": [
    "# Iterate folders"
   ]
  },
  {
   "cell_type": "code",
   "execution_count": 27,
   "id": "297fb9dc",
   "metadata": {},
   "outputs": [],
   "source": [
    "import os\n",
    "import glob\n",
    "import cv2\n",
    "import numpy as np\n",
    "import pandas as pd"
   ]
  },
  {
   "cell_type": "code",
   "execution_count": 5,
   "id": "19e5c57e",
   "metadata": {},
   "outputs": [],
   "source": [
    "root = '/home/user/Dev/Git/roofcounting/'\n",
    "# image_name = \"pasirsari_1_labeled\" \n",
    "# image_ext = \".png\"\n",
    "# image_ext = \".jpg\"\n",
    "# image_file = os.path.join(\"data/images/\", (image_name + image_ext))\n",
    "# image_path = os.path.join(root, image_file)\n",
    "# image = cv2.imread(image_path)\n",
    "# print(image_path)\n",
    "\n",
    "# train = os.path.join(root, \"data/train_data\",\"images\")\n",
    "# test = os.path.join(root, \"data/test_data\", \"images\")\n",
    "\n",
    "# path_sets = [train, test]"
   ]
  },
  {
   "cell_type": "code",
   "execution_count": 34,
   "id": "65a769da",
   "metadata": {},
   "outputs": [],
   "source": [
    "def pre_process(image):\n",
    "    # adaptive threshold as preprocessing -> looks for areas that are relatively brighter than the neighbouring pixels\n",
    "    blur_hor = cv2.filter2D(image[:, :, 0], cv2.CV_32F, kernel=np.ones((11,1,1), np.float32)/11.0, borderType=cv2.BORDER_CONSTANT)\n",
    "    blur_vert = cv2.filter2D(image[:, :, 0], cv2.CV_32F, kernel=np.ones((1,11,1), np.float32)/11.0, borderType=cv2.BORDER_CONSTANT)\n",
    "    mask = ((image[:,:,0]>blur_hor*1.2) | (image[:,:,0]>blur_vert*1.2)).astype(np.uint8)*255\n",
    "    return mask"
   ]
  },
  {
   "cell_type": "code",
   "execution_count": 22,
   "id": "eadc0bcc",
   "metadata": {},
   "outputs": [],
   "source": [
    "def hough_it_up(mask):\n",
    "    circles = cv2.HoughCircles(mask,\n",
    "                           cv2.HOUGH_GRADIENT,\n",
    "                           minDist=2,\n",
    "                           dp=1,\n",
    "                           param1=150,\n",
    "                           param2=12,\n",
    "                           minRadius=4,\n",
    "                           maxRadius=10)\n",
    "    return circles"
   ]
  },
  {
   "cell_type": "code",
   "execution_count": 24,
   "id": "77bcf87a",
   "metadata": {},
   "outputs": [],
   "source": [
    "def to_csv(circles, csv_name):\n",
    "    xy_array = []\n",
    "\n",
    "    for i in range(len(circles[0])):\n",
    "        xy = circles[0][i][0], circles[0][i][1]\n",
    "        xy_array.append(xy)\n",
    "\n",
    "    df = pd.DataFrame(xy_array, columns=[\"x\", \"y\"])\n",
    "    df.to_csv(csv_name, index=False)"
   ]
  },
  {
   "cell_type": "code",
   "execution_count": 19,
   "id": "03e2e3d4",
   "metadata": {},
   "outputs": [],
   "source": [
    "label = os.path.join(root, \"data/pts\")        \n",
    "labelled_paths = []\n",
    "for path in glob.glob(os.path.join(label, \"*.jpg\")):\n",
    "    labelled_paths.append(path)"
   ]
  },
  {
   "cell_type": "code",
   "execution_count": 36,
   "id": "e38e7783",
   "metadata": {},
   "outputs": [],
   "source": [
    "for label_file in labelled_paths: \n",
    "#     print(label_file)\n",
    "    image = cv2.imread(label_file)\n",
    "    mask = pre_process(image)\n",
    "    circles = hough_it_up(mask)\n",
    "    to_csv(circles, label_file.replace(\"_pts\", \"\").replace(\".jpg\", \".csv\"))"
   ]
  },
  {
   "cell_type": "markdown",
   "id": "e6315786",
   "metadata": {},
   "source": [
    "## Move csv to train_data folder"
   ]
  },
  {
   "cell_type": "code",
   "execution_count": 45,
   "id": "1c4e34cb",
   "metadata": {},
   "outputs": [
    {
     "data": {
      "text/plain": [
       "0"
      ]
     },
     "execution_count": 45,
     "metadata": {},
     "output_type": "execute_result"
    }
   ],
   "source": [
    "os.system(\"\"\"\n",
    "    mv ../data/pts/*.csv ../data/train_data/images\n",
    "\"\"\")"
   ]
  },
  {
   "cell_type": "code",
   "execution_count": null,
   "id": "6f8a229a",
   "metadata": {},
   "outputs": [],
   "source": []
  }
 ],
 "metadata": {
  "kernelspec": {
   "display_name": "Python 3 (ipykernel)",
   "language": "python",
   "name": "python3"
  },
  "language_info": {
   "codemirror_mode": {
    "name": "ipython",
    "version": 3
   },
   "file_extension": ".py",
   "mimetype": "text/x-python",
   "name": "python",
   "nbconvert_exporter": "python",
   "pygments_lexer": "ipython3",
   "version": "3.10.11"
  }
 },
 "nbformat": 4,
 "nbformat_minor": 5
}
